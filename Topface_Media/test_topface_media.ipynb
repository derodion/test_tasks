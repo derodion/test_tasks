{
  "cells": [
    {
      "cell_type": "markdown",
      "metadata": {
        "id": "mciRS5ZZ6mto"
      },
      "source": [
        "# Вопросы"
      ]
    },
    {
      "cell_type": "markdown",
      "metadata": {
        "id": "RSeRGGOV8p2t"
      },
      "source": [
        " ## Вопрос 1"
      ]
    },
    {
      "cell_type": "markdown",
      "metadata": {
        "id": "VcjoJvuiCT5h"
      },
      "source": [
        "Как хорошо Вы владеете Python? Оцените свой уровень по шкале от 0 до 10,\n",
        "где 0 - совсем не знаю, 10 - владею в совершенстве.\n"
      ]
    },
    {
      "cell_type": "markdown",
      "metadata": {
        "id": "7yiAv8jA6r49"
      },
      "source": [
        "Думаю, что владею Python на 7 баллов. Знаю библиотеку для работы с таблицами Pandas. Знаю библиотеки для работы с числами и визуализацией NumPy и Matplotlib. Знаю библиотеки для работы с машинным обуением и градиентным бустингом Sckit-Learn, CatBoost, LightGBM."
      ]
    },
    {
      "cell_type": "markdown",
      "metadata": {
        "id": "xrQsyiaX8ylR"
      },
      "source": [
        "## Вопрос 2"
      ]
    },
    {
      "cell_type": "markdown",
      "metadata": {
        "id": "2EllFaUzCWcB"
      },
      "source": [
        "Насколько хорошо Вы знакомы с Google Sheets? Оцените свой уровень по\n",
        "шкале от 0 до 10, где 0 - совсем не знаю, 10 - владею в совершенстве.\n"
      ]
    },
    {
      "cell_type": "markdown",
      "metadata": {
        "id": "SXep01Md75C8"
      },
      "source": [
        " Думаю, что владею Google Sheets на 5 баллов. Средний балл, так как пользовался крайне редко."
      ]
    },
    {
      "cell_type": "markdown",
      "metadata": {
        "id": "-gOEJ_tR8Tb-"
      },
      "source": [
        "# Задачи на логику"
      ]
    },
    {
      "cell_type": "markdown",
      "metadata": {
        "id": "Xk1jo-wJ8jZr"
      },
      "source": [
        "## Задача 1"
      ]
    },
    {
      "cell_type": "markdown",
      "metadata": {
        "id": "_NtY2lvRCQbg"
      },
      "source": [
        " Рекламная кампания стартовала вчера с дневным бюджетом 40 $. Половина\n",
        "бюджета была израсходована к полудню, а 80% оставшегося бюджета было\n",
        "потрачено между полуднем и временем закрытия. Сколько долларов не было\n",
        "потрачено?\n"
      ]
    },
    {
      "cell_type": "code",
      "execution_count": 139,
      "metadata": {
        "colab": {
          "base_uri": "https://localhost:8080/"
        },
        "id": "Do21hjqV8h2o",
        "outputId": "abdac31d-ac1d-4b7c-992e-b759a5dbfd2a"
      },
      "outputs": [
        {
          "output_type": "execute_result",
          "data": {
            "text/plain": [
              "20.0"
            ]
          },
          "metadata": {},
          "execution_count": 139
        }
      ],
      "source": [
        "# остаток бюджета к полудню\n",
        "a = 40 * 0.5\n",
        "a"
      ]
    },
    {
      "cell_type": "code",
      "execution_count": 140,
      "metadata": {
        "colab": {
          "base_uri": "https://localhost:8080/"
        },
        "id": "nmT72vUL9fCo",
        "outputId": "d5a61c56-fe13-41ef-e3f9-12cb939e986f"
      },
      "outputs": [
        {
          "output_type": "execute_result",
          "data": {
            "text/plain": [
              "4.0"
            ]
          },
          "metadata": {},
          "execution_count": 140
        }
      ],
      "source": [
        "# остаток бюджета к концу дня\n",
        "b = 20 - (20 * 0.8)\n",
        "b"
      ]
    },
    {
      "cell_type": "markdown",
      "metadata": {
        "id": "t4C7oSQX8jhl"
      },
      "source": [
        "## Задача 2"
      ]
    },
    {
      "cell_type": "markdown",
      "metadata": {
        "id": "TCz7kkLaCcm-"
      },
      "source": [
        " 5 идентичных рекламных кампаний работали 24 дня по 6 часов в день,\n",
        "потрачено было 120 долларов. Сколько дней они работали бы на 216 долларов,\n",
        "если бы 9 одинаковых кампаний работали бы по 8 часов в день?"
      ]
    },
    {
      "cell_type": "code",
      "execution_count": 141,
      "metadata": {
        "colab": {
          "base_uri": "https://localhost:8080/"
        },
        "id": "_jrJMd2Z-Z6_",
        "outputId": "c91d76f4-9e1e-402a-b5d0-fc5c9f5f3222"
      },
      "outputs": [
        {
          "output_type": "execute_result",
          "data": {
            "text/plain": [
              "0.16666666666666666"
            ]
          },
          "metadata": {},
          "execution_count": 141
        }
      ],
      "source": [
        " # сколько одна кампания тратит денег за час\n",
        " a = 120 / (5 * 6 * 24)\n",
        " a"
      ]
    },
    {
      "cell_type": "code",
      "execution_count": 142,
      "metadata": {
        "colab": {
          "base_uri": "https://localhost:8080/"
        },
        "id": "If6Y_7uUFpXr",
        "outputId": "fab80f0a-55b9-4a41-8b79-e1345fd8dc69"
      },
      "outputs": [
        {
          "output_type": "execute_result",
          "data": {
            "text/plain": [
              "12.0"
            ]
          },
          "metadata": {},
          "execution_count": 142
        }
      ],
      "source": [
        "# сколько тратит 9 кампаний по новым условим работы в день\n",
        "b = 9 * 8 * a\n",
        "b"
      ]
    },
    {
      "cell_type": "code",
      "execution_count": 143,
      "metadata": {
        "colab": {
          "base_uri": "https://localhost:8080/"
        },
        "id": "L3eXFfCu-xrC",
        "outputId": "719e0fd7-e1ff-49fb-943f-ac582cfd305b"
      },
      "outputs": [
        {
          "output_type": "execute_result",
          "data": {
            "text/plain": [
              "18.0"
            ]
          },
          "metadata": {},
          "execution_count": 143
        }
      ],
      "source": [
        "# сколько дней проработает кампания с бюджетом 216$\n",
        "c = 216 / b\n",
        "c"
      ]
    },
    {
      "cell_type": "markdown",
      "metadata": {
        "id": "3ogBypgI_vp5"
      },
      "source": [
        "# Задача 3"
      ]
    },
    {
      "cell_type": "markdown",
      "metadata": {
        "id": "v5F0W1oAHdvO"
      },
      "source": [
        "Дизайнеры создали 200 рекламных баннеров для двух рекламных кампаний. 80\n",
        "из них не использовались ни в кампании №1, ни в кампании №2, 60\n",
        "использовались только в кампании №1. И для каждого рекламного баннера,\n",
        "который использовался в обеих кампаниях, приходится 3 баннера, которые\n",
        "использовались только в кампании №2. Сколько баннеров было использовано в\n",
        "обеих рекламных кампаниях?"
      ]
    },
    {
      "cell_type": "code",
      "execution_count": 144,
      "metadata": {
        "colab": {
          "base_uri": "https://localhost:8080/"
        },
        "id": "f6dM5c5K_xND",
        "outputId": "86d35540-adba-4145-ec4c-db0d23cc530f"
      },
      "outputs": [
        {
          "output_type": "execute_result",
          "data": {
            "text/plain": [
              "120"
            ]
          },
          "metadata": {},
          "execution_count": 144
        }
      ],
      "source": [
        "# сколько баннеров использовали рекламные кампании\n",
        "a = 200 - 80\n",
        "a"
      ]
    },
    {
      "cell_type": "code",
      "execution_count": 145,
      "metadata": {
        "colab": {
          "base_uri": "https://localhost:8080/"
        },
        "id": "-0KeiT4iIG-x",
        "outputId": "19d53ddd-2a6a-44ee-e0cd-1ead094fd6c5"
      },
      "outputs": [
        {
          "output_type": "execute_result",
          "data": {
            "text/plain": [
              "60"
            ]
          },
          "metadata": {},
          "execution_count": 145
        }
      ],
      "source": [
        "# сколько баннеров использовалось только для второй и в обеих кампаниях\n",
        "b = 120 - 60\n",
        "b"
      ]
    },
    {
      "cell_type": "code",
      "execution_count": 146,
      "metadata": {
        "colab": {
          "base_uri": "https://localhost:8080/"
        },
        "id": "pxKHsUrwISR1",
        "outputId": "4f97cc0e-4c99-45b3-b4c7-481c8386fb41"
      },
      "outputs": [
        {
          "output_type": "execute_result",
          "data": {
            "text/plain": [
              "15.0"
            ]
          },
          "metadata": {},
          "execution_count": 146
        }
      ],
      "source": [
        "# составим уравнение, где x — количество баннеров, использованных в обеих кампаниях\n",
        "# x + 3 * x = 60\n",
        "x = 60 / 4\n",
        "x"
      ]
    },
    {
      "cell_type": "markdown",
      "metadata": {
        "id": "jSVA-GYhJmF6"
      },
      "source": [
        "## Задача 4"
      ]
    },
    {
      "cell_type": "markdown",
      "metadata": {
        "id": "ceY8o_dMJpGW"
      },
      "source": [
        "Энн использует Instagram, но не Facebook, а Джон использует Youtube и\n",
        "Facebook. Кейт использует Youtube, но не Instagram, а Том использует Facebook,\n",
        "но не Youtube. Если каждый человек использует две из трех социальных сетей,\n",
        "у кого предпочтения совпадают?\n"
      ]
    },
    {
      "cell_type": "markdown",
      "metadata": {
        "id": "raj5ekJbLhPP"
      },
      "source": [
        "Энн использует  Instagram и (Youtube)\n",
        "\n",
        "Джон использует Youtube и Facebook\n",
        "\n",
        "Кейт использует YouTube и (Facebook)\n",
        "\n",
        "Том использует  Factbook и (Instagram)"
      ]
    },
    {
      "cell_type": "markdown",
      "metadata": {
        "id": "FE1wkwxOLojW"
      },
      "source": [
        "Предпочтения совпадают у Джона и Кейта"
      ]
    },
    {
      "cell_type": "markdown",
      "metadata": {
        "id": "OhkG2R2MLwH7"
      },
      "source": [
        "## Задача 5"
      ]
    },
    {
      "cell_type": "markdown",
      "metadata": {
        "id": "DriwoeUqL0QT"
      },
      "source": [
        "Средний итоговый балл стажера по 4 модулям составляет 78 баллов. Сколько\n",
        "баллов должен получить стажер за 5-й модуль, чтобы средний балл по всему\n",
        "заданию составил 80?"
      ]
    },
    {
      "cell_type": "code",
      "execution_count": 147,
      "metadata": {
        "colab": {
          "base_uri": "https://localhost:8080/"
        },
        "id": "hGPWXyQFLeSC",
        "outputId": "74e070ca-05d3-4eb2-d374-09a13d3242f0"
      },
      "outputs": [
        {
          "output_type": "execute_result",
          "data": {
            "text/plain": [
              "312"
            ]
          },
          "metadata": {},
          "execution_count": 147
        }
      ],
      "source": [
        "# за 4 модуля\n",
        "a = 78 * 4\n",
        "a"
      ]
    },
    {
      "cell_type": "code",
      "execution_count": 148,
      "metadata": {
        "colab": {
          "base_uri": "https://localhost:8080/"
        },
        "id": "7qv2hmQMMUU9",
        "outputId": "d3f450df-c1d0-40d4-c5f8-8fb41915b02d"
      },
      "outputs": [
        {
          "output_type": "execute_result",
          "data": {
            "text/plain": [
              "88"
            ]
          },
          "metadata": {},
          "execution_count": 148
        }
      ],
      "source": [
        "# составим уравние, где # составим уравнение, где x — количество недостающих баллов за 1 модуль\n",
        "# (x + a) / 5 = 80\n",
        "x = (80 * 5) - a\n",
        "x"
      ]
    },
    {
      "cell_type": "markdown",
      "metadata": {
        "id": "rlKY9mQKNYT5"
      },
      "source": [
        "## Задача 6"
      ]
    },
    {
      "cell_type": "markdown",
      "metadata": {
        "id": "CWxcTA_WNcBT"
      },
      "source": [
        " Заказанные в приложении товары доставляются на автомобиле. Автомобиль\n",
        "проезжает 260 км со средней скоростью 80 км / ч. На обратном пути машина\n",
        "движется со средней скоростью 100 км / ч. Насколько быстрее был обратный\n",
        "путь? Ответ указать в минутах."
      ]
    },
    {
      "cell_type": "code",
      "execution_count": 149,
      "metadata": {
        "colab": {
          "base_uri": "https://localhost:8080/"
        },
        "id": "kgxSXbSrMu0U",
        "outputId": "942a6b95-8624-429d-ff58-add0be58f008"
      },
      "outputs": [
        {
          "output_type": "execute_result",
          "data": {
            "text/plain": [
              "3.25"
            ]
          },
          "metadata": {},
          "execution_count": 149
        }
      ],
      "source": [
        "# сколько тратит автомобиль проезжает по направлению туда в часах\n",
        "t1 = 260 / 80\n",
        "t1"
      ]
    },
    {
      "cell_type": "code",
      "execution_count": 150,
      "metadata": {
        "colab": {
          "base_uri": "https://localhost:8080/"
        },
        "id": "15ZD0YVFNxgH",
        "outputId": "bc5e4e57-297f-4021-9b6b-980874c6b069"
      },
      "outputs": [
        {
          "output_type": "execute_result",
          "data": {
            "text/plain": [
              "2.6"
            ]
          },
          "metadata": {},
          "execution_count": 150
        }
      ],
      "source": [
        "# сколько тратит автомобиль проезжает по направлению обратно в часах\n",
        "t2 = 260 / 100\n",
        "t2"
      ]
    },
    {
      "cell_type": "code",
      "execution_count": 151,
      "metadata": {
        "colab": {
          "base_uri": "https://localhost:8080/"
        },
        "id": "xNmLqiEjN7hR",
        "outputId": "fc886a34-835c-4f5a-b57d-b138e8a5b620"
      },
      "outputs": [
        {
          "output_type": "execute_result",
          "data": {
            "text/plain": [
              "38.99999999999999"
            ]
          },
          "metadata": {},
          "execution_count": 151
        }
      ],
      "source": [
        "# вычтем из пути туда обратный путь и переведём время в минуты\n",
        "t3 = t1 - t2\n",
        "t3_minutes = t3 * 60\n",
        "t3_minutes"
      ]
    },
    {
      "cell_type": "markdown",
      "metadata": {
        "id": "XE0B_LXbPHLg"
      },
      "source": [
        "# Техническое задание"
      ]
    },
    {
      "cell_type": "code",
      "execution_count": 152,
      "metadata": {
        "id": "k02XhNupOoRg"
      },
      "outputs": [],
      "source": [
        "import matplotlib.pyplot as plt\n",
        "import missingno as msno\n",
        "import pandas as pd"
      ]
    },
    {
      "cell_type": "code",
      "execution_count": 153,
      "metadata": {
        "colab": {
          "base_uri": "https://localhost:8080/",
          "height": 843
        },
        "id": "z7bPcHQ8POst",
        "outputId": "96cbf017-1911-4a4d-f4b3-0f34e3e35a12"
      },
      "outputs": [
        {
          "output_type": "display_data",
          "data": {
            "text/plain": [
              "   client_id      sum      status       sale new/current  Unnamed: 5  \\\n",
              "0        NaN      NaN    Май 2021        NaN         NaN         NaN   \n",
              "1        6.0  11693.7  ВНУТРЕННИЙ          -           -         NaN   \n",
              "2       14.0   5452.7    ОПЛАЧЕНО    Петрова       новая         NaN   \n",
              "3       15.0  13991.7    ОПЛАЧЕНО     Иванов     текущая         NaN   \n",
              "4       16.0    719.7    ОПЛАЧЕНО     Иванов     текущая         NaN   \n",
              "5       18.0   4253.7    ОПЛАЧЕНО     Иванов     текущая         NaN   \n",
              "6       20.0   5796.7    ОПЛАЧЕНО  Кузнецова     текущая         NaN   \n",
              "7       21.0   3613.7    ОПЛАЧЕНО  Кузнецова     текущая         NaN   \n",
              "\n",
              "   document       receiving_date  \n",
              "0       NaN                  NaN  \n",
              "1         -                    -  \n",
              "2  оригинал  2021-07-26 00:00:00  \n",
              "3  оригинал  2021-06-08 00:00:00  \n",
              "4  оригинал  2021-06-08 00:00:00  \n",
              "5  оригинал  2021-07-07 00:00:00  \n",
              "6  оригинал  2021-07-15 00:00:00  \n",
              "7  оригинал  2021-10-13 00:00:00  "
            ],
            "text/html": [
              "\n",
              "  <div id=\"df-bf0ced62-e993-41a4-94f6-cf6011067c88\" class=\"colab-df-container\">\n",
              "    <div>\n",
              "<style scoped>\n",
              "    .dataframe tbody tr th:only-of-type {\n",
              "        vertical-align: middle;\n",
              "    }\n",
              "\n",
              "    .dataframe tbody tr th {\n",
              "        vertical-align: top;\n",
              "    }\n",
              "\n",
              "    .dataframe thead th {\n",
              "        text-align: right;\n",
              "    }\n",
              "</style>\n",
              "<table border=\"1\" class=\"dataframe\">\n",
              "  <thead>\n",
              "    <tr style=\"text-align: right;\">\n",
              "      <th></th>\n",
              "      <th>client_id</th>\n",
              "      <th>sum</th>\n",
              "      <th>status</th>\n",
              "      <th>sale</th>\n",
              "      <th>new/current</th>\n",
              "      <th>Unnamed: 5</th>\n",
              "      <th>document</th>\n",
              "      <th>receiving_date</th>\n",
              "    </tr>\n",
              "  </thead>\n",
              "  <tbody>\n",
              "    <tr>\n",
              "      <th>0</th>\n",
              "      <td>NaN</td>\n",
              "      <td>NaN</td>\n",
              "      <td>Май 2021</td>\n",
              "      <td>NaN</td>\n",
              "      <td>NaN</td>\n",
              "      <td>NaN</td>\n",
              "      <td>NaN</td>\n",
              "      <td>NaN</td>\n",
              "    </tr>\n",
              "    <tr>\n",
              "      <th>1</th>\n",
              "      <td>6.0</td>\n",
              "      <td>11693.7</td>\n",
              "      <td>ВНУТРЕННИЙ</td>\n",
              "      <td>-</td>\n",
              "      <td>-</td>\n",
              "      <td>NaN</td>\n",
              "      <td>-</td>\n",
              "      <td>-</td>\n",
              "    </tr>\n",
              "    <tr>\n",
              "      <th>2</th>\n",
              "      <td>14.0</td>\n",
              "      <td>5452.7</td>\n",
              "      <td>ОПЛАЧЕНО</td>\n",
              "      <td>Петрова</td>\n",
              "      <td>новая</td>\n",
              "      <td>NaN</td>\n",
              "      <td>оригинал</td>\n",
              "      <td>2021-07-26 00:00:00</td>\n",
              "    </tr>\n",
              "    <tr>\n",
              "      <th>3</th>\n",
              "      <td>15.0</td>\n",
              "      <td>13991.7</td>\n",
              "      <td>ОПЛАЧЕНО</td>\n",
              "      <td>Иванов</td>\n",
              "      <td>текущая</td>\n",
              "      <td>NaN</td>\n",
              "      <td>оригинал</td>\n",
              "      <td>2021-06-08 00:00:00</td>\n",
              "    </tr>\n",
              "    <tr>\n",
              "      <th>4</th>\n",
              "      <td>16.0</td>\n",
              "      <td>719.7</td>\n",
              "      <td>ОПЛАЧЕНО</td>\n",
              "      <td>Иванов</td>\n",
              "      <td>текущая</td>\n",
              "      <td>NaN</td>\n",
              "      <td>оригинал</td>\n",
              "      <td>2021-06-08 00:00:00</td>\n",
              "    </tr>\n",
              "    <tr>\n",
              "      <th>5</th>\n",
              "      <td>18.0</td>\n",
              "      <td>4253.7</td>\n",
              "      <td>ОПЛАЧЕНО</td>\n",
              "      <td>Иванов</td>\n",
              "      <td>текущая</td>\n",
              "      <td>NaN</td>\n",
              "      <td>оригинал</td>\n",
              "      <td>2021-07-07 00:00:00</td>\n",
              "    </tr>\n",
              "    <tr>\n",
              "      <th>6</th>\n",
              "      <td>20.0</td>\n",
              "      <td>5796.7</td>\n",
              "      <td>ОПЛАЧЕНО</td>\n",
              "      <td>Кузнецова</td>\n",
              "      <td>текущая</td>\n",
              "      <td>NaN</td>\n",
              "      <td>оригинал</td>\n",
              "      <td>2021-07-15 00:00:00</td>\n",
              "    </tr>\n",
              "    <tr>\n",
              "      <th>7</th>\n",
              "      <td>21.0</td>\n",
              "      <td>3613.7</td>\n",
              "      <td>ОПЛАЧЕНО</td>\n",
              "      <td>Кузнецова</td>\n",
              "      <td>текущая</td>\n",
              "      <td>NaN</td>\n",
              "      <td>оригинал</td>\n",
              "      <td>2021-10-13 00:00:00</td>\n",
              "    </tr>\n",
              "  </tbody>\n",
              "</table>\n",
              "</div>\n",
              "    <div class=\"colab-df-buttons\">\n",
              "\n",
              "  <div class=\"colab-df-container\">\n",
              "    <button class=\"colab-df-convert\" onclick=\"convertToInteractive('df-bf0ced62-e993-41a4-94f6-cf6011067c88')\"\n",
              "            title=\"Convert this dataframe to an interactive table.\"\n",
              "            style=\"display:none;\">\n",
              "\n",
              "  <svg xmlns=\"http://www.w3.org/2000/svg\" height=\"24px\" viewBox=\"0 -960 960 960\">\n",
              "    <path d=\"M120-120v-720h720v720H120Zm60-500h600v-160H180v160Zm220 220h160v-160H400v160Zm0 220h160v-160H400v160ZM180-400h160v-160H180v160Zm440 0h160v-160H620v160ZM180-180h160v-160H180v160Zm440 0h160v-160H620v160Z\"/>\n",
              "  </svg>\n",
              "    </button>\n",
              "\n",
              "  <style>\n",
              "    .colab-df-container {\n",
              "      display:flex;\n",
              "      gap: 12px;\n",
              "    }\n",
              "\n",
              "    .colab-df-convert {\n",
              "      background-color: #E8F0FE;\n",
              "      border: none;\n",
              "      border-radius: 50%;\n",
              "      cursor: pointer;\n",
              "      display: none;\n",
              "      fill: #1967D2;\n",
              "      height: 32px;\n",
              "      padding: 0 0 0 0;\n",
              "      width: 32px;\n",
              "    }\n",
              "\n",
              "    .colab-df-convert:hover {\n",
              "      background-color: #E2EBFA;\n",
              "      box-shadow: 0px 1px 2px rgba(60, 64, 67, 0.3), 0px 1px 3px 1px rgba(60, 64, 67, 0.15);\n",
              "      fill: #174EA6;\n",
              "    }\n",
              "\n",
              "    .colab-df-buttons div {\n",
              "      margin-bottom: 4px;\n",
              "    }\n",
              "\n",
              "    [theme=dark] .colab-df-convert {\n",
              "      background-color: #3B4455;\n",
              "      fill: #D2E3FC;\n",
              "    }\n",
              "\n",
              "    [theme=dark] .colab-df-convert:hover {\n",
              "      background-color: #434B5C;\n",
              "      box-shadow: 0px 1px 3px 1px rgba(0, 0, 0, 0.15);\n",
              "      filter: drop-shadow(0px 1px 2px rgba(0, 0, 0, 0.3));\n",
              "      fill: #FFFFFF;\n",
              "    }\n",
              "  </style>\n",
              "\n",
              "    <script>\n",
              "      const buttonEl =\n",
              "        document.querySelector('#df-bf0ced62-e993-41a4-94f6-cf6011067c88 button.colab-df-convert');\n",
              "      buttonEl.style.display =\n",
              "        google.colab.kernel.accessAllowed ? 'block' : 'none';\n",
              "\n",
              "      async function convertToInteractive(key) {\n",
              "        const element = document.querySelector('#df-bf0ced62-e993-41a4-94f6-cf6011067c88');\n",
              "        const dataTable =\n",
              "          await google.colab.kernel.invokeFunction('convertToInteractive',\n",
              "                                                    [key], {});\n",
              "        if (!dataTable) return;\n",
              "\n",
              "        const docLinkHtml = 'Like what you see? Visit the ' +\n",
              "          '<a target=\"_blank\" href=https://colab.research.google.com/notebooks/data_table.ipynb>data table notebook</a>'\n",
              "          + ' to learn more about interactive tables.';\n",
              "        element.innerHTML = '';\n",
              "        dataTable['output_type'] = 'display_data';\n",
              "        await google.colab.output.renderOutput(dataTable, element);\n",
              "        const docLink = document.createElement('div');\n",
              "        docLink.innerHTML = docLinkHtml;\n",
              "        element.appendChild(docLink);\n",
              "      }\n",
              "    </script>\n",
              "  </div>\n",
              "\n",
              "\n",
              "<div id=\"df-dda1e5a3-cb78-4745-80dc-98a1cb4e9766\">\n",
              "  <button class=\"colab-df-quickchart\" onclick=\"quickchart('df-dda1e5a3-cb78-4745-80dc-98a1cb4e9766')\"\n",
              "            title=\"Suggest charts.\"\n",
              "            style=\"display:none;\">\n",
              "\n",
              "<svg xmlns=\"http://www.w3.org/2000/svg\" height=\"24px\"viewBox=\"0 0 24 24\"\n",
              "     width=\"24px\">\n",
              "    <g>\n",
              "        <path d=\"M19 3H5c-1.1 0-2 .9-2 2v14c0 1.1.9 2 2 2h14c1.1 0 2-.9 2-2V5c0-1.1-.9-2-2-2zM9 17H7v-7h2v7zm4 0h-2V7h2v10zm4 0h-2v-4h2v4z\"/>\n",
              "    </g>\n",
              "</svg>\n",
              "  </button>\n",
              "\n",
              "<style>\n",
              "  .colab-df-quickchart {\n",
              "      --bg-color: #E8F0FE;\n",
              "      --fill-color: #1967D2;\n",
              "      --hover-bg-color: #E2EBFA;\n",
              "      --hover-fill-color: #174EA6;\n",
              "      --disabled-fill-color: #AAA;\n",
              "      --disabled-bg-color: #DDD;\n",
              "  }\n",
              "\n",
              "  [theme=dark] .colab-df-quickchart {\n",
              "      --bg-color: #3B4455;\n",
              "      --fill-color: #D2E3FC;\n",
              "      --hover-bg-color: #434B5C;\n",
              "      --hover-fill-color: #FFFFFF;\n",
              "      --disabled-bg-color: #3B4455;\n",
              "      --disabled-fill-color: #666;\n",
              "  }\n",
              "\n",
              "  .colab-df-quickchart {\n",
              "    background-color: var(--bg-color);\n",
              "    border: none;\n",
              "    border-radius: 50%;\n",
              "    cursor: pointer;\n",
              "    display: none;\n",
              "    fill: var(--fill-color);\n",
              "    height: 32px;\n",
              "    padding: 0;\n",
              "    width: 32px;\n",
              "  }\n",
              "\n",
              "  .colab-df-quickchart:hover {\n",
              "    background-color: var(--hover-bg-color);\n",
              "    box-shadow: 0 1px 2px rgba(60, 64, 67, 0.3), 0 1px 3px 1px rgba(60, 64, 67, 0.15);\n",
              "    fill: var(--button-hover-fill-color);\n",
              "  }\n",
              "\n",
              "  .colab-df-quickchart-complete:disabled,\n",
              "  .colab-df-quickchart-complete:disabled:hover {\n",
              "    background-color: var(--disabled-bg-color);\n",
              "    fill: var(--disabled-fill-color);\n",
              "    box-shadow: none;\n",
              "  }\n",
              "\n",
              "  .colab-df-spinner {\n",
              "    border: 2px solid var(--fill-color);\n",
              "    border-color: transparent;\n",
              "    border-bottom-color: var(--fill-color);\n",
              "    animation:\n",
              "      spin 1s steps(1) infinite;\n",
              "  }\n",
              "\n",
              "  @keyframes spin {\n",
              "    0% {\n",
              "      border-color: transparent;\n",
              "      border-bottom-color: var(--fill-color);\n",
              "      border-left-color: var(--fill-color);\n",
              "    }\n",
              "    20% {\n",
              "      border-color: transparent;\n",
              "      border-left-color: var(--fill-color);\n",
              "      border-top-color: var(--fill-color);\n",
              "    }\n",
              "    30% {\n",
              "      border-color: transparent;\n",
              "      border-left-color: var(--fill-color);\n",
              "      border-top-color: var(--fill-color);\n",
              "      border-right-color: var(--fill-color);\n",
              "    }\n",
              "    40% {\n",
              "      border-color: transparent;\n",
              "      border-right-color: var(--fill-color);\n",
              "      border-top-color: var(--fill-color);\n",
              "    }\n",
              "    60% {\n",
              "      border-color: transparent;\n",
              "      border-right-color: var(--fill-color);\n",
              "    }\n",
              "    80% {\n",
              "      border-color: transparent;\n",
              "      border-right-color: var(--fill-color);\n",
              "      border-bottom-color: var(--fill-color);\n",
              "    }\n",
              "    90% {\n",
              "      border-color: transparent;\n",
              "      border-bottom-color: var(--fill-color);\n",
              "    }\n",
              "  }\n",
              "</style>\n",
              "\n",
              "  <script>\n",
              "    async function quickchart(key) {\n",
              "      const quickchartButtonEl =\n",
              "        document.querySelector('#' + key + ' button');\n",
              "      quickchartButtonEl.disabled = true;  // To prevent multiple clicks.\n",
              "      quickchartButtonEl.classList.add('colab-df-spinner');\n",
              "      try {\n",
              "        const charts = await google.colab.kernel.invokeFunction(\n",
              "            'suggestCharts', [key], {});\n",
              "      } catch (error) {\n",
              "        console.error('Error during call to suggestCharts:', error);\n",
              "      }\n",
              "      quickchartButtonEl.classList.remove('colab-df-spinner');\n",
              "      quickchartButtonEl.classList.add('colab-df-quickchart-complete');\n",
              "    }\n",
              "    (() => {\n",
              "      let quickchartButtonEl =\n",
              "        document.querySelector('#df-dda1e5a3-cb78-4745-80dc-98a1cb4e9766 button');\n",
              "      quickchartButtonEl.style.display =\n",
              "        google.colab.kernel.accessAllowed ? 'block' : 'none';\n",
              "    })();\n",
              "  </script>\n",
              "</div>\n",
              "    </div>\n",
              "  </div>\n"
            ]
          },
          "metadata": {}
        },
        {
          "output_type": "display_data",
          "data": {
            "text/plain": [
              "        client_id           sum  Unnamed: 5\n",
              "count  724.000000    724.000000         0.0\n",
              "mean   183.084254   7162.542030         NaN\n",
              "std    106.590761   6308.571297         NaN\n",
              "min      6.000000     23.700000         NaN\n",
              "25%     86.000000   3114.732500         NaN\n",
              "50%    194.000000   5207.990000         NaN\n",
              "75%    273.000000   8934.950000         NaN\n",
              "max    398.000000  39713.500000         NaN"
            ],
            "text/html": [
              "\n",
              "  <div id=\"df-dc49eb2f-aed9-4d8a-9ab6-71dbf80d523e\" class=\"colab-df-container\">\n",
              "    <div>\n",
              "<style scoped>\n",
              "    .dataframe tbody tr th:only-of-type {\n",
              "        vertical-align: middle;\n",
              "    }\n",
              "\n",
              "    .dataframe tbody tr th {\n",
              "        vertical-align: top;\n",
              "    }\n",
              "\n",
              "    .dataframe thead th {\n",
              "        text-align: right;\n",
              "    }\n",
              "</style>\n",
              "<table border=\"1\" class=\"dataframe\">\n",
              "  <thead>\n",
              "    <tr style=\"text-align: right;\">\n",
              "      <th></th>\n",
              "      <th>client_id</th>\n",
              "      <th>sum</th>\n",
              "      <th>Unnamed: 5</th>\n",
              "    </tr>\n",
              "  </thead>\n",
              "  <tbody>\n",
              "    <tr>\n",
              "      <th>count</th>\n",
              "      <td>724.000000</td>\n",
              "      <td>724.000000</td>\n",
              "      <td>0.0</td>\n",
              "    </tr>\n",
              "    <tr>\n",
              "      <th>mean</th>\n",
              "      <td>183.084254</td>\n",
              "      <td>7162.542030</td>\n",
              "      <td>NaN</td>\n",
              "    </tr>\n",
              "    <tr>\n",
              "      <th>std</th>\n",
              "      <td>106.590761</td>\n",
              "      <td>6308.571297</td>\n",
              "      <td>NaN</td>\n",
              "    </tr>\n",
              "    <tr>\n",
              "      <th>min</th>\n",
              "      <td>6.000000</td>\n",
              "      <td>23.700000</td>\n",
              "      <td>NaN</td>\n",
              "    </tr>\n",
              "    <tr>\n",
              "      <th>25%</th>\n",
              "      <td>86.000000</td>\n",
              "      <td>3114.732500</td>\n",
              "      <td>NaN</td>\n",
              "    </tr>\n",
              "    <tr>\n",
              "      <th>50%</th>\n",
              "      <td>194.000000</td>\n",
              "      <td>5207.990000</td>\n",
              "      <td>NaN</td>\n",
              "    </tr>\n",
              "    <tr>\n",
              "      <th>75%</th>\n",
              "      <td>273.000000</td>\n",
              "      <td>8934.950000</td>\n",
              "      <td>NaN</td>\n",
              "    </tr>\n",
              "    <tr>\n",
              "      <th>max</th>\n",
              "      <td>398.000000</td>\n",
              "      <td>39713.500000</td>\n",
              "      <td>NaN</td>\n",
              "    </tr>\n",
              "  </tbody>\n",
              "</table>\n",
              "</div>\n",
              "    <div class=\"colab-df-buttons\">\n",
              "\n",
              "  <div class=\"colab-df-container\">\n",
              "    <button class=\"colab-df-convert\" onclick=\"convertToInteractive('df-dc49eb2f-aed9-4d8a-9ab6-71dbf80d523e')\"\n",
              "            title=\"Convert this dataframe to an interactive table.\"\n",
              "            style=\"display:none;\">\n",
              "\n",
              "  <svg xmlns=\"http://www.w3.org/2000/svg\" height=\"24px\" viewBox=\"0 -960 960 960\">\n",
              "    <path d=\"M120-120v-720h720v720H120Zm60-500h600v-160H180v160Zm220 220h160v-160H400v160Zm0 220h160v-160H400v160ZM180-400h160v-160H180v160Zm440 0h160v-160H620v160ZM180-180h160v-160H180v160Zm440 0h160v-160H620v160Z\"/>\n",
              "  </svg>\n",
              "    </button>\n",
              "\n",
              "  <style>\n",
              "    .colab-df-container {\n",
              "      display:flex;\n",
              "      gap: 12px;\n",
              "    }\n",
              "\n",
              "    .colab-df-convert {\n",
              "      background-color: #E8F0FE;\n",
              "      border: none;\n",
              "      border-radius: 50%;\n",
              "      cursor: pointer;\n",
              "      display: none;\n",
              "      fill: #1967D2;\n",
              "      height: 32px;\n",
              "      padding: 0 0 0 0;\n",
              "      width: 32px;\n",
              "    }\n",
              "\n",
              "    .colab-df-convert:hover {\n",
              "      background-color: #E2EBFA;\n",
              "      box-shadow: 0px 1px 2px rgba(60, 64, 67, 0.3), 0px 1px 3px 1px rgba(60, 64, 67, 0.15);\n",
              "      fill: #174EA6;\n",
              "    }\n",
              "\n",
              "    .colab-df-buttons div {\n",
              "      margin-bottom: 4px;\n",
              "    }\n",
              "\n",
              "    [theme=dark] .colab-df-convert {\n",
              "      background-color: #3B4455;\n",
              "      fill: #D2E3FC;\n",
              "    }\n",
              "\n",
              "    [theme=dark] .colab-df-convert:hover {\n",
              "      background-color: #434B5C;\n",
              "      box-shadow: 0px 1px 3px 1px rgba(0, 0, 0, 0.15);\n",
              "      filter: drop-shadow(0px 1px 2px rgba(0, 0, 0, 0.3));\n",
              "      fill: #FFFFFF;\n",
              "    }\n",
              "  </style>\n",
              "\n",
              "    <script>\n",
              "      const buttonEl =\n",
              "        document.querySelector('#df-dc49eb2f-aed9-4d8a-9ab6-71dbf80d523e button.colab-df-convert');\n",
              "      buttonEl.style.display =\n",
              "        google.colab.kernel.accessAllowed ? 'block' : 'none';\n",
              "\n",
              "      async function convertToInteractive(key) {\n",
              "        const element = document.querySelector('#df-dc49eb2f-aed9-4d8a-9ab6-71dbf80d523e');\n",
              "        const dataTable =\n",
              "          await google.colab.kernel.invokeFunction('convertToInteractive',\n",
              "                                                    [key], {});\n",
              "        if (!dataTable) return;\n",
              "\n",
              "        const docLinkHtml = 'Like what you see? Visit the ' +\n",
              "          '<a target=\"_blank\" href=https://colab.research.google.com/notebooks/data_table.ipynb>data table notebook</a>'\n",
              "          + ' to learn more about interactive tables.';\n",
              "        element.innerHTML = '';\n",
              "        dataTable['output_type'] = 'display_data';\n",
              "        await google.colab.output.renderOutput(dataTable, element);\n",
              "        const docLink = document.createElement('div');\n",
              "        docLink.innerHTML = docLinkHtml;\n",
              "        element.appendChild(docLink);\n",
              "      }\n",
              "    </script>\n",
              "  </div>\n",
              "\n",
              "\n",
              "<div id=\"df-2b8438f4-9988-4090-9d40-8cc7675c8f47\">\n",
              "  <button class=\"colab-df-quickchart\" onclick=\"quickchart('df-2b8438f4-9988-4090-9d40-8cc7675c8f47')\"\n",
              "            title=\"Suggest charts.\"\n",
              "            style=\"display:none;\">\n",
              "\n",
              "<svg xmlns=\"http://www.w3.org/2000/svg\" height=\"24px\"viewBox=\"0 0 24 24\"\n",
              "     width=\"24px\">\n",
              "    <g>\n",
              "        <path d=\"M19 3H5c-1.1 0-2 .9-2 2v14c0 1.1.9 2 2 2h14c1.1 0 2-.9 2-2V5c0-1.1-.9-2-2-2zM9 17H7v-7h2v7zm4 0h-2V7h2v10zm4 0h-2v-4h2v4z\"/>\n",
              "    </g>\n",
              "</svg>\n",
              "  </button>\n",
              "\n",
              "<style>\n",
              "  .colab-df-quickchart {\n",
              "      --bg-color: #E8F0FE;\n",
              "      --fill-color: #1967D2;\n",
              "      --hover-bg-color: #E2EBFA;\n",
              "      --hover-fill-color: #174EA6;\n",
              "      --disabled-fill-color: #AAA;\n",
              "      --disabled-bg-color: #DDD;\n",
              "  }\n",
              "\n",
              "  [theme=dark] .colab-df-quickchart {\n",
              "      --bg-color: #3B4455;\n",
              "      --fill-color: #D2E3FC;\n",
              "      --hover-bg-color: #434B5C;\n",
              "      --hover-fill-color: #FFFFFF;\n",
              "      --disabled-bg-color: #3B4455;\n",
              "      --disabled-fill-color: #666;\n",
              "  }\n",
              "\n",
              "  .colab-df-quickchart {\n",
              "    background-color: var(--bg-color);\n",
              "    border: none;\n",
              "    border-radius: 50%;\n",
              "    cursor: pointer;\n",
              "    display: none;\n",
              "    fill: var(--fill-color);\n",
              "    height: 32px;\n",
              "    padding: 0;\n",
              "    width: 32px;\n",
              "  }\n",
              "\n",
              "  .colab-df-quickchart:hover {\n",
              "    background-color: var(--hover-bg-color);\n",
              "    box-shadow: 0 1px 2px rgba(60, 64, 67, 0.3), 0 1px 3px 1px rgba(60, 64, 67, 0.15);\n",
              "    fill: var(--button-hover-fill-color);\n",
              "  }\n",
              "\n",
              "  .colab-df-quickchart-complete:disabled,\n",
              "  .colab-df-quickchart-complete:disabled:hover {\n",
              "    background-color: var(--disabled-bg-color);\n",
              "    fill: var(--disabled-fill-color);\n",
              "    box-shadow: none;\n",
              "  }\n",
              "\n",
              "  .colab-df-spinner {\n",
              "    border: 2px solid var(--fill-color);\n",
              "    border-color: transparent;\n",
              "    border-bottom-color: var(--fill-color);\n",
              "    animation:\n",
              "      spin 1s steps(1) infinite;\n",
              "  }\n",
              "\n",
              "  @keyframes spin {\n",
              "    0% {\n",
              "      border-color: transparent;\n",
              "      border-bottom-color: var(--fill-color);\n",
              "      border-left-color: var(--fill-color);\n",
              "    }\n",
              "    20% {\n",
              "      border-color: transparent;\n",
              "      border-left-color: var(--fill-color);\n",
              "      border-top-color: var(--fill-color);\n",
              "    }\n",
              "    30% {\n",
              "      border-color: transparent;\n",
              "      border-left-color: var(--fill-color);\n",
              "      border-top-color: var(--fill-color);\n",
              "      border-right-color: var(--fill-color);\n",
              "    }\n",
              "    40% {\n",
              "      border-color: transparent;\n",
              "      border-right-color: var(--fill-color);\n",
              "      border-top-color: var(--fill-color);\n",
              "    }\n",
              "    60% {\n",
              "      border-color: transparent;\n",
              "      border-right-color: var(--fill-color);\n",
              "    }\n",
              "    80% {\n",
              "      border-color: transparent;\n",
              "      border-right-color: var(--fill-color);\n",
              "      border-bottom-color: var(--fill-color);\n",
              "    }\n",
              "    90% {\n",
              "      border-color: transparent;\n",
              "      border-bottom-color: var(--fill-color);\n",
              "    }\n",
              "  }\n",
              "</style>\n",
              "\n",
              "  <script>\n",
              "    async function quickchart(key) {\n",
              "      const quickchartButtonEl =\n",
              "        document.querySelector('#' + key + ' button');\n",
              "      quickchartButtonEl.disabled = true;  // To prevent multiple clicks.\n",
              "      quickchartButtonEl.classList.add('colab-df-spinner');\n",
              "      try {\n",
              "        const charts = await google.colab.kernel.invokeFunction(\n",
              "            'suggestCharts', [key], {});\n",
              "      } catch (error) {\n",
              "        console.error('Error during call to suggestCharts:', error);\n",
              "      }\n",
              "      quickchartButtonEl.classList.remove('colab-df-spinner');\n",
              "      quickchartButtonEl.classList.add('colab-df-quickchart-complete');\n",
              "    }\n",
              "    (() => {\n",
              "      let quickchartButtonEl =\n",
              "        document.querySelector('#df-2b8438f4-9988-4090-9d40-8cc7675c8f47 button');\n",
              "      quickchartButtonEl.style.display =\n",
              "        google.colab.kernel.accessAllowed ? 'block' : 'none';\n",
              "    })();\n",
              "  </script>\n",
              "</div>\n",
              "    </div>\n",
              "  </div>\n"
            ]
          },
          "metadata": {}
        },
        {
          "output_type": "stream",
          "name": "stdout",
          "text": [
            "<class 'pandas.core.frame.DataFrame'>\n",
            "RangeIndex: 730 entries, 0 to 729\n",
            "Data columns (total 8 columns):\n",
            " #   Column          Non-Null Count  Dtype  \n",
            "---  ------          --------------  -----  \n",
            " 0   client_id       724 non-null    float64\n",
            " 1   sum             724 non-null    float64\n",
            " 2   status          730 non-null    object \n",
            " 3   sale            724 non-null    object \n",
            " 4   new/current     724 non-null    object \n",
            " 5   Unnamed: 5      0 non-null      float64\n",
            " 6   document        709 non-null    object \n",
            " 7   receiving_date  607 non-null    object \n",
            "dtypes: float64(3), object(5)\n",
            "memory usage: 45.8+ KB\n"
          ]
        }
      ],
      "source": [
        "df = pd.read_excel('/content/data.xlsx')\n",
        "display(df.head(8))\n",
        "display(df.describe())\n",
        "df.info()"
      ]
    },
    {
      "cell_type": "markdown",
      "metadata": {
        "id": "pj0MxSRv5Gb1"
      },
      "source": [
        "Посмотрим на уникальные значения в столбцах."
      ]
    },
    {
      "cell_type": "code",
      "execution_count": 154,
      "metadata": {
        "id": "i8QrDcnu56Y2",
        "colab": {
          "base_uri": "https://localhost:8080/"
        },
        "outputId": "344d8344-a07c-4d23-815b-584fa67af527"
      },
      "outputs": [
        {
          "output_type": "execute_result",
          "data": {
            "text/plain": [
              "array(['Май 2021', 'ВНУТРЕННИЙ', 'ОПЛАЧЕНО', 'ПРОСРОЧЕНО', 'Июнь 2021',\n",
              "       'Июль 2021', 'Август 2021', 'В РАБОТЕ', 'Сентябрь 2021',\n",
              "       'Октябрь 2021', 'НА ПОДПИСАНИИ'], dtype=object)"
            ]
          },
          "metadata": {},
          "execution_count": 154
        }
      ],
      "source": [
        "df['status'].unique()"
      ]
    },
    {
      "cell_type": "markdown",
      "source": [
        "Предположу, что оплата должна быть проведена в указанный срок."
      ],
      "metadata": {
        "id": "0JL6_AhX8oJ3"
      }
    },
    {
      "cell_type": "code",
      "source": [
        "df['sale'].unique()"
      ],
      "metadata": {
        "id": "pqzRVr48OAeh",
        "colab": {
          "base_uri": "https://localhost:8080/"
        },
        "outputId": "10dceaee-9ce9-4bcd-db26-80ab939c4016"
      },
      "execution_count": 155,
      "outputs": [
        {
          "output_type": "execute_result",
          "data": {
            "text/plain": [
              "array([nan, '-', 'Петрова', 'Иванов', 'Кузнецова', 'Андреев',\n",
              "       'Филимонова', 'Селиванов', 'Смирнов', 'Васильев', 'Соколов',\n",
              "       'Михайлов', 'Попов'], dtype=object)"
            ]
          },
          "metadata": {},
          "execution_count": 155
        }
      ]
    },
    {
      "cell_type": "code",
      "execution_count": 156,
      "metadata": {
        "id": "ynj2tTSv46ko",
        "colab": {
          "base_uri": "https://localhost:8080/"
        },
        "outputId": "9e4c9ea9-622d-4572-e7f9-9917f413da9d"
      },
      "outputs": [
        {
          "output_type": "execute_result",
          "data": {
            "text/plain": [
              "array([nan, '-', 'новая', 'текущая'], dtype=object)"
            ]
          },
          "metadata": {},
          "execution_count": 156
        }
      ],
      "source": [
        "df['new/current'].unique()"
      ]
    },
    {
      "cell_type": "code",
      "execution_count": 157,
      "metadata": {
        "id": "ZUwau4Ov5TEg"
      },
      "outputs": [],
      "source": [
        "df.loc[df['new/current'] == '-', 'new/current'] = 'нет статуса'"
      ]
    },
    {
      "cell_type": "code",
      "execution_count": 158,
      "metadata": {
        "id": "mMpdiZY45opG",
        "colab": {
          "base_uri": "https://localhost:8080/"
        },
        "outputId": "721ea196-8727-4109-fa7c-2a5b795b7a3e"
      },
      "outputs": [
        {
          "output_type": "execute_result",
          "data": {
            "text/plain": [
              "array([nan, '-', 'оригинал', 'НЕТ'], dtype=object)"
            ]
          },
          "metadata": {},
          "execution_count": 158
        }
      ],
      "source": [
        "df['document'].unique()"
      ]
    },
    {
      "cell_type": "code",
      "source": [
        "df.loc[df['document'] == '-', 'document'] = 'НЕТ'"
      ],
      "metadata": {
        "id": "FryngdZJ-FQq"
      },
      "execution_count": 159,
      "outputs": []
    },
    {
      "cell_type": "markdown",
      "metadata": {
        "id": "LNyn2rsTQ6sr"
      },
      "source": [
        "Обработаем пропуски."
      ]
    },
    {
      "cell_type": "code",
      "execution_count": 160,
      "metadata": {
        "id": "J8XpFKoOQ5_V",
        "colab": {
          "base_uri": "https://localhost:8080/"
        },
        "outputId": "be148a2c-1f5f-434c-e030-7b06cb632b79"
      },
      "outputs": [
        {
          "output_type": "execute_result",
          "data": {
            "text/plain": [
              "client_id           6\n",
              "sum                 6\n",
              "status              0\n",
              "sale                6\n",
              "new/current         6\n",
              "Unnamed: 5        730\n",
              "document           21\n",
              "receiving_date    123\n",
              "dtype: int64"
            ]
          },
          "metadata": {},
          "execution_count": 160
        }
      ],
      "source": [
        "df.isna().sum()"
      ]
    },
    {
      "cell_type": "code",
      "execution_count": 161,
      "metadata": {
        "id": "fm-9Xz34Ytmo",
        "colab": {
          "base_uri": "https://localhost:8080/",
          "height": 724
        },
        "outputId": "17437151-af39-4df5-a1b9-64e68dae034a"
      },
      "outputs": [
        {
          "output_type": "display_data",
          "data": {
            "text/plain": [
              "<Figure size 2500x1000 with 3 Axes>"
            ],
            "image/png": "[encoded data removed]"
          },
          "metadata": {}
        }
      ],
      "source": [
        "msno.bar(df);"
      ]
    },
    {
      "cell_type": "markdown",
      "metadata": {
        "id": "Tb8Rjc3xRQCV"
      },
      "source": [
        "Узнать client_id мы не можем. Удалим пропуски, т.к. как их очень мало и это не повлияет на общую картину.\n",
        "\n",
        "У столбцов sum, status, sale, new/current ровно 6 пропусков, могу сделать преположение, что раз неизвестен статус сделки, то соответственно сумма, статус оплаты и менеджер не может быть определён. Заполним столбец sum 0, а остальные столбцы indefined.\n",
        "\n",
        "Unnamed: 5 — столбец, который, скорее всего, появился, когда выгружалась таблица. Удалим его.\n",
        "\n",
        "Часть данных в столбцах document и receiving_date отсутствует по причине, того, что документ не был подан, то и даты к нему нет. Остальные же пропуски могли возникнуть случайно, так как эти данные могли ещё не внести, либо они были утеряны. Там, где документа нет, заполним столбец receiving_date значением '2000-01-01 00:00:00', чтобы можно было далее изменить тип данных этого столбца. В дальнейшем будем придерживаться того, что эта дата означает отсутствие документа. Проверим сколько пропусков осталось и решим, что делать.\n"
      ]
    },
    {
      "cell_type": "code",
      "execution_count": 162,
      "metadata": {
        "id": "4t1x0Aw8RM3q"
      },
      "outputs": [],
      "source": [
        "df = df.dropna(subset=['client_id'])"
      ]
    },
    {
      "cell_type": "code",
      "execution_count": 163,
      "metadata": {
        "id": "VSqJMBAZaWDS"
      },
      "outputs": [],
      "source": [
        "df['sum'] = df['sum'].fillna(0)"
      ]
    },
    {
      "cell_type": "code",
      "execution_count": 164,
      "metadata": {
        "id": "Ye-MZ21xZPgw"
      },
      "outputs": [],
      "source": [
        "df[['sale', 'new/current']] = df[['sale', 'new/current']].fillna('indefined')"
      ]
    },
    {
      "cell_type": "code",
      "execution_count": 165,
      "metadata": {
        "id": "MkpnYuXQaTRA"
      },
      "outputs": [],
      "source": [
        "del df['Unnamed: 5']"
      ]
    },
    {
      "cell_type": "code",
      "source": [
        "df.loc[df['document'] == 'НЕТ', 'receiving_date'] = '2000-01-01 00:00:00'"
      ],
      "metadata": {
        "id": "qyd74yr8-k3v"
      },
      "execution_count": 166,
      "outputs": []
    },
    {
      "cell_type": "code",
      "source": [
        "df.isna().sum()"
      ],
      "metadata": {
        "id": "HlyxkYilMeW7",
        "colab": {
          "base_uri": "https://localhost:8080/"
        },
        "outputId": "779f6472-646c-4ef2-80dd-4acbdf096e37"
      },
      "execution_count": 167,
      "outputs": [
        {
          "output_type": "execute_result",
          "data": {
            "text/plain": [
              "client_id          0\n",
              "sum                0\n",
              "status             0\n",
              "sale               0\n",
              "new/current        0\n",
              "document          15\n",
              "receiving_date     4\n",
              "dtype: int64"
            ]
          },
          "metadata": {},
          "execution_count": 167
        }
      ]
    },
    {
      "cell_type": "markdown",
      "source": [
        "Рассмотрим пропуски в столбце document подробнее."
      ],
      "metadata": {
        "id": "2EJorHxsM7Tc"
      }
    },
    {
      "cell_type": "code",
      "source": [
        "df.loc[df['document'].isna() == True]"
      ],
      "metadata": {
        "id": "V2I7FaTN_vr-",
        "colab": {
          "base_uri": "https://localhost:8080/",
          "height": 519
        },
        "outputId": "ab9de96d-54e6-4ab2-ca5b-163468a883c9"
      },
      "execution_count": 168,
      "outputs": [
        {
          "output_type": "execute_result",
          "data": {
            "text/plain": [
              "     client_id      sum    status        sale new/current document  \\\n",
              "47        87.0   9948.7  ОПЛАЧЕНО     Смирнов       новая      NaN   \n",
              "48        90.0  16123.7  ОПЛАЧЕНО     Смирнов     текущая      NaN   \n",
              "49        91.0   1053.7  ОПЛАЧЕНО     Смирнов     текущая      NaN   \n",
              "93       198.0   4458.7  ОПЛАЧЕНО     Смирнов     текущая      NaN   \n",
              "189      115.0    298.7  ОПЛАЧЕНО     Андреев     текущая      NaN   \n",
              "337      228.0   2193.7  ОПЛАЧЕНО     Смирнов     текущая      NaN   \n",
              "376       32.0   7101.7  ОПЛАЧЕНО  Филимонова     текущая      NaN   \n",
              "409       90.0   8454.2  ОПЛАЧЕНО     Смирнов     текущая      NaN   \n",
              "453      339.0   7553.7  ОПЛАЧЕНО     Петрова       новая      NaN   \n",
              "459      256.0   2351.2  ОПЛАЧЕНО  Филимонова     текущая      NaN   \n",
              "488       24.0  18142.7  ОПЛАЧЕНО     Андреев     текущая      NaN   \n",
              "489       30.0   3833.7  В РАБОТЕ  Филимонова     текущая      NaN   \n",
              "513      329.0   5353.7  ОПЛАЧЕНО     Андреев     текущая      NaN   \n",
              "689      228.0   6393.7  ОПЛАЧЕНО     Смирнов     текущая      NaN   \n",
              "690      228.0   1603.7  ОПЛАЧЕНО     Смирнов     текущая      NaN   \n",
              "\n",
              "          receiving_date  \n",
              "47   2021-06-17 00:00:00  \n",
              "48   2021-07-28 00:00:00  \n",
              "49   2021-07-28 00:00:00  \n",
              "93   2021-07-01 00:00:00  \n",
              "189  2021-07-14 00:00:00  \n",
              "337  2021-10-06 00:00:00  \n",
              "376  2021-10-06 00:00:00  \n",
              "409  2021-09-20 00:00:00  \n",
              "453  2021-10-11 00:00:00  \n",
              "459                  NaN  \n",
              "488  2021-10-15 00:00:00  \n",
              "489                  NaN  \n",
              "513  2021-10-11 00:00:00  \n",
              "689                  NaN  \n",
              "690                  NaN  "
            ],
            "text/html": [
              "\n",
              "  <div id=\"df-1ff43cac-3db9-4256-b280-24a1cf1ac7aa\" class=\"colab-df-container\">\n",
              "    <div>\n",
              "<style scoped>\n",
              "    .dataframe tbody tr th:only-of-type {\n",
              "        vertical-align: middle;\n",
              "    }\n",
              "\n",
              "    .dataframe tbody tr th {\n",
              "        vertical-align: top;\n",
              "    }\n",
              "\n",
              "    .dataframe thead th {\n",
              "        text-align: right;\n",
              "    }\n",
              "</style>\n",
              "<table border=\"1\" class=\"dataframe\">\n",
              "  <thead>\n",
              "    <tr style=\"text-align: right;\">\n",
              "      <th></th>\n",
              "      <th>client_id</th>\n",
              "      <th>sum</th>\n",
              "      <th>status</th>\n",
              "      <th>sale</th>\n",
              "      <th>new/current</th>\n",
              "      <th>document</th>\n",
              "      <th>receiving_date</th>\n",
              "    </tr>\n",
              "  </thead>\n",
              "  <tbody>\n",
              "    <tr>\n",
              "      <th>47</th>\n",
              "      <td>87.0</td>\n",
              "      <td>9948.7</td>\n",
              "      <td>ОПЛАЧЕНО</td>\n",
              "      <td>Смирнов</td>\n",
              "      <td>новая</td>\n",
              "      <td>NaN</td>\n",
              "      <td>2021-06-17 00:00:00</td>\n",
              "    </tr>\n",
              "    <tr>\n",
              "      <th>48</th>\n",
              "      <td>90.0</td>\n",
              "      <td>16123.7</td>\n",
              "      <td>ОПЛАЧЕНО</td>\n",
              "      <td>Смирнов</td>\n",
              "      <td>текущая</td>\n",
              "      <td>NaN</td>\n",
              "      <td>2021-07-28 00:00:00</td>\n",
              "    </tr>\n",
              "    <tr>\n",
              "      <th>49</th>\n",
              "      <td>91.0</td>\n",
              "      <td>1053.7</td>\n",
              "      <td>ОПЛАЧЕНО</td>\n",
              "      <td>Смирнов</td>\n",
              "      <td>текущая</td>\n",
              "      <td>NaN</td>\n",
              "      <td>2021-07-28 00:00:00</td>\n",
              "    </tr>\n",
              "    <tr>\n",
              "      <th>93</th>\n",
              "      <td>198.0</td>\n",
              "      <td>4458.7</td>\n",
              "      <td>ОПЛАЧЕНО</td>\n",
              "      <td>Смирнов</td>\n",
              "      <td>текущая</td>\n",
              "      <td>NaN</td>\n",
              "      <td>2021-07-01 00:00:00</td>\n",
              "    </tr>\n",
              "    <tr>\n",
              "      <th>189</th>\n",
              "      <td>115.0</td>\n",
              "      <td>298.7</td>\n",
              "      <td>ОПЛАЧЕНО</td>\n",
              "      <td>Андреев</td>\n",
              "      <td>текущая</td>\n",
              "      <td>NaN</td>\n",
              "      <td>2021-07-14 00:00:00</td>\n",
              "    </tr>\n",
              "    <tr>\n",
              "      <th>337</th>\n",
              "      <td>228.0</td>\n",
              "      <td>2193.7</td>\n",
              "      <td>ОПЛАЧЕНО</td>\n",
              "      <td>Смирнов</td>\n",
              "      <td>текущая</td>\n",
              "      <td>NaN</td>\n",
              "      <td>2021-10-06 00:00:00</td>\n",
              "    </tr>\n",
              "    <tr>\n",
              "      <th>376</th>\n",
              "      <td>32.0</td>\n",
              "      <td>7101.7</td>\n",
              "      <td>ОПЛАЧЕНО</td>\n",
              "      <td>Филимонова</td>\n",
              "      <td>текущая</td>\n",
              "      <td>NaN</td>\n",
              "      <td>2021-10-06 00:00:00</td>\n",
              "    </tr>\n",
              "    <tr>\n",
              "      <th>409</th>\n",
              "      <td>90.0</td>\n",
              "      <td>8454.2</td>\n",
              "      <td>ОПЛАЧЕНО</td>\n",
              "      <td>Смирнов</td>\n",
              "      <td>текущая</td>\n",
              "      <td>NaN</td>\n",
              "      <td>2021-09-20 00:00:00</td>\n",
              "    </tr>\n",
              "    <tr>\n",
              "      <th>453</th>\n",
              "      <td>339.0</td>\n",
              "      <td>7553.7</td>\n",
              "      <td>ОПЛАЧЕНО</td>\n",
              "      <td>Петрова</td>\n",
              "      <td>новая</td>\n",
              "      <td>NaN</td>\n",
              "      <td>2021-10-11 00:00:00</td>\n",
              "    </tr>\n",
              "    <tr>\n",
              "      <th>459</th>\n",
              "      <td>256.0</td>\n",
              "      <td>2351.2</td>\n",
              "      <td>ОПЛАЧЕНО</td>\n",
              "      <td>Филимонова</td>\n",
              "      <td>текущая</td>\n",
              "      <td>NaN</td>\n",
              "      <td>NaN</td>\n",
              "    </tr>\n",
              "    <tr>\n",
              "      <th>488</th>\n",
              "      <td>24.0</td>\n",
              "      <td>18142.7</td>\n",
              "      <td>ОПЛАЧЕНО</td>\n",
              "      <td>Андреев</td>\n",
              "      <td>текущая</td>\n",
              "      <td>NaN</td>\n",
              "      <td>2021-10-15 00:00:00</td>\n",
              "    </tr>\n",
              "    <tr>\n",
              "      <th>489</th>\n",
              "      <td>30.0</td>\n",
              "      <td>3833.7</td>\n",
              "      <td>В РАБОТЕ</td>\n",
              "      <td>Филимонова</td>\n",
              "      <td>текущая</td>\n",
              "      <td>NaN</td>\n",
              "      <td>NaN</td>\n",
              "    </tr>\n",
              "    <tr>\n",
              "      <th>513</th>\n",
              "      <td>329.0</td>\n",
              "      <td>5353.7</td>\n",
              "      <td>ОПЛАЧЕНО</td>\n",
              "      <td>Андреев</td>\n",
              "      <td>текущая</td>\n",
              "      <td>NaN</td>\n",
              "      <td>2021-10-11 00:00:00</td>\n",
              "    </tr>\n",
              "    <tr>\n",
              "      <th>689</th>\n",
              "      <td>228.0</td>\n",
              "      <td>6393.7</td>\n",
              "      <td>ОПЛАЧЕНО</td>\n",
              "      <td>Смирнов</td>\n",
              "      <td>текущая</td>\n",
              "      <td>NaN</td>\n",
              "      <td>NaN</td>\n",
              "    </tr>\n",
              "    <tr>\n",
              "      <th>690</th>\n",
              "      <td>228.0</td>\n",
              "      <td>1603.7</td>\n",
              "      <td>ОПЛАЧЕНО</td>\n",
              "      <td>Смирнов</td>\n",
              "      <td>текущая</td>\n",
              "      <td>NaN</td>\n",
              "      <td>NaN</td>\n",
              "    </tr>\n",
              "  </tbody>\n",
              "</table>\n",
              "</div>\n",
              "    <div class=\"colab-df-buttons\">\n",
              "\n",
              "  <div class=\"colab-df-container\">\n",
              "    <button class=\"colab-df-convert\" onclick=\"convertToInteractive('df-1ff43cac-3db9-4256-b280-24a1cf1ac7aa')\"\n",
              "            title=\"Convert this dataframe to an interactive table.\"\n",
              "            style=\"display:none;\">\n",
              "\n",
              "  <svg xmlns=\"http://www.w3.org/2000/svg\" height=\"24px\" viewBox=\"0 -960 960 960\">\n",
              "    <path d=\"M120-120v-720h720v720H120Zm60-500h600v-160H180v160Zm220 220h160v-160H400v160Zm0 220h160v-160H400v160ZM180-400h160v-160H180v160Zm440 0h160v-160H620v160ZM180-180h160v-160H180v160Zm440 0h160v-160H620v160Z\"/>\n",
              "  </svg>\n",
              "    </button>\n",
              "\n",
              "  <style>\n",
              "    .colab-df-container {\n",
              "      display:flex;\n",
              "      gap: 12px;\n",
              "    }\n",
              "\n",
              "    .colab-df-convert {\n",
              "      background-color: #E8F0FE;\n",
              "      border: none;\n",
              "      border-radius: 50%;\n",
              "      cursor: pointer;\n",
              "      display: none;\n",
              "      fill: #1967D2;\n",
              "      height: 32px;\n",
              "      padding: 0 0 0 0;\n",
              "      width: 32px;\n",
              "    }\n",
              "\n",
              "    .colab-df-convert:hover {\n",
              "      background-color: #E2EBFA;\n",
              "      box-shadow: 0px 1px 2px rgba(60, 64, 67, 0.3), 0px 1px 3px 1px rgba(60, 64, 67, 0.15);\n",
              "      fill: #174EA6;\n",
              "    }\n",
              "\n",
              "    .colab-df-buttons div {\n",
              "      margin-bottom: 4px;\n",
              "    }\n",
              "\n",
              "    [theme=dark] .colab-df-convert {\n",
              "      background-color: #3B4455;\n",
              "      fill: #D2E3FC;\n",
              "    }\n",
              "\n",
              "    [theme=dark] .colab-df-convert:hover {\n",
              "      background-color: #434B5C;\n",
              "      box-shadow: 0px 1px 3px 1px rgba(0, 0, 0, 0.15);\n",
              "      filter: drop-shadow(0px 1px 2px rgba(0, 0, 0, 0.3));\n",
              "      fill: #FFFFFF;\n",
              "    }\n",
              "  </style>\n",
              "\n",
              "    <script>\n",
              "      const buttonEl =\n",
              "        document.querySelector('#df-1ff43cac-3db9-4256-b280-24a1cf1ac7aa button.colab-df-convert');\n",
              "      buttonEl.style.display =\n",
              "        google.colab.kernel.accessAllowed ? 'block' : 'none';\n",
              "\n",
              "      async function convertToInteractive(key) {\n",
              "        const element = document.querySelector('#df-1ff43cac-3db9-4256-b280-24a1cf1ac7aa');\n",
              "        const dataTable =\n",
              "          await google.colab.kernel.invokeFunction('convertToInteractive',\n",
              "                                                    [key], {});\n",
              "        if (!dataTable) return;\n",
              "\n",
              "        const docLinkHtml = 'Like what you see? Visit the ' +\n",
              "          '<a target=\"_blank\" href=https://colab.research.google.com/notebooks/data_table.ipynb>data table notebook</a>'\n",
              "          + ' to learn more about interactive tables.';\n",
              "        element.innerHTML = '';\n",
              "        dataTable['output_type'] = 'display_data';\n",
              "        await google.colab.output.renderOutput(dataTable, element);\n",
              "        const docLink = document.createElement('div');\n",
              "        docLink.innerHTML = docLinkHtml;\n",
              "        element.appendChild(docLink);\n",
              "      }\n",
              "    </script>\n",
              "  </div>\n",
              "\n",
              "\n",
              "<div id=\"df-09e02959-f5ff-4b30-b88f-daa24fdbbeb7\">\n",
              "  <button class=\"colab-df-quickchart\" onclick=\"quickchart('df-09e02959-f5ff-4b30-b88f-daa24fdbbeb7')\"\n",
              "            title=\"Suggest charts.\"\n",
              "            style=\"display:none;\">\n",
              "\n",
              "<svg xmlns=\"http://www.w3.org/2000/svg\" height=\"24px\"viewBox=\"0 0 24 24\"\n",
              "     width=\"24px\">\n",
              "    <g>\n",
              "        <path d=\"M19 3H5c-1.1 0-2 .9-2 2v14c0 1.1.9 2 2 2h14c1.1 0 2-.9 2-2V5c0-1.1-.9-2-2-2zM9 17H7v-7h2v7zm4 0h-2V7h2v10zm4 0h-2v-4h2v4z\"/>\n",
              "    </g>\n",
              "</svg>\n",
              "  </button>\n",
              "\n",
              "<style>\n",
              "  .colab-df-quickchart {\n",
              "      --bg-color: #E8F0FE;\n",
              "      --fill-color: #1967D2;\n",
              "      --hover-bg-color: #E2EBFA;\n",
              "      --hover-fill-color: #174EA6;\n",
              "      --disabled-fill-color: #AAA;\n",
              "      --disabled-bg-color: #DDD;\n",
              "  }\n",
              "\n",
              "  [theme=dark] .colab-df-quickchart {\n",
              "      --bg-color: #3B4455;\n",
              "      --fill-color: #D2E3FC;\n",
              "      --hover-bg-color: #434B5C;\n",
              "      --hover-fill-color: #FFFFFF;\n",
              "      --disabled-bg-color: #3B4455;\n",
              "      --disabled-fill-color: #666;\n",
              "  }\n",
              "\n",
              "  .colab-df-quickchart {\n",
              "    background-color: var(--bg-color);\n",
              "    border: none;\n",
              "    border-radius: 50%;\n",
              "    cursor: pointer;\n",
              "    display: none;\n",
              "    fill: var(--fill-color);\n",
              "    height: 32px;\n",
              "    padding: 0;\n",
              "    width: 32px;\n",
              "  }\n",
              "\n",
              "  .colab-df-quickchart:hover {\n",
              "    background-color: var(--hover-bg-color);\n",
              "    box-shadow: 0 1px 2px rgba(60, 64, 67, 0.3), 0 1px 3px 1px rgba(60, 64, 67, 0.15);\n",
              "    fill: var(--button-hover-fill-color);\n",
              "  }\n",
              "\n",
              "  .colab-df-quickchart-complete:disabled,\n",
              "  .colab-df-quickchart-complete:disabled:hover {\n",
              "    background-color: var(--disabled-bg-color);\n",
              "    fill: var(--disabled-fill-color);\n",
              "    box-shadow: none;\n",
              "  }\n",
              "\n",
              "  .colab-df-spinner {\n",
              "    border: 2px solid var(--fill-color);\n",
              "    border-color: transparent;\n",
              "    border-bottom-color: var(--fill-color);\n",
              "    animation:\n",
              "      spin 1s steps(1) infinite;\n",
              "  }\n",
              "\n",
              "  @keyframes spin {\n",
              "    0% {\n",
              "      border-color: transparent;\n",
              "      border-bottom-color: var(--fill-color);\n",
              "      border-left-color: var(--fill-color);\n",
              "    }\n",
              "    20% {\n",
              "      border-color: transparent;\n",
              "      border-left-color: var(--fill-color);\n",
              "      border-top-color: var(--fill-color);\n",
              "    }\n",
              "    30% {\n",
              "      border-color: transparent;\n",
              "      border-left-color: var(--fill-color);\n",
              "      border-top-color: var(--fill-color);\n",
              "      border-right-color: var(--fill-color);\n",
              "    }\n",
              "    40% {\n",
              "      border-color: transparent;\n",
              "      border-right-color: var(--fill-color);\n",
              "      border-top-color: var(--fill-color);\n",
              "    }\n",
              "    60% {\n",
              "      border-color: transparent;\n",
              "      border-right-color: var(--fill-color);\n",
              "    }\n",
              "    80% {\n",
              "      border-color: transparent;\n",
              "      border-right-color: var(--fill-color);\n",
              "      border-bottom-color: var(--fill-color);\n",
              "    }\n",
              "    90% {\n",
              "      border-color: transparent;\n",
              "      border-bottom-color: var(--fill-color);\n",
              "    }\n",
              "  }\n",
              "</style>\n",
              "\n",
              "  <script>\n",
              "    async function quickchart(key) {\n",
              "      const quickchartButtonEl =\n",
              "        document.querySelector('#' + key + ' button');\n",
              "      quickchartButtonEl.disabled = true;  // To prevent multiple clicks.\n",
              "      quickchartButtonEl.classList.add('colab-df-spinner');\n",
              "      try {\n",
              "        const charts = await google.colab.kernel.invokeFunction(\n",
              "            'suggestCharts', [key], {});\n",
              "      } catch (error) {\n",
              "        console.error('Error during call to suggestCharts:', error);\n",
              "      }\n",
              "      quickchartButtonEl.classList.remove('colab-df-spinner');\n",
              "      quickchartButtonEl.classList.add('colab-df-quickchart-complete');\n",
              "    }\n",
              "    (() => {\n",
              "      let quickchartButtonEl =\n",
              "        document.querySelector('#df-09e02959-f5ff-4b30-b88f-daa24fdbbeb7 button');\n",
              "      quickchartButtonEl.style.display =\n",
              "        google.colab.kernel.accessAllowed ? 'block' : 'none';\n",
              "    })();\n",
              "  </script>\n",
              "</div>\n",
              "    </div>\n",
              "  </div>\n"
            ]
          },
          "metadata": {},
          "execution_count": 168
        }
      ]
    },
    {
      "cell_type": "markdown",
      "source": [
        "Видно, что дата получения оригинала договора стоит, соответсввенно и наличие оригинала есть. Если дата есть, заполним пропуски значением оригинал."
      ],
      "metadata": {
        "id": "1_6Hzcc-ARnE"
      }
    },
    {
      "cell_type": "code",
      "source": [
        "df.loc[df['receiving_date'].isna() == False, 'document'] = 'оригинал'"
      ],
      "metadata": {
        "id": "giTjv5EBAQay"
      },
      "execution_count": 169,
      "outputs": []
    },
    {
      "cell_type": "code",
      "source": [
        "df.isna().sum()"
      ],
      "metadata": {
        "id": "cZvYj6ON_eOV",
        "colab": {
          "base_uri": "https://localhost:8080/"
        },
        "outputId": "25b765ac-abb2-43bf-b3c6-38a321596ada"
      },
      "execution_count": 170,
      "outputs": [
        {
          "output_type": "execute_result",
          "data": {
            "text/plain": [
              "client_id         0\n",
              "sum               0\n",
              "status            0\n",
              "sale              0\n",
              "new/current       0\n",
              "document          4\n",
              "receiving_date    4\n",
              "dtype: int64"
            ]
          },
          "metadata": {},
          "execution_count": 170
        }
      ]
    },
    {
      "cell_type": "markdown",
      "source": [
        "Отсалось по 4 пропуска в двух столбцах, взять информацию для них неоткуда. Можно удалить, ибо их отсутствие не скажется на общей картине."
      ],
      "metadata": {
        "id": "DnpM2wW3NZxv"
      }
    },
    {
      "cell_type": "code",
      "source": [
        "df = df.dropna()"
      ],
      "metadata": {
        "id": "WreL-ZwsNY-B"
      },
      "execution_count": 171,
      "outputs": []
    },
    {
      "cell_type": "code",
      "source": [
        "df.isna().sum()"
      ],
      "metadata": {
        "colab": {
          "base_uri": "https://localhost:8080/"
        },
        "id": "8-noWofuNyLP",
        "outputId": "83a0e9bb-b30c-488d-cbc2-7530163da086"
      },
      "execution_count": 172,
      "outputs": [
        {
          "output_type": "execute_result",
          "data": {
            "text/plain": [
              "client_id         0\n",
              "sum               0\n",
              "status            0\n",
              "sale              0\n",
              "new/current       0\n",
              "document          0\n",
              "receiving_date    0\n",
              "dtype: int64"
            ]
          },
          "metadata": {},
          "execution_count": 172
        }
      ]
    },
    {
      "cell_type": "markdown",
      "source": [
        "Обработаем дубликаты."
      ],
      "metadata": {
        "id": "eRwGo307N8Zg"
      }
    },
    {
      "cell_type": "code",
      "source": [
        "df.duplicated().sum()"
      ],
      "metadata": {
        "colab": {
          "base_uri": "https://localhost:8080/"
        },
        "id": "86ehhscfOGRf",
        "outputId": "e59572ba-5a66-4dc5-965d-a984956d3f7c"
      },
      "execution_count": 173,
      "outputs": [
        {
          "output_type": "execute_result",
          "data": {
            "text/plain": [
              "34"
            ]
          },
          "metadata": {},
          "execution_count": 173
        }
      ]
    },
    {
      "cell_type": "code",
      "source": [
        "df[df.duplicated()]"
      ],
      "metadata": {
        "colab": {
          "base_uri": "https://localhost:8080/",
          "height": 1000
        },
        "id": "5i4BkIkqPlo3",
        "outputId": "1787745b-4628-483b-83f8-ebe893bd02a5"
      },
      "execution_count": 174,
      "outputs": [
        {
          "output_type": "execute_result",
          "data": {
            "text/plain": [
              "     client_id      sum    status        sale new/current  document  \\\n",
              "19        43.0   1961.2  ОПЛАЧЕНО   Селиванов     текущая  оригинал   \n",
              "53        96.0   1266.2  ОПЛАЧЕНО    Васильев     текущая  оригинал   \n",
              "98       204.0   1473.7  ОПЛАЧЕНО     Андреев     текущая  оригинал   \n",
              "178       95.0   4688.7  ОПЛАЧЕНО     Андреев     текущая  оригинал   \n",
              "180       97.0   1506.2  ОПЛАЧЕНО    Васильев     текущая  оригинал   \n",
              "215      194.0   3902.7  ОПЛАЧЕНО      Иванов     текущая  оригинал   \n",
              "216      194.0   9834.7  ОПЛАЧЕНО      Иванов     текущая  оригинал   \n",
              "224      204.0   1523.7  ОПЛАЧЕНО     Андреев     текущая  оригинал   \n",
              "229      228.0   1933.7  ОПЛАЧЕНО     Смирнов     текущая  оригинал   \n",
              "230      228.0   6393.7  ОПЛАЧЕНО     Смирнов     текущая  оригинал   \n",
              "275      311.0   2063.7  ОПЛАЧЕНО     Соколов     текущая  оригинал   \n",
              "278       46.0   4945.7  ОПЛАЧЕНО     Петрова     текущая  оригинал   \n",
              "279       47.0   4449.7  ОПЛАЧЕНО     Петрова     текущая  оригинал   \n",
              "281       49.0   7203.7  ОПЛАЧЕНО     Петрова     текущая  оригинал   \n",
              "282       59.0   3938.7  ОПЛАЧЕНО     Петрова     текущая  оригинал   \n",
              "332      204.0   1611.2  ОПЛАЧЕНО     Андреев     текущая  оригинал   \n",
              "349      256.0   1488.7  ОПЛАЧЕНО  Филимонова     текущая  оригинал   \n",
              "351      319.0   4208.7  ОПЛАЧЕНО    Васильев       новая  оригинал   \n",
              "358      266.0   3363.7  ОПЛАЧЕНО     Петрова     текущая  оригинал   \n",
              "374       30.0   3833.7  ОПЛАЧЕНО  Филимонова     текущая  оригинал   \n",
              "442      204.0   1611.2  ОПЛАЧЕНО     Андреев     текущая  оригинал   \n",
              "448      228.0   2193.7  ОПЛАЧЕНО     Смирнов     текущая  оригинал   \n",
              "449      228.0   6393.7  ОПЛАЧЕНО     Смирнов     текущая  оригинал   \n",
              "462      319.0   4561.2  ОПЛАЧЕНО    Васильев     текущая  оригинал   \n",
              "552      204.0   1006.2  ОПЛАЧЕНО     Андреев     текущая  оригинал   \n",
              "558      228.0   2193.7  ОПЛАЧЕНО     Смирнов     текущая  оригинал   \n",
              "559      228.0   6393.7  ОПЛАЧЕНО     Смирнов     текущая  оригинал   \n",
              "569      246.0    853.7  ОПЛАЧЕНО     Смирнов     текущая  оригинал   \n",
              "582      266.0   3453.7  ОПЛАЧЕНО     Петрова     текущая  оригинал   \n",
              "632       87.0   9368.7  ОПЛАЧЕНО     Смирнов     текущая  оригинал   \n",
              "644      111.0  13403.7  ОПЛАЧЕНО     Смирнов     текущая  оригинал   \n",
              "648      364.0  31078.7  ОПЛАЧЕНО    Михайлов       новая  оригинал   \n",
              "680      204.0   1006.2  ОПЛАЧЕНО     Андреев     текущая  оригинал   \n",
              "706      266.0   3453.7  ОПЛАЧЕНО     Петрова     текущая  оригинал   \n",
              "\n",
              "          receiving_date  \n",
              "19   2021-07-27 00:00:00  \n",
              "53   2021-07-16 00:00:00  \n",
              "98   2021-07-01 00:00:00  \n",
              "178  2021-05-18 00:00:00  \n",
              "180  2021-09-01 00:00:00  \n",
              "215  2021-07-16 00:00:00  \n",
              "216  2021-07-16 00:00:00  \n",
              "224  2021-07-21 00:00:00  \n",
              "229  2021-07-13 00:00:00  \n",
              "230  2021-07-13 00:00:00  \n",
              "275  2021-09-28 00:00:00  \n",
              "278  2021-09-06 00:00:00  \n",
              "279  2021-09-06 00:00:00  \n",
              "281  2021-09-06 00:00:00  \n",
              "282  2021-09-06 00:00:00  \n",
              "332  2021-08-20 00:00:00  \n",
              "349  2021-08-26 00:00:00  \n",
              "351  2021-09-21 00:00:00  \n",
              "358  2000-01-01 00:00:00  \n",
              "374  2021-09-27 00:00:00  \n",
              "442  2021-09-16 00:00:00  \n",
              "448  2021-10-06 00:00:00  \n",
              "449  2021-10-06 00:00:00  \n",
              "462  2021-10-21 00:00:00  \n",
              "552  2021-10-21 00:00:00  \n",
              "558  2021-10-06 00:00:00  \n",
              "559  2021-10-06 00:00:00  \n",
              "569  2021-10-15 00:00:00  \n",
              "582  2000-01-01 00:00:00  \n",
              "632  2000-01-01 00:00:00  \n",
              "644  2000-01-01 00:00:00  \n",
              "648  2000-01-01 00:00:00  \n",
              "680  2000-01-01 00:00:00  \n",
              "706  2000-01-01 00:00:00  "
            ],
            "text/html": [
              "\n",
              "  <div id=\"df-c7ed6bfd-945c-4ee9-bf6d-aee6656a0744\" class=\"colab-df-container\">\n",
              "    <div>\n",
              "<style scoped>\n",
              "    .dataframe tbody tr th:only-of-type {\n",
              "        vertical-align: middle;\n",
              "    }\n",
              "\n",
              "    .dataframe tbody tr th {\n",
              "        vertical-align: top;\n",
              "    }\n",
              "\n",
              "    .dataframe thead th {\n",
              "        text-align: right;\n",
              "    }\n",
              "</style>\n",
              "<table border=\"1\" class=\"dataframe\">\n",
              "  <thead>\n",
              "    <tr style=\"text-align: right;\">\n",
              "      <th></th>\n",
              "      <th>client_id</th>\n",
              "      <th>sum</th>\n",
              "      <th>status</th>\n",
              "      <th>sale</th>\n",
              "      <th>new/current</th>\n",
              "      <th>document</th>\n",
              "      <th>receiving_date</th>\n",
              "    </tr>\n",
              "  </thead>\n",
              "  <tbody>\n",
              "    <tr>\n",
              "      <th>19</th>\n",
              "      <td>43.0</td>\n",
              "      <td>1961.2</td>\n",
              "      <td>ОПЛАЧЕНО</td>\n",
              "      <td>Селиванов</td>\n",
              "      <td>текущая</td>\n",
              "      <td>оригинал</td>\n",
              "      <td>2021-07-27 00:00:00</td>\n",
              "    </tr>\n",
              "    <tr>\n",
              "      <th>53</th>\n",
              "      <td>96.0</td>\n",
              "      <td>1266.2</td>\n",
              "      <td>ОПЛАЧЕНО</td>\n",
              "      <td>Васильев</td>\n",
              "      <td>текущая</td>\n",
              "      <td>оригинал</td>\n",
              "      <td>2021-07-16 00:00:00</td>\n",
              "    </tr>\n",
              "    <tr>\n",
              "      <th>98</th>\n",
              "      <td>204.0</td>\n",
              "      <td>1473.7</td>\n",
              "      <td>ОПЛАЧЕНО</td>\n",
              "      <td>Андреев</td>\n",
              "      <td>текущая</td>\n",
              "      <td>оригинал</td>\n",
              "      <td>2021-07-01 00:00:00</td>\n",
              "    </tr>\n",
              "    <tr>\n",
              "      <th>178</th>\n",
              "      <td>95.0</td>\n",
              "      <td>4688.7</td>\n",
              "      <td>ОПЛАЧЕНО</td>\n",
              "      <td>Андреев</td>\n",
              "      <td>текущая</td>\n",
              "      <td>оригинал</td>\n",
              "      <td>2021-05-18 00:00:00</td>\n",
              "    </tr>\n",
              "    <tr>\n",
              "      <th>180</th>\n",
              "      <td>97.0</td>\n",
              "      <td>1506.2</td>\n",
              "      <td>ОПЛАЧЕНО</td>\n",
              "      <td>Васильев</td>\n",
              "      <td>текущая</td>\n",
              "      <td>оригинал</td>\n",
              "      <td>2021-09-01 00:00:00</td>\n",
              "    </tr>\n",
              "    <tr>\n",
              "      <th>215</th>\n",
              "      <td>194.0</td>\n",
              "      <td>3902.7</td>\n",
              "      <td>ОПЛАЧЕНО</td>\n",
              "      <td>Иванов</td>\n",
              "      <td>текущая</td>\n",
              "      <td>оригинал</td>\n",
              "      <td>2021-07-16 00:00:00</td>\n",
              "    </tr>\n",
              "    <tr>\n",
              "      <th>216</th>\n",
              "      <td>194.0</td>\n",
              "      <td>9834.7</td>\n",
              "      <td>ОПЛАЧЕНО</td>\n",
              "      <td>Иванов</td>\n",
              "      <td>текущая</td>\n",
              "      <td>оригинал</td>\n",
              "      <td>2021-07-16 00:00:00</td>\n",
              "    </tr>\n",
              "    <tr>\n",
              "      <th>224</th>\n",
              "      <td>204.0</td>\n",
              "      <td>1523.7</td>\n",
              "      <td>ОПЛАЧЕНО</td>\n",
              "      <td>Андреев</td>\n",
              "      <td>текущая</td>\n",
              "      <td>оригинал</td>\n",
              "      <td>2021-07-21 00:00:00</td>\n",
              "    </tr>\n",
              "    <tr>\n",
              "      <th>229</th>\n",
              "      <td>228.0</td>\n",
              "      <td>1933.7</td>\n",
              "      <td>ОПЛАЧЕНО</td>\n",
              "      <td>Смирнов</td>\n",
              "      <td>текущая</td>\n",
              "      <td>оригинал</td>\n",
              "      <td>2021-07-13 00:00:00</td>\n",
              "    </tr>\n",
              "    <tr>\n",
              "      <th>230</th>\n",
              "      <td>228.0</td>\n",
              "      <td>6393.7</td>\n",
              "      <td>ОПЛАЧЕНО</td>\n",
              "      <td>Смирнов</td>\n",
              "      <td>текущая</td>\n",
              "      <td>оригинал</td>\n",
              "      <td>2021-07-13 00:00:00</td>\n",
              "    </tr>\n",
              "    <tr>\n",
              "      <th>275</th>\n",
              "      <td>311.0</td>\n",
              "      <td>2063.7</td>\n",
              "      <td>ОПЛАЧЕНО</td>\n",
              "      <td>Соколов</td>\n",
              "      <td>текущая</td>\n",
              "      <td>оригинал</td>\n",
              "      <td>2021-09-28 00:00:00</td>\n",
              "    </tr>\n",
              "    <tr>\n",
              "      <th>278</th>\n",
              "      <td>46.0</td>\n",
              "      <td>4945.7</td>\n",
              "      <td>ОПЛАЧЕНО</td>\n",
              "      <td>Петрова</td>\n",
              "      <td>текущая</td>\n",
              "      <td>оригинал</td>\n",
              "      <td>2021-09-06 00:00:00</td>\n",
              "    </tr>\n",
              "    <tr>\n",
              "      <th>279</th>\n",
              "      <td>47.0</td>\n",
              "      <td>4449.7</td>\n",
              "      <td>ОПЛАЧЕНО</td>\n",
              "      <td>Петрова</td>\n",
              "      <td>текущая</td>\n",
              "      <td>оригинал</td>\n",
              "      <td>2021-09-06 00:00:00</td>\n",
              "    </tr>\n",
              "    <tr>\n",
              "      <th>281</th>\n",
              "      <td>49.0</td>\n",
              "      <td>7203.7</td>\n",
              "      <td>ОПЛАЧЕНО</td>\n",
              "      <td>Петрова</td>\n",
              "      <td>текущая</td>\n",
              "      <td>оригинал</td>\n",
              "      <td>2021-09-06 00:00:00</td>\n",
              "    </tr>\n",
              "    <tr>\n",
              "      <th>282</th>\n",
              "      <td>59.0</td>\n",
              "      <td>3938.7</td>\n",
              "      <td>ОПЛАЧЕНО</td>\n",
              "      <td>Петрова</td>\n",
              "      <td>текущая</td>\n",
              "      <td>оригинал</td>\n",
              "      <td>2021-09-06 00:00:00</td>\n",
              "    </tr>\n",
              "    <tr>\n",
              "      <th>332</th>\n",
              "      <td>204.0</td>\n",
              "      <td>1611.2</td>\n",
              "      <td>ОПЛАЧЕНО</td>\n",
              "      <td>Андреев</td>\n",
              "      <td>текущая</td>\n",
              "      <td>оригинал</td>\n",
              "      <td>2021-08-20 00:00:00</td>\n",
              "    </tr>\n",
              "    <tr>\n",
              "      <th>349</th>\n",
              "      <td>256.0</td>\n",
              "      <td>1488.7</td>\n",
              "      <td>ОПЛАЧЕНО</td>\n",
              "      <td>Филимонова</td>\n",
              "      <td>текущая</td>\n",
              "      <td>оригинал</td>\n",
              "      <td>2021-08-26 00:00:00</td>\n",
              "    </tr>\n",
              "    <tr>\n",
              "      <th>351</th>\n",
              "      <td>319.0</td>\n",
              "      <td>4208.7</td>\n",
              "      <td>ОПЛАЧЕНО</td>\n",
              "      <td>Васильев</td>\n",
              "      <td>новая</td>\n",
              "      <td>оригинал</td>\n",
              "      <td>2021-09-21 00:00:00</td>\n",
              "    </tr>\n",
              "    <tr>\n",
              "      <th>358</th>\n",
              "      <td>266.0</td>\n",
              "      <td>3363.7</td>\n",
              "      <td>ОПЛАЧЕНО</td>\n",
              "      <td>Петрова</td>\n",
              "      <td>текущая</td>\n",
              "      <td>оригинал</td>\n",
              "      <td>2000-01-01 00:00:00</td>\n",
              "    </tr>\n",
              "    <tr>\n",
              "      <th>374</th>\n",
              "      <td>30.0</td>\n",
              "      <td>3833.7</td>\n",
              "      <td>ОПЛАЧЕНО</td>\n",
              "      <td>Филимонова</td>\n",
              "      <td>текущая</td>\n",
              "      <td>оригинал</td>\n",
              "      <td>2021-09-27 00:00:00</td>\n",
              "    </tr>\n",
              "    <tr>\n",
              "      <th>442</th>\n",
              "      <td>204.0</td>\n",
              "      <td>1611.2</td>\n",
              "      <td>ОПЛАЧЕНО</td>\n",
              "      <td>Андреев</td>\n",
              "      <td>текущая</td>\n",
              "      <td>оригинал</td>\n",
              "      <td>2021-09-16 00:00:00</td>\n",
              "    </tr>\n",
              "    <tr>\n",
              "      <th>448</th>\n",
              "      <td>228.0</td>\n",
              "      <td>2193.7</td>\n",
              "      <td>ОПЛАЧЕНО</td>\n",
              "      <td>Смирнов</td>\n",
              "      <td>текущая</td>\n",
              "      <td>оригинал</td>\n",
              "      <td>2021-10-06 00:00:00</td>\n",
              "    </tr>\n",
              "    <tr>\n",
              "      <th>449</th>\n",
              "      <td>228.0</td>\n",
              "      <td>6393.7</td>\n",
              "      <td>ОПЛАЧЕНО</td>\n",
              "      <td>Смирнов</td>\n",
              "      <td>текущая</td>\n",
              "      <td>оригинал</td>\n",
              "      <td>2021-10-06 00:00:00</td>\n",
              "    </tr>\n",
              "    <tr>\n",
              "      <th>462</th>\n",
              "      <td>319.0</td>\n",
              "      <td>4561.2</td>\n",
              "      <td>ОПЛАЧЕНО</td>\n",
              "      <td>Васильев</td>\n",
              "      <td>текущая</td>\n",
              "      <td>оригинал</td>\n",
              "      <td>2021-10-21 00:00:00</td>\n",
              "    </tr>\n",
              "    <tr>\n",
              "      <th>552</th>\n",
              "      <td>204.0</td>\n",
              "      <td>1006.2</td>\n",
              "      <td>ОПЛАЧЕНО</td>\n",
              "      <td>Андреев</td>\n",
              "      <td>текущая</td>\n",
              "      <td>оригинал</td>\n",
              "      <td>2021-10-21 00:00:00</td>\n",
              "    </tr>\n",
              "    <tr>\n",
              "      <th>558</th>\n",
              "      <td>228.0</td>\n",
              "      <td>2193.7</td>\n",
              "      <td>ОПЛАЧЕНО</td>\n",
              "      <td>Смирнов</td>\n",
              "      <td>текущая</td>\n",
              "      <td>оригинал</td>\n",
              "      <td>2021-10-06 00:00:00</td>\n",
              "    </tr>\n",
              "    <tr>\n",
              "      <th>559</th>\n",
              "      <td>228.0</td>\n",
              "      <td>6393.7</td>\n",
              "      <td>ОПЛАЧЕНО</td>\n",
              "      <td>Смирнов</td>\n",
              "      <td>текущая</td>\n",
              "      <td>оригинал</td>\n",
              "      <td>2021-10-06 00:00:00</td>\n",
              "    </tr>\n",
              "    <tr>\n",
              "      <th>569</th>\n",
              "      <td>246.0</td>\n",
              "      <td>853.7</td>\n",
              "      <td>ОПЛАЧЕНО</td>\n",
              "      <td>Смирнов</td>\n",
              "      <td>текущая</td>\n",
              "      <td>оригинал</td>\n",
              "      <td>2021-10-15 00:00:00</td>\n",
              "    </tr>\n",
              "    <tr>\n",
              "      <th>582</th>\n",
              "      <td>266.0</td>\n",
              "      <td>3453.7</td>\n",
              "      <td>ОПЛАЧЕНО</td>\n",
              "      <td>Петрова</td>\n",
              "      <td>текущая</td>\n",
              "      <td>оригинал</td>\n",
              "      <td>2000-01-01 00:00:00</td>\n",
              "    </tr>\n",
              "    <tr>\n",
              "      <th>632</th>\n",
              "      <td>87.0</td>\n",
              "      <td>9368.7</td>\n",
              "      <td>ОПЛАЧЕНО</td>\n",
              "      <td>Смирнов</td>\n",
              "      <td>текущая</td>\n",
              "      <td>оригинал</td>\n",
              "      <td>2000-01-01 00:00:00</td>\n",
              "    </tr>\n",
              "    <tr>\n",
              "      <th>644</th>\n",
              "      <td>111.0</td>\n",
              "      <td>13403.7</td>\n",
              "      <td>ОПЛАЧЕНО</td>\n",
              "      <td>Смирнов</td>\n",
              "      <td>текущая</td>\n",
              "      <td>оригинал</td>\n",
              "      <td>2000-01-01 00:00:00</td>\n",
              "    </tr>\n",
              "    <tr>\n",
              "      <th>648</th>\n",
              "      <td>364.0</td>\n",
              "      <td>31078.7</td>\n",
              "      <td>ОПЛАЧЕНО</td>\n",
              "      <td>Михайлов</td>\n",
              "      <td>новая</td>\n",
              "      <td>оригинал</td>\n",
              "      <td>2000-01-01 00:00:00</td>\n",
              "    </tr>\n",
              "    <tr>\n",
              "      <th>680</th>\n",
              "      <td>204.0</td>\n",
              "      <td>1006.2</td>\n",
              "      <td>ОПЛАЧЕНО</td>\n",
              "      <td>Андреев</td>\n",
              "      <td>текущая</td>\n",
              "      <td>оригинал</td>\n",
              "      <td>2000-01-01 00:00:00</td>\n",
              "    </tr>\n",
              "    <tr>\n",
              "      <th>706</th>\n",
              "      <td>266.0</td>\n",
              "      <td>3453.7</td>\n",
              "      <td>ОПЛАЧЕНО</td>\n",
              "      <td>Петрова</td>\n",
              "      <td>текущая</td>\n",
              "      <td>оригинал</td>\n",
              "      <td>2000-01-01 00:00:00</td>\n",
              "    </tr>\n",
              "  </tbody>\n",
              "</table>\n",
              "</div>\n",
              "    <div class=\"colab-df-buttons\">\n",
              "\n",
              "  <div class=\"colab-df-container\">\n",
              "    <button class=\"colab-df-convert\" onclick=\"convertToInteractive('df-c7ed6bfd-945c-4ee9-bf6d-aee6656a0744')\"\n",
              "            title=\"Convert this dataframe to an interactive table.\"\n",
              "            style=\"display:none;\">\n",
              "\n",
              "  <svg xmlns=\"http://www.w3.org/2000/svg\" height=\"24px\" viewBox=\"0 -960 960 960\">\n",
              "    <path d=\"M120-120v-720h720v720H120Zm60-500h600v-160H180v160Zm220 220h160v-160H400v160Zm0 220h160v-160H400v160ZM180-400h160v-160H180v160Zm440 0h160v-160H620v160ZM180-180h160v-160H180v160Zm440 0h160v-160H620v160Z\"/>\n",
              "  </svg>\n",
              "    </button>\n",
              "\n",
              "  <style>\n",
              "    .colab-df-container {\n",
              "      display:flex;\n",
              "      gap: 12px;\n",
              "    }\n",
              "\n",
              "    .colab-df-convert {\n",
              "      background-color: #E8F0FE;\n",
              "      border: none;\n",
              "      border-radius: 50%;\n",
              "      cursor: pointer;\n",
              "      display: none;\n",
              "      fill: #1967D2;\n",
              "      height: 32px;\n",
              "      padding: 0 0 0 0;\n",
              "      width: 32px;\n",
              "    }\n",
              "\n",
              "    .colab-df-convert:hover {\n",
              "      background-color: #E2EBFA;\n",
              "      box-shadow: 0px 1px 2px rgba(60, 64, 67, 0.3), 0px 1px 3px 1px rgba(60, 64, 67, 0.15);\n",
              "      fill: #174EA6;\n",
              "    }\n",
              "\n",
              "    .colab-df-buttons div {\n",
              "      margin-bottom: 4px;\n",
              "    }\n",
              "\n",
              "    [theme=dark] .colab-df-convert {\n",
              "      background-color: #3B4455;\n",
              "      fill: #D2E3FC;\n",
              "    }\n",
              "\n",
              "    [theme=dark] .colab-df-convert:hover {\n",
              "      background-color: #434B5C;\n",
              "      box-shadow: 0px 1px 3px 1px rgba(0, 0, 0, 0.15);\n",
              "      filter: drop-shadow(0px 1px 2px rgba(0, 0, 0, 0.3));\n",
              "      fill: #FFFFFF;\n",
              "    }\n",
              "  </style>\n",
              "\n",
              "    <script>\n",
              "      const buttonEl =\n",
              "        document.querySelector('#df-c7ed6bfd-945c-4ee9-bf6d-aee6656a0744 button.colab-df-convert');\n",
              "      buttonEl.style.display =\n",
              "        google.colab.kernel.accessAllowed ? 'block' : 'none';\n",
              "\n",
              "      async function convertToInteractive(key) {\n",
              "        const element = document.querySelector('#df-c7ed6bfd-945c-4ee9-bf6d-aee6656a0744');\n",
              "        const dataTable =\n",
              "          await google.colab.kernel.invokeFunction('convertToInteractive',\n",
              "                                                    [key], {});\n",
              "        if (!dataTable) return;\n",
              "\n",
              "        const docLinkHtml = 'Like what you see? Visit the ' +\n",
              "          '<a target=\"_blank\" href=https://colab.research.google.com/notebooks/data_table.ipynb>data table notebook</a>'\n",
              "          + ' to learn more about interactive tables.';\n",
              "        element.innerHTML = '';\n",
              "        dataTable['output_type'] = 'display_data';\n",
              "        await google.colab.output.renderOutput(dataTable, element);\n",
              "        const docLink = document.createElement('div');\n",
              "        docLink.innerHTML = docLinkHtml;\n",
              "        element.appendChild(docLink);\n",
              "      }\n",
              "    </script>\n",
              "  </div>\n",
              "\n",
              "\n",
              "<div id=\"df-a75a6304-bd8a-453f-b245-da597f095fd0\">\n",
              "  <button class=\"colab-df-quickchart\" onclick=\"quickchart('df-a75a6304-bd8a-453f-b245-da597f095fd0')\"\n",
              "            title=\"Suggest charts.\"\n",
              "            style=\"display:none;\">\n",
              "\n",
              "<svg xmlns=\"http://www.w3.org/2000/svg\" height=\"24px\"viewBox=\"0 0 24 24\"\n",
              "     width=\"24px\">\n",
              "    <g>\n",
              "        <path d=\"M19 3H5c-1.1 0-2 .9-2 2v14c0 1.1.9 2 2 2h14c1.1 0 2-.9 2-2V5c0-1.1-.9-2-2-2zM9 17H7v-7h2v7zm4 0h-2V7h2v10zm4 0h-2v-4h2v4z\"/>\n",
              "    </g>\n",
              "</svg>\n",
              "  </button>\n",
              "\n",
              "<style>\n",
              "  .colab-df-quickchart {\n",
              "      --bg-color: #E8F0FE;\n",
              "      --fill-color: #1967D2;\n",
              "      --hover-bg-color: #E2EBFA;\n",
              "      --hover-fill-color: #174EA6;\n",
              "      --disabled-fill-color: #AAA;\n",
              "      --disabled-bg-color: #DDD;\n",
              "  }\n",
              "\n",
              "  [theme=dark] .colab-df-quickchart {\n",
              "      --bg-color: #3B4455;\n",
              "      --fill-color: #D2E3FC;\n",
              "      --hover-bg-color: #434B5C;\n",
              "      --hover-fill-color: #FFFFFF;\n",
              "      --disabled-bg-color: #3B4455;\n",
              "      --disabled-fill-color: #666;\n",
              "  }\n",
              "\n",
              "  .colab-df-quickchart {\n",
              "    background-color: var(--bg-color);\n",
              "    border: none;\n",
              "    border-radius: 50%;\n",
              "    cursor: pointer;\n",
              "    display: none;\n",
              "    fill: var(--fill-color);\n",
              "    height: 32px;\n",
              "    padding: 0;\n",
              "    width: 32px;\n",
              "  }\n",
              "\n",
              "  .colab-df-quickchart:hover {\n",
              "    background-color: var(--hover-bg-color);\n",
              "    box-shadow: 0 1px 2px rgba(60, 64, 67, 0.3), 0 1px 3px 1px rgba(60, 64, 67, 0.15);\n",
              "    fill: var(--button-hover-fill-color);\n",
              "  }\n",
              "\n",
              "  .colab-df-quickchart-complete:disabled,\n",
              "  .colab-df-quickchart-complete:disabled:hover {\n",
              "    background-color: var(--disabled-bg-color);\n",
              "    fill: var(--disabled-fill-color);\n",
              "    box-shadow: none;\n",
              "  }\n",
              "\n",
              "  .colab-df-spinner {\n",
              "    border: 2px solid var(--fill-color);\n",
              "    border-color: transparent;\n",
              "    border-bottom-color: var(--fill-color);\n",
              "    animation:\n",
              "      spin 1s steps(1) infinite;\n",
              "  }\n",
              "\n",
              "  @keyframes spin {\n",
              "    0% {\n",
              "      border-color: transparent;\n",
              "      border-bottom-color: var(--fill-color);\n",
              "      border-left-color: var(--fill-color);\n",
              "    }\n",
              "    20% {\n",
              "      border-color: transparent;\n",
              "      border-left-color: var(--fill-color);\n",
              "      border-top-color: var(--fill-color);\n",
              "    }\n",
              "    30% {\n",
              "      border-color: transparent;\n",
              "      border-left-color: var(--fill-color);\n",
              "      border-top-color: var(--fill-color);\n",
              "      border-right-color: var(--fill-color);\n",
              "    }\n",
              "    40% {\n",
              "      border-color: transparent;\n",
              "      border-right-color: var(--fill-color);\n",
              "      border-top-color: var(--fill-color);\n",
              "    }\n",
              "    60% {\n",
              "      border-color: transparent;\n",
              "      border-right-color: var(--fill-color);\n",
              "    }\n",
              "    80% {\n",
              "      border-color: transparent;\n",
              "      border-right-color: var(--fill-color);\n",
              "      border-bottom-color: var(--fill-color);\n",
              "    }\n",
              "    90% {\n",
              "      border-color: transparent;\n",
              "      border-bottom-color: var(--fill-color);\n",
              "    }\n",
              "  }\n",
              "</style>\n",
              "\n",
              "  <script>\n",
              "    async function quickchart(key) {\n",
              "      const quickchartButtonEl =\n",
              "        document.querySelector('#' + key + ' button');\n",
              "      quickchartButtonEl.disabled = true;  // To prevent multiple clicks.\n",
              "      quickchartButtonEl.classList.add('colab-df-spinner');\n",
              "      try {\n",
              "        const charts = await google.colab.kernel.invokeFunction(\n",
              "            'suggestCharts', [key], {});\n",
              "      } catch (error) {\n",
              "        console.error('Error during call to suggestCharts:', error);\n",
              "      }\n",
              "      quickchartButtonEl.classList.remove('colab-df-spinner');\n",
              "      quickchartButtonEl.classList.add('colab-df-quickchart-complete');\n",
              "    }\n",
              "    (() => {\n",
              "      let quickchartButtonEl =\n",
              "        document.querySelector('#df-a75a6304-bd8a-453f-b245-da597f095fd0 button');\n",
              "      quickchartButtonEl.style.display =\n",
              "        google.colab.kernel.accessAllowed ? 'block' : 'none';\n",
              "    })();\n",
              "  </script>\n",
              "</div>\n",
              "    </div>\n",
              "  </div>\n"
            ]
          },
          "metadata": {},
          "execution_count": 174
        }
      ]
    },
    {
      "cell_type": "markdown",
      "source": [
        "Предполагаю, что по ошибке занесли два раза одну и ту же запись. Удалю дубликаты."
      ],
      "metadata": {
        "id": "LFO5pc60QIy5"
      }
    },
    {
      "cell_type": "code",
      "source": [
        "df = df.drop_duplicates()"
      ],
      "metadata": {
        "id": "vAjJoHZLOO5d"
      },
      "execution_count": 175,
      "outputs": []
    },
    {
      "cell_type": "code",
      "source": [
        "df.duplicated().sum()"
      ],
      "metadata": {
        "colab": {
          "base_uri": "https://localhost:8080/"
        },
        "id": "mjw-5hELQZuh",
        "outputId": "c2812a68-e77a-4cec-9726-f4e91005d445"
      },
      "execution_count": 176,
      "outputs": [
        {
          "output_type": "execute_result",
          "data": {
            "text/plain": [
              "0"
            ]
          },
          "metadata": {},
          "execution_count": 176
        }
      ]
    },
    {
      "cell_type": "markdown",
      "source": [
        "Посмотрим на типы данных в столбцах."
      ],
      "metadata": {
        "id": "e0k2X7YgQhV6"
      }
    },
    {
      "cell_type": "code",
      "source": [
        "df.info()"
      ],
      "metadata": {
        "colab": {
          "base_uri": "https://localhost:8080/"
        },
        "id": "OTXSTTA2QlCM",
        "outputId": "c2c30318-bbd2-41c1-8f9b-5adca08befcf"
      },
      "execution_count": 177,
      "outputs": [
        {
          "output_type": "stream",
          "name": "stdout",
          "text": [
            "<class 'pandas.core.frame.DataFrame'>\n",
            "Int64Index: 686 entries, 1 to 729\n",
            "Data columns (total 7 columns):\n",
            " #   Column          Non-Null Count  Dtype  \n",
            "---  ------          --------------  -----  \n",
            " 0   client_id       686 non-null    float64\n",
            " 1   sum             686 non-null    float64\n",
            " 2   status          686 non-null    object \n",
            " 3   sale            686 non-null    object \n",
            " 4   new/current     686 non-null    object \n",
            " 5   document        686 non-null    object \n",
            " 6   receiving_date  686 non-null    object \n",
            "dtypes: float64(2), object(5)\n",
            "memory usage: 42.9+ KB\n"
          ]
        }
      ]
    },
    {
      "cell_type": "markdown",
      "source": [
        "Столбец client_id приведём к типу данных int, а столбец receiving_date к типу дата."
      ],
      "metadata": {
        "id": "wHfa9hnmQ6ON"
      }
    },
    {
      "cell_type": "code",
      "source": [
        "df['client_id'] = df['client_id'].astype('int')"
      ],
      "metadata": {
        "id": "jBv3SMKfRNeJ"
      },
      "execution_count": 178,
      "outputs": []
    },
    {
      "cell_type": "code",
      "execution_count": 179,
      "metadata": {
        "id": "DMC8O_0JPWWh"
      },
      "outputs": [],
      "source": [
        "df['receiving_date'] = pd.to_datetime(df['receiving_date'])"
      ]
    },
    {
      "cell_type": "code",
      "execution_count": 180,
      "metadata": {
        "id": "rZ0ZlA5vQjFe",
        "colab": {
          "base_uri": "https://localhost:8080/"
        },
        "outputId": "7baaea15-f87f-4362-8d41-ee0834b16044"
      },
      "outputs": [
        {
          "output_type": "stream",
          "name": "stdout",
          "text": [
            "<class 'pandas.core.frame.DataFrame'>\n",
            "Int64Index: 686 entries, 1 to 729\n",
            "Data columns (total 7 columns):\n",
            " #   Column          Non-Null Count  Dtype         \n",
            "---  ------          --------------  -----         \n",
            " 0   client_id       686 non-null    int64         \n",
            " 1   sum             686 non-null    float64       \n",
            " 2   status          686 non-null    object        \n",
            " 3   sale            686 non-null    object        \n",
            " 4   new/current     686 non-null    object        \n",
            " 5   document        686 non-null    object        \n",
            " 6   receiving_date  686 non-null    datetime64[ns]\n",
            "dtypes: datetime64[ns](1), float64(1), int64(1), object(4)\n",
            "memory usage: 42.9+ KB\n"
          ]
        }
      ],
      "source": [
        "df.info()"
      ]
    },
    {
      "cell_type": "markdown",
      "source": [
        "## Вопрос 1"
      ],
      "metadata": {
        "id": "PFi0uT3XkGFh"
      }
    },
    {
      "cell_type": "markdown",
      "source": [
        " Вычислите общую выручку за июль 2021 по тем сделкам, приход денежных\n",
        "средств которых не просрочен."
      ],
      "metadata": {
        "id": "elLwzHYyl0I_"
      }
    },
    {
      "cell_type": "markdown",
      "source": [
        "Создадим новый столбец с номерами месяцев."
      ],
      "metadata": {
        "id": "1QMv7Iu0owf-"
      }
    },
    {
      "cell_type": "code",
      "source": [
        "df['month'] = df['receiving_date'].dt.month"
      ],
      "metadata": {
        "id": "PSXbuE85kXzB"
      },
      "execution_count": 181,
      "outputs": []
    },
    {
      "cell_type": "markdown",
      "source": [
        "Создадим срез данных по условиям и просуммируем выручку."
      ],
      "metadata": {
        "id": "guUzQt9vo155"
      }
    },
    {
      "cell_type": "code",
      "source": [
        "total_sum = df.loc[(df['status'] != 'ПРОСРОЧЕНО') & (df['month'] == 6)]['sum'].sum()\n",
        "print('Общая выручка за июль 2021 года по сделкам, приход денежных средств которых не просрочен, составляет', total_sum)"
      ],
      "metadata": {
        "id": "OdDpfCuBVESv",
        "colab": {
          "base_uri": "https://localhost:8080/"
        },
        "outputId": "f65d7033-9540-4c0f-e124-69f9d19fc9e5"
      },
      "execution_count": 182,
      "outputs": [
        {
          "output_type": "stream",
          "name": "stdout",
          "text": [
            "Общая выручка за июль 2021 года по сделкам, приход денежных средств которых не просрочен, составляет 499499.57\n"
          ]
        }
      ]
    },
    {
      "cell_type": "markdown",
      "source": [
        "## Вопрос 2"
      ],
      "metadata": {
        "id": "jvbpQxtxn4su"
      }
    },
    {
      "cell_type": "markdown",
      "source": [
        " Как изменялась выручка компании за рассматриваемый период?\n",
        "Проиллюстрируйте графиком"
      ],
      "metadata": {
        "id": "RFYmW2qMnzZi"
      }
    },
    {
      "cell_type": "markdown",
      "source": [
        "Создадим столбец с годом, чтобы отделить нашу эфимерную дату."
      ],
      "metadata": {
        "id": "vP_Gwnjap_pX"
      }
    },
    {
      "cell_type": "code",
      "source": [
        "df['year'] = df['receiving_date'].dt.year"
      ],
      "metadata": {
        "id": "LXP2D4aJp-5U"
      },
      "execution_count": 183,
      "outputs": []
    },
    {
      "cell_type": "markdown",
      "source": [
        "Выручка в рассматриваемый период, сгруппированная по месяцам."
      ],
      "metadata": {
        "id": "Ci3E9txLuDaw"
      }
    },
    {
      "cell_type": "code",
      "source": [
        "change_in_revenue = df.loc[df['year'] == 2021].groupby('month')['sum'].sum()\n",
        "display(change_in_revenue)"
      ],
      "metadata": {
        "colab": {
          "base_uri": "https://localhost:8080/",
          "height": 173
        },
        "id": "bkH-F5oSldUS",
        "outputId": "4eab5e40-e466-43f0-cb0e-3a1b994c973b"
      },
      "execution_count": 184,
      "outputs": [
        {
          "output_type": "display_data",
          "data": {
            "text/plain": [
              "month\n",
              "5      39236.60\n",
              "6     499499.57\n",
              "7     738444.84\n",
              "8     859403.86\n",
              "9     836649.67\n",
              "10    834072.43\n",
              "11    375606.30\n",
              "Name: sum, dtype: float64"
            ]
          },
          "metadata": {}
        }
      ]
    },
    {
      "cell_type": "markdown",
      "source": [
        "Видно, что в январь, февраль, март, апрель и декабрь выручку компания не получала."
      ],
      "metadata": {
        "id": "PJ7JCsnWxIqv"
      }
    },
    {
      "cell_type": "code",
      "source": [
        "plt.plot(change_in_revenue, color='green')\n",
        "plt.grid(True)\n",
        "plt.title('Изменение дохода в течении 2021 года')\n",
        "plt.xlabel('Номер месяца')\n",
        "plt.ylabel('Количество дохода в условных единицах')\n",
        "plt.show();"
      ],
      "metadata": {
        "colab": {
          "base_uri": "https://localhost:8080/",
          "height": 472
        },
        "id": "Vy9Hlgcgldeq",
        "outputId": "d0ad97dc-a51b-40a2-dfb0-d400e6ba195d"
      },
      "execution_count": 185,
      "outputs": [
        {
          "output_type": "display_data",
          "data": {
            "text/plain": [
              "<Figure size 640x480 with 1 Axes>"
            ],
            "image/png": "[encoded data removed]"
          },
          "metadata": {}
        }
      ]
    },
    {
      "cell_type": "markdown",
      "source": [
        "## Вопрос 3"
      ],
      "metadata": {
        "id": "Mm5mguX8xirE"
      }
    },
    {
      "cell_type": "markdown",
      "source": [
        "Кто из менеджеров привлек для компании больше всего денежных средств в\n",
        "сентябре 2021?\n"
      ],
      "metadata": {
        "id": "5nCJs0e3xnFh"
      }
    },
    {
      "cell_type": "code",
      "source": [
        "income_managers = df[['sum', 'sale']].loc[df['month'] == 9].groupby('sale').sum('sum')"
      ],
      "metadata": {
        "id": "BDbsW7FglhbG"
      },
      "execution_count": 186,
      "outputs": []
    },
    {
      "cell_type": "code",
      "source": [
        "income_managers.sort_values(by='sum', ascending=False)"
      ],
      "metadata": {
        "colab": {
          "base_uri": "https://localhost:8080/",
          "height": 331
        },
        "id": "b3AMuPJwx1D8",
        "outputId": "7a60ec9d-d94c-40ae-8344-9aacea988173"
      },
      "execution_count": 187,
      "outputs": [
        {
          "output_type": "execute_result",
          "data": {
            "text/plain": [
              "                  sum\n",
              "sale                 \n",
              "Петрова     198702.32\n",
              "Иванов      165314.80\n",
              "Смирнов     155245.90\n",
              "Андреев     123103.35\n",
              "Кузнецова    60230.20\n",
              "Васильев     49952.60\n",
              "Соколов      42170.90\n",
              "Филимонова   41929.60"
            ],
            "text/html": [
              "\n",
              "  <div id=\"df-4a3ca22a-9a7b-4ab5-8726-ce3270f2ce72\" class=\"colab-df-container\">\n",
              "    <div>\n",
              "<style scoped>\n",
              "    .dataframe tbody tr th:only-of-type {\n",
              "        vertical-align: middle;\n",
              "    }\n",
              "\n",
              "    .dataframe tbody tr th {\n",
              "        vertical-align: top;\n",
              "    }\n",
              "\n",
              "    .dataframe thead th {\n",
              "        text-align: right;\n",
              "    }\n",
              "</style>\n",
              "<table border=\"1\" class=\"dataframe\">\n",
              "  <thead>\n",
              "    <tr style=\"text-align: right;\">\n",
              "      <th></th>\n",
              "      <th>sum</th>\n",
              "    </tr>\n",
              "    <tr>\n",
              "      <th>sale</th>\n",
              "      <th></th>\n",
              "    </tr>\n",
              "  </thead>\n",
              "  <tbody>\n",
              "    <tr>\n",
              "      <th>Петрова</th>\n",
              "      <td>198702.32</td>\n",
              "    </tr>\n",
              "    <tr>\n",
              "      <th>Иванов</th>\n",
              "      <td>165314.80</td>\n",
              "    </tr>\n",
              "    <tr>\n",
              "      <th>Смирнов</th>\n",
              "      <td>155245.90</td>\n",
              "    </tr>\n",
              "    <tr>\n",
              "      <th>Андреев</th>\n",
              "      <td>123103.35</td>\n",
              "    </tr>\n",
              "    <tr>\n",
              "      <th>Кузнецова</th>\n",
              "      <td>60230.20</td>\n",
              "    </tr>\n",
              "    <tr>\n",
              "      <th>Васильев</th>\n",
              "      <td>49952.60</td>\n",
              "    </tr>\n",
              "    <tr>\n",
              "      <th>Соколов</th>\n",
              "      <td>42170.90</td>\n",
              "    </tr>\n",
              "    <tr>\n",
              "      <th>Филимонова</th>\n",
              "      <td>41929.60</td>\n",
              "    </tr>\n",
              "  </tbody>\n",
              "</table>\n",
              "</div>\n",
              "    <div class=\"colab-df-buttons\">\n",
              "\n",
              "  <div class=\"colab-df-container\">\n",
              "    <button class=\"colab-df-convert\" onclick=\"convertToInteractive('df-4a3ca22a-9a7b-4ab5-8726-ce3270f2ce72')\"\n",
              "            title=\"Convert this dataframe to an interactive table.\"\n",
              "            style=\"display:none;\">\n",
              "\n",
              "  <svg xmlns=\"http://www.w3.org/2000/svg\" height=\"24px\" viewBox=\"0 -960 960 960\">\n",
              "    <path d=\"M120-120v-720h720v720H120Zm60-500h600v-160H180v160Zm220 220h160v-160H400v160Zm0 220h160v-160H400v160ZM180-400h160v-160H180v160Zm440 0h160v-160H620v160ZM180-180h160v-160H180v160Zm440 0h160v-160H620v160Z\"/>\n",
              "  </svg>\n",
              "    </button>\n",
              "\n",
              "  <style>\n",
              "    .colab-df-container {\n",
              "      display:flex;\n",
              "      gap: 12px;\n",
              "    }\n",
              "\n",
              "    .colab-df-convert {\n",
              "      background-color: #E8F0FE;\n",
              "      border: none;\n",
              "      border-radius: 50%;\n",
              "      cursor: pointer;\n",
              "      display: none;\n",
              "      fill: #1967D2;\n",
              "      height: 32px;\n",
              "      padding: 0 0 0 0;\n",
              "      width: 32px;\n",
              "    }\n",
              "\n",
              "    .colab-df-convert:hover {\n",
              "      background-color: #E2EBFA;\n",
              "      box-shadow: 0px 1px 2px rgba(60, 64, 67, 0.3), 0px 1px 3px 1px rgba(60, 64, 67, 0.15);\n",
              "      fill: #174EA6;\n",
              "    }\n",
              "\n",
              "    .colab-df-buttons div {\n",
              "      margin-bottom: 4px;\n",
              "    }\n",
              "\n",
              "    [theme=dark] .colab-df-convert {\n",
              "      background-color: #3B4455;\n",
              "      fill: #D2E3FC;\n",
              "    }\n",
              "\n",
              "    [theme=dark] .colab-df-convert:hover {\n",
              "      background-color: #434B5C;\n",
              "      box-shadow: 0px 1px 3px 1px rgba(0, 0, 0, 0.15);\n",
              "      filter: drop-shadow(0px 1px 2px rgba(0, 0, 0, 0.3));\n",
              "      fill: #FFFFFF;\n",
              "    }\n",
              "  </style>\n",
              "\n",
              "    <script>\n",
              "      const buttonEl =\n",
              "        document.querySelector('#df-4a3ca22a-9a7b-4ab5-8726-ce3270f2ce72 button.colab-df-convert');\n",
              "      buttonEl.style.display =\n",
              "        google.colab.kernel.accessAllowed ? 'block' : 'none';\n",
              "\n",
              "      async function convertToInteractive(key) {\n",
              "        const element = document.querySelector('#df-4a3ca22a-9a7b-4ab5-8726-ce3270f2ce72');\n",
              "        const dataTable =\n",
              "          await google.colab.kernel.invokeFunction('convertToInteractive',\n",
              "                                                    [key], {});\n",
              "        if (!dataTable) return;\n",
              "\n",
              "        const docLinkHtml = 'Like what you see? Visit the ' +\n",
              "          '<a target=\"_blank\" href=https://colab.research.google.com/notebooks/data_table.ipynb>data table notebook</a>'\n",
              "          + ' to learn more about interactive tables.';\n",
              "        element.innerHTML = '';\n",
              "        dataTable['output_type'] = 'display_data';\n",
              "        await google.colab.output.renderOutput(dataTable, element);\n",
              "        const docLink = document.createElement('div');\n",
              "        docLink.innerHTML = docLinkHtml;\n",
              "        element.appendChild(docLink);\n",
              "      }\n",
              "    </script>\n",
              "  </div>\n",
              "\n",
              "\n",
              "<div id=\"df-6d0a5cbf-b913-4193-b72f-01eda8ac07ee\">\n",
              "  <button class=\"colab-df-quickchart\" onclick=\"quickchart('df-6d0a5cbf-b913-4193-b72f-01eda8ac07ee')\"\n",
              "            title=\"Suggest charts.\"\n",
              "            style=\"display:none;\">\n",
              "\n",
              "<svg xmlns=\"http://www.w3.org/2000/svg\" height=\"24px\"viewBox=\"0 0 24 24\"\n",
              "     width=\"24px\">\n",
              "    <g>\n",
              "        <path d=\"M19 3H5c-1.1 0-2 .9-2 2v14c0 1.1.9 2 2 2h14c1.1 0 2-.9 2-2V5c0-1.1-.9-2-2-2zM9 17H7v-7h2v7zm4 0h-2V7h2v10zm4 0h-2v-4h2v4z\"/>\n",
              "    </g>\n",
              "</svg>\n",
              "  </button>\n",
              "\n",
              "<style>\n",
              "  .colab-df-quickchart {\n",
              "      --bg-color: #E8F0FE;\n",
              "      --fill-color: #1967D2;\n",
              "      --hover-bg-color: #E2EBFA;\n",
              "      --hover-fill-color: #174EA6;\n",
              "      --disabled-fill-color: #AAA;\n",
              "      --disabled-bg-color: #DDD;\n",
              "  }\n",
              "\n",
              "  [theme=dark] .colab-df-quickchart {\n",
              "      --bg-color: #3B4455;\n",
              "      --fill-color: #D2E3FC;\n",
              "      --hover-bg-color: #434B5C;\n",
              "      --hover-fill-color: #FFFFFF;\n",
              "      --disabled-bg-color: #3B4455;\n",
              "      --disabled-fill-color: #666;\n",
              "  }\n",
              "\n",
              "  .colab-df-quickchart {\n",
              "    background-color: var(--bg-color);\n",
              "    border: none;\n",
              "    border-radius: 50%;\n",
              "    cursor: pointer;\n",
              "    display: none;\n",
              "    fill: var(--fill-color);\n",
              "    height: 32px;\n",
              "    padding: 0;\n",
              "    width: 32px;\n",
              "  }\n",
              "\n",
              "  .colab-df-quickchart:hover {\n",
              "    background-color: var(--hover-bg-color);\n",
              "    box-shadow: 0 1px 2px rgba(60, 64, 67, 0.3), 0 1px 3px 1px rgba(60, 64, 67, 0.15);\n",
              "    fill: var(--button-hover-fill-color);\n",
              "  }\n",
              "\n",
              "  .colab-df-quickchart-complete:disabled,\n",
              "  .colab-df-quickchart-complete:disabled:hover {\n",
              "    background-color: var(--disabled-bg-color);\n",
              "    fill: var(--disabled-fill-color);\n",
              "    box-shadow: none;\n",
              "  }\n",
              "\n",
              "  .colab-df-spinner {\n",
              "    border: 2px solid var(--fill-color);\n",
              "    border-color: transparent;\n",
              "    border-bottom-color: var(--fill-color);\n",
              "    animation:\n",
              "      spin 1s steps(1) infinite;\n",
              "  }\n",
              "\n",
              "  @keyframes spin {\n",
              "    0% {\n",
              "      border-color: transparent;\n",
              "      border-bottom-color: var(--fill-color);\n",
              "      border-left-color: var(--fill-color);\n",
              "    }\n",
              "    20% {\n",
              "      border-color: transparent;\n",
              "      border-left-color: var(--fill-color);\n",
              "      border-top-color: var(--fill-color);\n",
              "    }\n",
              "    30% {\n",
              "      border-color: transparent;\n",
              "      border-left-color: var(--fill-color);\n",
              "      border-top-color: var(--fill-color);\n",
              "      border-right-color: var(--fill-color);\n",
              "    }\n",
              "    40% {\n",
              "      border-color: transparent;\n",
              "      border-right-color: var(--fill-color);\n",
              "      border-top-color: var(--fill-color);\n",
              "    }\n",
              "    60% {\n",
              "      border-color: transparent;\n",
              "      border-right-color: var(--fill-color);\n",
              "    }\n",
              "    80% {\n",
              "      border-color: transparent;\n",
              "      border-right-color: var(--fill-color);\n",
              "      border-bottom-color: var(--fill-color);\n",
              "    }\n",
              "    90% {\n",
              "      border-color: transparent;\n",
              "      border-bottom-color: var(--fill-color);\n",
              "    }\n",
              "  }\n",
              "</style>\n",
              "\n",
              "  <script>\n",
              "    async function quickchart(key) {\n",
              "      const quickchartButtonEl =\n",
              "        document.querySelector('#' + key + ' button');\n",
              "      quickchartButtonEl.disabled = true;  // To prevent multiple clicks.\n",
              "      quickchartButtonEl.classList.add('colab-df-spinner');\n",
              "      try {\n",
              "        const charts = await google.colab.kernel.invokeFunction(\n",
              "            'suggestCharts', [key], {});\n",
              "      } catch (error) {\n",
              "        console.error('Error during call to suggestCharts:', error);\n",
              "      }\n",
              "      quickchartButtonEl.classList.remove('colab-df-spinner');\n",
              "      quickchartButtonEl.classList.add('colab-df-quickchart-complete');\n",
              "    }\n",
              "    (() => {\n",
              "      let quickchartButtonEl =\n",
              "        document.querySelector('#df-6d0a5cbf-b913-4193-b72f-01eda8ac07ee button');\n",
              "      quickchartButtonEl.style.display =\n",
              "        google.colab.kernel.accessAllowed ? 'block' : 'none';\n",
              "    })();\n",
              "  </script>\n",
              "</div>\n",
              "    </div>\n",
              "  </div>\n"
            ]
          },
          "metadata": {},
          "execution_count": 187
        }
      ]
    },
    {
      "cell_type": "markdown",
      "source": [
        "Больше всего денег привлекла менеджер Петрова."
      ],
      "metadata": {
        "id": "cYc_Js431swp"
      }
    },
    {
      "cell_type": "markdown",
      "source": [
        "## Вопрос 4"
      ],
      "metadata": {
        "id": "CeYm9wMe2OIP"
      }
    },
    {
      "cell_type": "markdown",
      "source": [
        " Какой тип сделок (новая/текущая) был преобладающим в октябре 2021?\n"
      ],
      "metadata": {
        "id": "kseS712x2UCN"
      }
    },
    {
      "cell_type": "code",
      "source": [
        "df_october = df.loc[df['month'] == 10].groupby('new/current')['client_id'].count()"
      ],
      "metadata": {
        "id": "yd8jZnM71N7Z"
      },
      "execution_count": 188,
      "outputs": []
    },
    {
      "cell_type": "code",
      "source": [
        "df_october.sort_values(ascending=False)"
      ],
      "metadata": {
        "colab": {
          "base_uri": "https://localhost:8080/"
        },
        "id": "9Swl7bRY2qgL",
        "outputId": "1b32219b-7189-416b-adfb-71b2a70a6a59"
      },
      "execution_count": 189,
      "outputs": [
        {
          "output_type": "execute_result",
          "data": {
            "text/plain": [
              "new/current\n",
              "текущая    98\n",
              "новая      17\n",
              "Name: client_id, dtype: int64"
            ]
          },
          "metadata": {},
          "execution_count": 189
        }
      ]
    },
    {
      "cell_type": "markdown",
      "source": [
        "В октябре 2021 года был преобладающим текущий тип сделок."
      ],
      "metadata": {
        "id": "nsw2xHIS3sXM"
      }
    },
    {
      "cell_type": "markdown",
      "source": [
        "## Вопрос 5"
      ],
      "metadata": {
        "id": "3LlJhot134Xr"
      }
    },
    {
      "cell_type": "markdown",
      "source": [
        "Сколько оригиналов договора по майским сделкам было получено в июне 2021?\n"
      ],
      "metadata": {
        "id": "He4xkqay39jU"
      }
    },
    {
      "cell_type": "code",
      "source": [
        "df_june = df.loc[(df['month'] == 5) & (df['document'] == 'оригинал')]['client_id'].count()"
      ],
      "metadata": {
        "id": "aNcByUqW2ri7"
      },
      "execution_count": 190,
      "outputs": []
    },
    {
      "cell_type": "code",
      "source": [
        "print('По майским сделкам было получено', df_june, 'оригинала')"
      ],
      "metadata": {
        "colab": {
          "base_uri": "https://localhost:8080/"
        },
        "id": "u9L1t8Lr4a-i",
        "outputId": "38f09144-6add-436e-d738-f479f7e18caa"
      },
      "execution_count": 191,
      "outputs": [
        {
          "output_type": "stream",
          "name": "stdout",
          "text": [
            "По майским сделкам было получено 3 оригинала\n"
          ]
        }
      ]
    },
    {
      "cell_type": "markdown",
      "source": [
        "## Задание"
      ],
      "metadata": {
        "id": "UP4-fVJS58CE"
      }
    },
    {
      "cell_type": "markdown",
      "source": [
        "Не понимаю момент в задании, где написано про рассматриваемый период, поэтому рассчитаю бонус для каждой сделки, подходящей под условие, бонус для менеджера и выведу в отдельный столбец. Также посчитаю общую сумму бонуса каждого менеджера за данный период."
      ],
      "metadata": {
        "id": "q_z1Dy2Ti9ER"
      }
    },
    {
      "cell_type": "markdown",
      "source": [
        "Сделаем срез данных по дате до июля."
      ],
      "metadata": {
        "id": "RPNdVSfUwBjf"
      }
    },
    {
      "cell_type": "code",
      "source": [
        "bonus_time = 1, 2, 3, 4, 5, 6"
      ],
      "metadata": {
        "id": "E7o_VZd0rrtM"
      },
      "execution_count": 192,
      "outputs": []
    },
    {
      "cell_type": "code",
      "source": [
        "df_bonus = df.query('month in @bonus_time')"
      ],
      "metadata": {
        "id": "963v1tLCrzqk"
      },
      "execution_count": 193,
      "outputs": []
    },
    {
      "cell_type": "markdown",
      "source": [
        "Избавимся от 2000 года, так как это тот самый год, которым мы заполнили пустые значения."
      ],
      "metadata": {
        "id": "vg8p6rsFwwiV"
      }
    },
    {
      "cell_type": "code",
      "source": [
        "df_bonus = df_bonus.loc[df_bonus['year'] != 2000]"
      ],
      "metadata": {
        "id": "jRHnhFsnsGBo"
      },
      "execution_count": 194,
      "outputs": []
    },
    {
      "cell_type": "markdown",
      "source": [
        "Бонус за новые сделки."
      ],
      "metadata": {
        "id": "d1zZF5E6xE8I"
      }
    },
    {
      "cell_type": "code",
      "source": [
        "df_bonus.loc[(df_bonus['new/current'] == 'новая') & (df_bonus['status'] == 'ОПЛАЧЕНО') & (df_bonus['document'] == 'оригинал'), 'bonus'] = df_bonus['sum'] * 0.07"
      ],
      "metadata": {
        "id": "JGFV0Krmosfu"
      },
      "execution_count": 195,
      "outputs": []
    },
    {
      "cell_type": "markdown",
      "source": [
        "Бонус за текущие сделки, которые стоили более 10000."
      ],
      "metadata": {
        "id": "5ciUNNUAxWUC"
      }
    },
    {
      "cell_type": "code",
      "source": [
        "df_bonus.loc[(df_bonus['new/current'] == 'текущая') & (df_bonus['status'] != 'ПРОСРОЧЕНО') & (df_bonus['sum'] > 10000) & (df_bonus['document'] == 'оригинал'), 'bonus'] = df_bonus['sum'] * 0.05"
      ],
      "metadata": {
        "id": "YpEldxEFppyo"
      },
      "execution_count": 196,
      "outputs": []
    },
    {
      "cell_type": "markdown",
      "source": [
        "Бонус за текущие сделки, которые стоили менее 10000."
      ],
      "metadata": {
        "id": "AcrS5gmpxhmF"
      }
    },
    {
      "cell_type": "code",
      "source": [
        "df_bonus.loc[(df_bonus['new/current'] == 'текущая') & (df_bonus['status'] != 'ПРОСРОЧЕНО') & (df_bonus['sum'] < 10000)  & (df_bonus['document'] == 'оригинал'), 'bonus'] = df_bonus['sum'] * 0.03"
      ],
      "metadata": {
        "id": "MXTzwHKZprse"
      },
      "execution_count": 197,
      "outputs": []
    },
    {
      "cell_type": "code",
      "source": [
        "df_bonus.head()"
      ],
      "metadata": {
        "colab": {
          "base_uri": "https://localhost:8080/",
          "height": 206
        },
        "id": "Ag9Mkt9bqsei",
        "outputId": "85c06d08-ad21-434c-cc54-8cc4d43a7a80"
      },
      "execution_count": 198,
      "outputs": [
        {
          "output_type": "execute_result",
          "data": {
            "text/plain": [
              "    client_id      sum    status     sale new/current  document  \\\n",
              "3          15  13991.7  ОПЛАЧЕНО   Иванов     текущая  оригинал   \n",
              "4          16    719.7  ОПЛАЧЕНО   Иванов     текущая  оригинал   \n",
              "8          23   8511.7  ОПЛАЧЕНО  Андреев     текущая  оригинал   \n",
              "9          24  16347.7  ОПЛАЧЕНО  Андреев       новая  оригинал   \n",
              "10         28  10537.7  ОПЛАЧЕНО  Андреев     текущая  оригинал   \n",
              "\n",
              "   receiving_date  month  year     bonus  \n",
              "3      2021-06-08      6  2021   699.585  \n",
              "4      2021-06-08      6  2021    21.591  \n",
              "8      2021-06-08      6  2021   255.351  \n",
              "9      2021-06-23      6  2021  1144.339  \n",
              "10     2021-06-16      6  2021   526.885  "
            ],
            "text/html": [
              "\n",
              "  <div id=\"df-57e480d2-42b9-4174-ade7-7c0e7ee3a396\" class=\"colab-df-container\">\n",
              "    <div>\n",
              "<style scoped>\n",
              "    .dataframe tbody tr th:only-of-type {\n",
              "        vertical-align: middle;\n",
              "    }\n",
              "\n",
              "    .dataframe tbody tr th {\n",
              "        vertical-align: top;\n",
              "    }\n",
              "\n",
              "    .dataframe thead th {\n",
              "        text-align: right;\n",
              "    }\n",
              "</style>\n",
              "<table border=\"1\" class=\"dataframe\">\n",
              "  <thead>\n",
              "    <tr style=\"text-align: right;\">\n",
              "      <th></th>\n",
              "      <th>client_id</th>\n",
              "      <th>sum</th>\n",
              "      <th>status</th>\n",
              "      <th>sale</th>\n",
              "      <th>new/current</th>\n",
              "      <th>document</th>\n",
              "      <th>receiving_date</th>\n",
              "      <th>month</th>\n",
              "      <th>year</th>\n",
              "      <th>bonus</th>\n",
              "    </tr>\n",
              "  </thead>\n",
              "  <tbody>\n",
              "    <tr>\n",
              "      <th>3</th>\n",
              "      <td>15</td>\n",
              "      <td>13991.7</td>\n",
              "      <td>ОПЛАЧЕНО</td>\n",
              "      <td>Иванов</td>\n",
              "      <td>текущая</td>\n",
              "      <td>оригинал</td>\n",
              "      <td>2021-06-08</td>\n",
              "      <td>6</td>\n",
              "      <td>2021</td>\n",
              "      <td>699.585</td>\n",
              "    </tr>\n",
              "    <tr>\n",
              "      <th>4</th>\n",
              "      <td>16</td>\n",
              "      <td>719.7</td>\n",
              "      <td>ОПЛАЧЕНО</td>\n",
              "      <td>Иванов</td>\n",
              "      <td>текущая</td>\n",
              "      <td>оригинал</td>\n",
              "      <td>2021-06-08</td>\n",
              "      <td>6</td>\n",
              "      <td>2021</td>\n",
              "      <td>21.591</td>\n",
              "    </tr>\n",
              "    <tr>\n",
              "      <th>8</th>\n",
              "      <td>23</td>\n",
              "      <td>8511.7</td>\n",
              "      <td>ОПЛАЧЕНО</td>\n",
              "      <td>Андреев</td>\n",
              "      <td>текущая</td>\n",
              "      <td>оригинал</td>\n",
              "      <td>2021-06-08</td>\n",
              "      <td>6</td>\n",
              "      <td>2021</td>\n",
              "      <td>255.351</td>\n",
              "    </tr>\n",
              "    <tr>\n",
              "      <th>9</th>\n",
              "      <td>24</td>\n",
              "      <td>16347.7</td>\n",
              "      <td>ОПЛАЧЕНО</td>\n",
              "      <td>Андреев</td>\n",
              "      <td>новая</td>\n",
              "      <td>оригинал</td>\n",
              "      <td>2021-06-23</td>\n",
              "      <td>6</td>\n",
              "      <td>2021</td>\n",
              "      <td>1144.339</td>\n",
              "    </tr>\n",
              "    <tr>\n",
              "      <th>10</th>\n",
              "      <td>28</td>\n",
              "      <td>10537.7</td>\n",
              "      <td>ОПЛАЧЕНО</td>\n",
              "      <td>Андреев</td>\n",
              "      <td>текущая</td>\n",
              "      <td>оригинал</td>\n",
              "      <td>2021-06-16</td>\n",
              "      <td>6</td>\n",
              "      <td>2021</td>\n",
              "      <td>526.885</td>\n",
              "    </tr>\n",
              "  </tbody>\n",
              "</table>\n",
              "</div>\n",
              "    <div class=\"colab-df-buttons\">\n",
              "\n",
              "  <div class=\"colab-df-container\">\n",
              "    <button class=\"colab-df-convert\" onclick=\"convertToInteractive('df-57e480d2-42b9-4174-ade7-7c0e7ee3a396')\"\n",
              "            title=\"Convert this dataframe to an interactive table.\"\n",
              "            style=\"display:none;\">\n",
              "\n",
              "  <svg xmlns=\"http://www.w3.org/2000/svg\" height=\"24px\" viewBox=\"0 -960 960 960\">\n",
              "    <path d=\"M120-120v-720h720v720H120Zm60-500h600v-160H180v160Zm220 220h160v-160H400v160Zm0 220h160v-160H400v160ZM180-400h160v-160H180v160Zm440 0h160v-160H620v160ZM180-180h160v-160H180v160Zm440 0h160v-160H620v160Z\"/>\n",
              "  </svg>\n",
              "    </button>\n",
              "\n",
              "  <style>\n",
              "    .colab-df-container {\n",
              "      display:flex;\n",
              "      gap: 12px;\n",
              "    }\n",
              "\n",
              "    .colab-df-convert {\n",
              "      background-color: #E8F0FE;\n",
              "      border: none;\n",
              "      border-radius: 50%;\n",
              "      cursor: pointer;\n",
              "      display: none;\n",
              "      fill: #1967D2;\n",
              "      height: 32px;\n",
              "      padding: 0 0 0 0;\n",
              "      width: 32px;\n",
              "    }\n",
              "\n",
              "    .colab-df-convert:hover {\n",
              "      background-color: #E2EBFA;\n",
              "      box-shadow: 0px 1px 2px rgba(60, 64, 67, 0.3), 0px 1px 3px 1px rgba(60, 64, 67, 0.15);\n",
              "      fill: #174EA6;\n",
              "    }\n",
              "\n",
              "    .colab-df-buttons div {\n",
              "      margin-bottom: 4px;\n",
              "    }\n",
              "\n",
              "    [theme=dark] .colab-df-convert {\n",
              "      background-color: #3B4455;\n",
              "      fill: #D2E3FC;\n",
              "    }\n",
              "\n",
              "    [theme=dark] .colab-df-convert:hover {\n",
              "      background-color: #434B5C;\n",
              "      box-shadow: 0px 1px 3px 1px rgba(0, 0, 0, 0.15);\n",
              "      filter: drop-shadow(0px 1px 2px rgba(0, 0, 0, 0.3));\n",
              "      fill: #FFFFFF;\n",
              "    }\n",
              "  </style>\n",
              "\n",
              "    <script>\n",
              "      const buttonEl =\n",
              "        document.querySelector('#df-57e480d2-42b9-4174-ade7-7c0e7ee3a396 button.colab-df-convert');\n",
              "      buttonEl.style.display =\n",
              "        google.colab.kernel.accessAllowed ? 'block' : 'none';\n",
              "\n",
              "      async function convertToInteractive(key) {\n",
              "        const element = document.querySelector('#df-57e480d2-42b9-4174-ade7-7c0e7ee3a396');\n",
              "        const dataTable =\n",
              "          await google.colab.kernel.invokeFunction('convertToInteractive',\n",
              "                                                    [key], {});\n",
              "        if (!dataTable) return;\n",
              "\n",
              "        const docLinkHtml = 'Like what you see? Visit the ' +\n",
              "          '<a target=\"_blank\" href=https://colab.research.google.com/notebooks/data_table.ipynb>data table notebook</a>'\n",
              "          + ' to learn more about interactive tables.';\n",
              "        element.innerHTML = '';\n",
              "        dataTable['output_type'] = 'display_data';\n",
              "        await google.colab.output.renderOutput(dataTable, element);\n",
              "        const docLink = document.createElement('div');\n",
              "        docLink.innerHTML = docLinkHtml;\n",
              "        element.appendChild(docLink);\n",
              "      }\n",
              "    </script>\n",
              "  </div>\n",
              "\n",
              "\n",
              "<div id=\"df-5ce1f4e7-53df-4a9e-8a97-5233c6f87e46\">\n",
              "  <button class=\"colab-df-quickchart\" onclick=\"quickchart('df-5ce1f4e7-53df-4a9e-8a97-5233c6f87e46')\"\n",
              "            title=\"Suggest charts.\"\n",
              "            style=\"display:none;\">\n",
              "\n",
              "<svg xmlns=\"http://www.w3.org/2000/svg\" height=\"24px\"viewBox=\"0 0 24 24\"\n",
              "     width=\"24px\">\n",
              "    <g>\n",
              "        <path d=\"M19 3H5c-1.1 0-2 .9-2 2v14c0 1.1.9 2 2 2h14c1.1 0 2-.9 2-2V5c0-1.1-.9-2-2-2zM9 17H7v-7h2v7zm4 0h-2V7h2v10zm4 0h-2v-4h2v4z\"/>\n",
              "    </g>\n",
              "</svg>\n",
              "  </button>\n",
              "\n",
              "<style>\n",
              "  .colab-df-quickchart {\n",
              "      --bg-color: #E8F0FE;\n",
              "      --fill-color: #1967D2;\n",
              "      --hover-bg-color: #E2EBFA;\n",
              "      --hover-fill-color: #174EA6;\n",
              "      --disabled-fill-color: #AAA;\n",
              "      --disabled-bg-color: #DDD;\n",
              "  }\n",
              "\n",
              "  [theme=dark] .colab-df-quickchart {\n",
              "      --bg-color: #3B4455;\n",
              "      --fill-color: #D2E3FC;\n",
              "      --hover-bg-color: #434B5C;\n",
              "      --hover-fill-color: #FFFFFF;\n",
              "      --disabled-bg-color: #3B4455;\n",
              "      --disabled-fill-color: #666;\n",
              "  }\n",
              "\n",
              "  .colab-df-quickchart {\n",
              "    background-color: var(--bg-color);\n",
              "    border: none;\n",
              "    border-radius: 50%;\n",
              "    cursor: pointer;\n",
              "    display: none;\n",
              "    fill: var(--fill-color);\n",
              "    height: 32px;\n",
              "    padding: 0;\n",
              "    width: 32px;\n",
              "  }\n",
              "\n",
              "  .colab-df-quickchart:hover {\n",
              "    background-color: var(--hover-bg-color);\n",
              "    box-shadow: 0 1px 2px rgba(60, 64, 67, 0.3), 0 1px 3px 1px rgba(60, 64, 67, 0.15);\n",
              "    fill: var(--button-hover-fill-color);\n",
              "  }\n",
              "\n",
              "  .colab-df-quickchart-complete:disabled,\n",
              "  .colab-df-quickchart-complete:disabled:hover {\n",
              "    background-color: var(--disabled-bg-color);\n",
              "    fill: var(--disabled-fill-color);\n",
              "    box-shadow: none;\n",
              "  }\n",
              "\n",
              "  .colab-df-spinner {\n",
              "    border: 2px solid var(--fill-color);\n",
              "    border-color: transparent;\n",
              "    border-bottom-color: var(--fill-color);\n",
              "    animation:\n",
              "      spin 1s steps(1) infinite;\n",
              "  }\n",
              "\n",
              "  @keyframes spin {\n",
              "    0% {\n",
              "      border-color: transparent;\n",
              "      border-bottom-color: var(--fill-color);\n",
              "      border-left-color: var(--fill-color);\n",
              "    }\n",
              "    20% {\n",
              "      border-color: transparent;\n",
              "      border-left-color: var(--fill-color);\n",
              "      border-top-color: var(--fill-color);\n",
              "    }\n",
              "    30% {\n",
              "      border-color: transparent;\n",
              "      border-left-color: var(--fill-color);\n",
              "      border-top-color: var(--fill-color);\n",
              "      border-right-color: var(--fill-color);\n",
              "    }\n",
              "    40% {\n",
              "      border-color: transparent;\n",
              "      border-right-color: var(--fill-color);\n",
              "      border-top-color: var(--fill-color);\n",
              "    }\n",
              "    60% {\n",
              "      border-color: transparent;\n",
              "      border-right-color: var(--fill-color);\n",
              "    }\n",
              "    80% {\n",
              "      border-color: transparent;\n",
              "      border-right-color: var(--fill-color);\n",
              "      border-bottom-color: var(--fill-color);\n",
              "    }\n",
              "    90% {\n",
              "      border-color: transparent;\n",
              "      border-bottom-color: var(--fill-color);\n",
              "    }\n",
              "  }\n",
              "</style>\n",
              "\n",
              "  <script>\n",
              "    async function quickchart(key) {\n",
              "      const quickchartButtonEl =\n",
              "        document.querySelector('#' + key + ' button');\n",
              "      quickchartButtonEl.disabled = true;  // To prevent multiple clicks.\n",
              "      quickchartButtonEl.classList.add('colab-df-spinner');\n",
              "      try {\n",
              "        const charts = await google.colab.kernel.invokeFunction(\n",
              "            'suggestCharts', [key], {});\n",
              "      } catch (error) {\n",
              "        console.error('Error during call to suggestCharts:', error);\n",
              "      }\n",
              "      quickchartButtonEl.classList.remove('colab-df-spinner');\n",
              "      quickchartButtonEl.classList.add('colab-df-quickchart-complete');\n",
              "    }\n",
              "    (() => {\n",
              "      let quickchartButtonEl =\n",
              "        document.querySelector('#df-5ce1f4e7-53df-4a9e-8a97-5233c6f87e46 button');\n",
              "      quickchartButtonEl.style.display =\n",
              "        google.colab.kernel.accessAllowed ? 'block' : 'none';\n",
              "    })();\n",
              "  </script>\n",
              "</div>\n",
              "    </div>\n",
              "  </div>\n"
            ]
          },
          "metadata": {},
          "execution_count": 198
        }
      ]
    },
    {
      "cell_type": "code",
      "source": [
        "df_bonus_grouped = df_bonus.groupby('sale')['bonus'].sum()\n",
        "print('Топ 10 менеджеров по заработанному бонусу', df_bonus_grouped.sort_values(ascending=False))"
      ],
      "metadata": {
        "colab": {
          "base_uri": "https://localhost:8080/"
        },
        "id": "N62qv7_1q26K",
        "outputId": "37939f50-ab76-4fcf-e0de-3b99363c4464"
      },
      "execution_count": 199,
      "outputs": [
        {
          "output_type": "stream",
          "name": "stdout",
          "text": [
            "Топ 10 менеджеров по заработанному бонусу sale\n",
            "Петрова       7028.8020\n",
            "Смирнов       4775.1330\n",
            "Андреев       4657.5427\n",
            "Кузнецова     2604.6716\n",
            "Иванов        2503.8390\n",
            "Филимонова     409.6830\n",
            "Селиванов      353.3220\n",
            "Васильев       339.2310\n",
            "Name: bonus, dtype: float64\n"
          ]
        }
      ]
    },
    {
      "cell_type": "markdown",
      "source": [
        "Больше всего бонусами заработала Петрова."
      ],
      "metadata": {
        "id": "iauFb-Jgz_6I"
      }
    },
    {
      "cell_type": "code",
      "source": [],
      "metadata": {
        "id": "KW9HxvP_0J39"
      },
      "execution_count": null,
      "outputs": []
    }
  ],
  "metadata": {
    "colab": {
      "provenance": []
    },
    "kernelspec": {
      "display_name": "Python 3",
      "name": "python3"
    },
    "language_info": {
      "name": "python"
    }
  },
  "nbformat": 4,
  "nbformat_minor": 0
}