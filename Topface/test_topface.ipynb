{
  "nbformat": 4,
  "nbformat_minor": 0,
  "metadata": {
    "colab": {
      "provenance": []
    },
    "kernelspec": {
      "name": "python3",
      "display_name": "Python 3"
    },
    "language_info": {
      "name": "python"
    }
  },
  "cells": [
    {
      "cell_type": "markdown",
      "source": [
        " # Техническое задание"
      ],
      "metadata": {
        "id": "5gjyclhFjqTn"
      }
    },
    {
      "cell_type": "code",
      "source": [
        "import pandas as pd"
      ],
      "metadata": {
        "id": "Bj92eRF1jt6L"
      },
      "execution_count": 119,
      "outputs": []
    },
    {
      "cell_type": "code",
      "source": [
        "df = pd.read_csv('/content/test_data.csv')\n",
        "df.info()\n",
        "display(df.describe())\n",
        "display(df.head())"
      ],
      "metadata": {
        "colab": {
          "base_uri": "https://localhost:8080/",
          "height": 1000
        },
        "id": "29KxWVMjjyNp",
        "outputId": "8ab05181-da69-406d-9660-9c61bfccfda6"
      },
      "execution_count": 120,
      "outputs": [
        {
          "output_type": "stream",
          "name": "stdout",
          "text": [
            "<class 'pandas.core.frame.DataFrame'>\n",
            "RangeIndex: 87 entries, 0 to 86\n",
            "Data columns (total 17 columns):\n",
            " #   Column             Non-Null Count  Dtype \n",
            "---  ------             --------------  ----- \n",
            " 0   Campaign_id        87 non-null     int64 \n",
            " 1   Geo                87 non-null     object\n",
            " 2   Buyer              87 non-null     object\n",
            " 3   Impressions        87 non-null     int64 \n",
            " 4   Clicks             87 non-null     int64 \n",
            " 5   Installs           87 non-null     int64 \n",
            " 6   Registrations      87 non-null     int64 \n",
            " 7   Spend              87 non-null     object\n",
            " 8   Revenue_ad1d       87 non-null     object\n",
            " 9   Revenue_in_app1d   87 non-null     object\n",
            " 10  Payers1d           87 non-null     int64 \n",
            " 11  Revenue_ad7d       87 non-null     object\n",
            " 12  Revenue_in_app7d   87 non-null     object\n",
            " 13  Payers7d           87 non-null     int64 \n",
            " 14  Revenue_ad30d      87 non-null     object\n",
            " 15  Revenue_in_app30d  87 non-null     object\n",
            " 16  Payers30d          87 non-null     int64 \n",
            "dtypes: int64(8), object(9)\n",
            "memory usage: 11.7+ KB\n"
          ]
        },
        {
          "output_type": "display_data",
          "data": {
            "text/plain": [
              "       Campaign_id   Impressions         Clicks      Installs  Registrations  \\\n",
              "count    87.000000  8.700000e+01      87.000000     87.000000      87.000000   \n",
              "mean     44.000000  1.140572e+05    3804.494253   1211.850575     769.057471   \n",
              "std      25.258662  3.989255e+05   14610.898115   3883.087208    2577.564690   \n",
              "min       1.000000  2.185000e+03      53.000000     10.000000       2.000000   \n",
              "25%      22.500000  1.057700e+04     276.500000    107.500000      44.500000   \n",
              "50%      44.000000  2.619300e+04     724.000000    258.000000     147.000000   \n",
              "75%      65.500000  7.088950e+04    2063.500000    763.500000     501.500000   \n",
              "max      87.000000  3.456974e+06  129508.000000  33054.000000   21932.000000   \n",
              "\n",
              "        Payers1d   Payers7d  Payers30d  \n",
              "count  87.000000  87.000000  87.000000  \n",
              "mean    2.034483   2.551724   2.816092  \n",
              "std     7.169782   8.798465   9.299323  \n",
              "min     0.000000   0.000000   0.000000  \n",
              "25%     0.000000   0.000000   0.000000  \n",
              "50%     0.000000   0.000000   1.000000  \n",
              "75%     2.000000   2.000000   3.000000  \n",
              "max    64.000000  79.000000  83.000000  "
            ],
            "text/html": [
              "\n",
              "  <div id=\"df-6c3e08a8-3da4-4fbc-b656-2a8d710ab65c\" class=\"colab-df-container\">\n",
              "    <div>\n",
              "<style scoped>\n",
              "    .dataframe tbody tr th:only-of-type {\n",
              "        vertical-align: middle;\n",
              "    }\n",
              "\n",
              "    .dataframe tbody tr th {\n",
              "        vertical-align: top;\n",
              "    }\n",
              "\n",
              "    .dataframe thead th {\n",
              "        text-align: right;\n",
              "    }\n",
              "</style>\n",
              "<table border=\"1\" class=\"dataframe\">\n",
              "  <thead>\n",
              "    <tr style=\"text-align: right;\">\n",
              "      <th></th>\n",
              "      <th>Campaign_id</th>\n",
              "      <th>Impressions</th>\n",
              "      <th>Clicks</th>\n",
              "      <th>Installs</th>\n",
              "      <th>Registrations</th>\n",
              "      <th>Payers1d</th>\n",
              "      <th>Payers7d</th>\n",
              "      <th>Payers30d</th>\n",
              "    </tr>\n",
              "  </thead>\n",
              "  <tbody>\n",
              "    <tr>\n",
              "      <th>count</th>\n",
              "      <td>87.000000</td>\n",
              "      <td>8.700000e+01</td>\n",
              "      <td>87.000000</td>\n",
              "      <td>87.000000</td>\n",
              "      <td>87.000000</td>\n",
              "      <td>87.000000</td>\n",
              "      <td>87.000000</td>\n",
              "      <td>87.000000</td>\n",
              "    </tr>\n",
              "    <tr>\n",
              "      <th>mean</th>\n",
              "      <td>44.000000</td>\n",
              "      <td>1.140572e+05</td>\n",
              "      <td>3804.494253</td>\n",
              "      <td>1211.850575</td>\n",
              "      <td>769.057471</td>\n",
              "      <td>2.034483</td>\n",
              "      <td>2.551724</td>\n",
              "      <td>2.816092</td>\n",
              "    </tr>\n",
              "    <tr>\n",
              "      <th>std</th>\n",
              "      <td>25.258662</td>\n",
              "      <td>3.989255e+05</td>\n",
              "      <td>14610.898115</td>\n",
              "      <td>3883.087208</td>\n",
              "      <td>2577.564690</td>\n",
              "      <td>7.169782</td>\n",
              "      <td>8.798465</td>\n",
              "      <td>9.299323</td>\n",
              "    </tr>\n",
              "    <tr>\n",
              "      <th>min</th>\n",
              "      <td>1.000000</td>\n",
              "      <td>2.185000e+03</td>\n",
              "      <td>53.000000</td>\n",
              "      <td>10.000000</td>\n",
              "      <td>2.000000</td>\n",
              "      <td>0.000000</td>\n",
              "      <td>0.000000</td>\n",
              "      <td>0.000000</td>\n",
              "    </tr>\n",
              "    <tr>\n",
              "      <th>25%</th>\n",
              "      <td>22.500000</td>\n",
              "      <td>1.057700e+04</td>\n",
              "      <td>276.500000</td>\n",
              "      <td>107.500000</td>\n",
              "      <td>44.500000</td>\n",
              "      <td>0.000000</td>\n",
              "      <td>0.000000</td>\n",
              "      <td>0.000000</td>\n",
              "    </tr>\n",
              "    <tr>\n",
              "      <th>50%</th>\n",
              "      <td>44.000000</td>\n",
              "      <td>2.619300e+04</td>\n",
              "      <td>724.000000</td>\n",
              "      <td>258.000000</td>\n",
              "      <td>147.000000</td>\n",
              "      <td>0.000000</td>\n",
              "      <td>0.000000</td>\n",
              "      <td>1.000000</td>\n",
              "    </tr>\n",
              "    <tr>\n",
              "      <th>75%</th>\n",
              "      <td>65.500000</td>\n",
              "      <td>7.088950e+04</td>\n",
              "      <td>2063.500000</td>\n",
              "      <td>763.500000</td>\n",
              "      <td>501.500000</td>\n",
              "      <td>2.000000</td>\n",
              "      <td>2.000000</td>\n",
              "      <td>3.000000</td>\n",
              "    </tr>\n",
              "    <tr>\n",
              "      <th>max</th>\n",
              "      <td>87.000000</td>\n",
              "      <td>3.456974e+06</td>\n",
              "      <td>129508.000000</td>\n",
              "      <td>33054.000000</td>\n",
              "      <td>21932.000000</td>\n",
              "      <td>64.000000</td>\n",
              "      <td>79.000000</td>\n",
              "      <td>83.000000</td>\n",
              "    </tr>\n",
              "  </tbody>\n",
              "</table>\n",
              "</div>\n",
              "    <div class=\"colab-df-buttons\">\n",
              "\n",
              "  <div class=\"colab-df-container\">\n",
              "    <button class=\"colab-df-convert\" onclick=\"convertToInteractive('df-6c3e08a8-3da4-4fbc-b656-2a8d710ab65c')\"\n",
              "            title=\"Convert this dataframe to an interactive table.\"\n",
              "            style=\"display:none;\">\n",
              "\n",
              "  <svg xmlns=\"http://www.w3.org/2000/svg\" height=\"24px\" viewBox=\"0 -960 960 960\">\n",
              "    <path d=\"M120-120v-720h720v720H120Zm60-500h600v-160H180v160Zm220 220h160v-160H400v160Zm0 220h160v-160H400v160ZM180-400h160v-160H180v160Zm440 0h160v-160H620v160ZM180-180h160v-160H180v160Zm440 0h160v-160H620v160Z\"/>\n",
              "  </svg>\n",
              "    </button>\n",
              "\n",
              "  <style>\n",
              "    .colab-df-container {\n",
              "      display:flex;\n",
              "      gap: 12px;\n",
              "    }\n",
              "\n",
              "    .colab-df-convert {\n",
              "      background-color: #E8F0FE;\n",
              "      border: none;\n",
              "      border-radius: 50%;\n",
              "      cursor: pointer;\n",
              "      display: none;\n",
              "      fill: #1967D2;\n",
              "      height: 32px;\n",
              "      padding: 0 0 0 0;\n",
              "      width: 32px;\n",
              "    }\n",
              "\n",
              "    .colab-df-convert:hover {\n",
              "      background-color: #E2EBFA;\n",
              "      box-shadow: 0px 1px 2px rgba(60, 64, 67, 0.3), 0px 1px 3px 1px rgba(60, 64, 67, 0.15);\n",
              "      fill: #174EA6;\n",
              "    }\n",
              "\n",
              "    .colab-df-buttons div {\n",
              "      margin-bottom: 4px;\n",
              "    }\n",
              "\n",
              "    [theme=dark] .colab-df-convert {\n",
              "      background-color: #3B4455;\n",
              "      fill: #D2E3FC;\n",
              "    }\n",
              "\n",
              "    [theme=dark] .colab-df-convert:hover {\n",
              "      background-color: #434B5C;\n",
              "      box-shadow: 0px 1px 3px 1px rgba(0, 0, 0, 0.15);\n",
              "      filter: drop-shadow(0px 1px 2px rgba(0, 0, 0, 0.3));\n",
              "      fill: #FFFFFF;\n",
              "    }\n",
              "  </style>\n",
              "\n",
              "    <script>\n",
              "      const buttonEl =\n",
              "        document.querySelector('#df-6c3e08a8-3da4-4fbc-b656-2a8d710ab65c button.colab-df-convert');\n",
              "      buttonEl.style.display =\n",
              "        google.colab.kernel.accessAllowed ? 'block' : 'none';\n",
              "\n",
              "      async function convertToInteractive(key) {\n",
              "        const element = document.querySelector('#df-6c3e08a8-3da4-4fbc-b656-2a8d710ab65c');\n",
              "        const dataTable =\n",
              "          await google.colab.kernel.invokeFunction('convertToInteractive',\n",
              "                                                    [key], {});\n",
              "        if (!dataTable) return;\n",
              "\n",
              "        const docLinkHtml = 'Like what you see? Visit the ' +\n",
              "          '<a target=\"_blank\" href=https://colab.research.google.com/notebooks/data_table.ipynb>data table notebook</a>'\n",
              "          + ' to learn more about interactive tables.';\n",
              "        element.innerHTML = '';\n",
              "        dataTable['output_type'] = 'display_data';\n",
              "        await google.colab.output.renderOutput(dataTable, element);\n",
              "        const docLink = document.createElement('div');\n",
              "        docLink.innerHTML = docLinkHtml;\n",
              "        element.appendChild(docLink);\n",
              "      }\n",
              "    </script>\n",
              "  </div>\n",
              "\n",
              "\n",
              "<div id=\"df-089012d6-2efa-4119-995f-2de0b6b34631\">\n",
              "  <button class=\"colab-df-quickchart\" onclick=\"quickchart('df-089012d6-2efa-4119-995f-2de0b6b34631')\"\n",
              "            title=\"Suggest charts.\"\n",
              "            style=\"display:none;\">\n",
              "\n",
              "<svg xmlns=\"http://www.w3.org/2000/svg\" height=\"24px\"viewBox=\"0 0 24 24\"\n",
              "     width=\"24px\">\n",
              "    <g>\n",
              "        <path d=\"M19 3H5c-1.1 0-2 .9-2 2v14c0 1.1.9 2 2 2h14c1.1 0 2-.9 2-2V5c0-1.1-.9-2-2-2zM9 17H7v-7h2v7zm4 0h-2V7h2v10zm4 0h-2v-4h2v4z\"/>\n",
              "    </g>\n",
              "</svg>\n",
              "  </button>\n",
              "\n",
              "<style>\n",
              "  .colab-df-quickchart {\n",
              "      --bg-color: #E8F0FE;\n",
              "      --fill-color: #1967D2;\n",
              "      --hover-bg-color: #E2EBFA;\n",
              "      --hover-fill-color: #174EA6;\n",
              "      --disabled-fill-color: #AAA;\n",
              "      --disabled-bg-color: #DDD;\n",
              "  }\n",
              "\n",
              "  [theme=dark] .colab-df-quickchart {\n",
              "      --bg-color: #3B4455;\n",
              "      --fill-color: #D2E3FC;\n",
              "      --hover-bg-color: #434B5C;\n",
              "      --hover-fill-color: #FFFFFF;\n",
              "      --disabled-bg-color: #3B4455;\n",
              "      --disabled-fill-color: #666;\n",
              "  }\n",
              "\n",
              "  .colab-df-quickchart {\n",
              "    background-color: var(--bg-color);\n",
              "    border: none;\n",
              "    border-radius: 50%;\n",
              "    cursor: pointer;\n",
              "    display: none;\n",
              "    fill: var(--fill-color);\n",
              "    height: 32px;\n",
              "    padding: 0;\n",
              "    width: 32px;\n",
              "  }\n",
              "\n",
              "  .colab-df-quickchart:hover {\n",
              "    background-color: var(--hover-bg-color);\n",
              "    box-shadow: 0 1px 2px rgba(60, 64, 67, 0.3), 0 1px 3px 1px rgba(60, 64, 67, 0.15);\n",
              "    fill: var(--button-hover-fill-color);\n",
              "  }\n",
              "\n",
              "  .colab-df-quickchart-complete:disabled,\n",
              "  .colab-df-quickchart-complete:disabled:hover {\n",
              "    background-color: var(--disabled-bg-color);\n",
              "    fill: var(--disabled-fill-color);\n",
              "    box-shadow: none;\n",
              "  }\n",
              "\n",
              "  .colab-df-spinner {\n",
              "    border: 2px solid var(--fill-color);\n",
              "    border-color: transparent;\n",
              "    border-bottom-color: var(--fill-color);\n",
              "    animation:\n",
              "      spin 1s steps(1) infinite;\n",
              "  }\n",
              "\n",
              "  @keyframes spin {\n",
              "    0% {\n",
              "      border-color: transparent;\n",
              "      border-bottom-color: var(--fill-color);\n",
              "      border-left-color: var(--fill-color);\n",
              "    }\n",
              "    20% {\n",
              "      border-color: transparent;\n",
              "      border-left-color: var(--fill-color);\n",
              "      border-top-color: var(--fill-color);\n",
              "    }\n",
              "    30% {\n",
              "      border-color: transparent;\n",
              "      border-left-color: var(--fill-color);\n",
              "      border-top-color: var(--fill-color);\n",
              "      border-right-color: var(--fill-color);\n",
              "    }\n",
              "    40% {\n",
              "      border-color: transparent;\n",
              "      border-right-color: var(--fill-color);\n",
              "      border-top-color: var(--fill-color);\n",
              "    }\n",
              "    60% {\n",
              "      border-color: transparent;\n",
              "      border-right-color: var(--fill-color);\n",
              "    }\n",
              "    80% {\n",
              "      border-color: transparent;\n",
              "      border-right-color: var(--fill-color);\n",
              "      border-bottom-color: var(--fill-color);\n",
              "    }\n",
              "    90% {\n",
              "      border-color: transparent;\n",
              "      border-bottom-color: var(--fill-color);\n",
              "    }\n",
              "  }\n",
              "</style>\n",
              "\n",
              "  <script>\n",
              "    async function quickchart(key) {\n",
              "      const quickchartButtonEl =\n",
              "        document.querySelector('#' + key + ' button');\n",
              "      quickchartButtonEl.disabled = true;  // To prevent multiple clicks.\n",
              "      quickchartButtonEl.classList.add('colab-df-spinner');\n",
              "      try {\n",
              "        const charts = await google.colab.kernel.invokeFunction(\n",
              "            'suggestCharts', [key], {});\n",
              "      } catch (error) {\n",
              "        console.error('Error during call to suggestCharts:', error);\n",
              "      }\n",
              "      quickchartButtonEl.classList.remove('colab-df-spinner');\n",
              "      quickchartButtonEl.classList.add('colab-df-quickchart-complete');\n",
              "    }\n",
              "    (() => {\n",
              "      let quickchartButtonEl =\n",
              "        document.querySelector('#df-089012d6-2efa-4119-995f-2de0b6b34631 button');\n",
              "      quickchartButtonEl.style.display =\n",
              "        google.colab.kernel.accessAllowed ? 'block' : 'none';\n",
              "    })();\n",
              "  </script>\n",
              "</div>\n",
              "    </div>\n",
              "  </div>\n"
            ]
          },
          "metadata": {}
        },
        {
          "output_type": "display_data",
          "data": {
            "text/plain": [
              "   Campaign_id             Geo    Buyer  Impressions  Clicks  Installs  \\\n",
              "0            1   north america  buyer_1      3456974  129508     33054   \n",
              "1            2   north america  buyer_2       245542    6306      3401   \n",
              "2            3   north america  buyer_1      1281103   35724     13315   \n",
              "3            4   north america  buyer_1       215538    9987      3119   \n",
              "4            5  western europe  buyer_2       335878    7343      3952   \n",
              "\n",
              "   Registrations        Spend Revenue_ad1d Revenue_in_app1d  Payers1d  \\\n",
              "0          21932  3208,440002  1163,521408       162,220001        64   \n",
              "1           2448  1569,519999   833,059639            37,25        17   \n",
              "2           8101  1231,999998     459,6826             3,26         4   \n",
              "3           1857  1228,129999    602,77816            26,13        11   \n",
              "4           2955   872,570005   427,807238        19,030001         4   \n",
              "\n",
              "  Revenue_ad7d Revenue_in_app7d  Payers7d Revenue_ad30d Revenue_in_app30d  \\\n",
              "0  1381,310062       199,749999        79   1527,013835        276,629998   \n",
              "1  1200,964697        69,340001        19   1449,001828        120,250001   \n",
              "2   524,987826             24,7         6    572,633765              24,7   \n",
              "3   830,113889        33,439999        12   1042,831595         57,530002   \n",
              "4   577,039081        20,640001         5    714,554179         32,150001   \n",
              "\n",
              "   Payers30d  \n",
              "0         83  \n",
              "1         22  \n",
              "2          6  \n",
              "3         12  \n",
              "4          6  "
            ],
            "text/html": [
              "\n",
              "  <div id=\"df-ec14e444-d749-4eb6-916b-1221fd0a2beb\" class=\"colab-df-container\">\n",
              "    <div>\n",
              "<style scoped>\n",
              "    .dataframe tbody tr th:only-of-type {\n",
              "        vertical-align: middle;\n",
              "    }\n",
              "\n",
              "    .dataframe tbody tr th {\n",
              "        vertical-align: top;\n",
              "    }\n",
              "\n",
              "    .dataframe thead th {\n",
              "        text-align: right;\n",
              "    }\n",
              "</style>\n",
              "<table border=\"1\" class=\"dataframe\">\n",
              "  <thead>\n",
              "    <tr style=\"text-align: right;\">\n",
              "      <th></th>\n",
              "      <th>Campaign_id</th>\n",
              "      <th>Geo</th>\n",
              "      <th>Buyer</th>\n",
              "      <th>Impressions</th>\n",
              "      <th>Clicks</th>\n",
              "      <th>Installs</th>\n",
              "      <th>Registrations</th>\n",
              "      <th>Spend</th>\n",
              "      <th>Revenue_ad1d</th>\n",
              "      <th>Revenue_in_app1d</th>\n",
              "      <th>Payers1d</th>\n",
              "      <th>Revenue_ad7d</th>\n",
              "      <th>Revenue_in_app7d</th>\n",
              "      <th>Payers7d</th>\n",
              "      <th>Revenue_ad30d</th>\n",
              "      <th>Revenue_in_app30d</th>\n",
              "      <th>Payers30d</th>\n",
              "    </tr>\n",
              "  </thead>\n",
              "  <tbody>\n",
              "    <tr>\n",
              "      <th>0</th>\n",
              "      <td>1</td>\n",
              "      <td>north america</td>\n",
              "      <td>buyer_1</td>\n",
              "      <td>3456974</td>\n",
              "      <td>129508</td>\n",
              "      <td>33054</td>\n",
              "      <td>21932</td>\n",
              "      <td>3208,440002</td>\n",
              "      <td>1163,521408</td>\n",
              "      <td>162,220001</td>\n",
              "      <td>64</td>\n",
              "      <td>1381,310062</td>\n",
              "      <td>199,749999</td>\n",
              "      <td>79</td>\n",
              "      <td>1527,013835</td>\n",
              "      <td>276,629998</td>\n",
              "      <td>83</td>\n",
              "    </tr>\n",
              "    <tr>\n",
              "      <th>1</th>\n",
              "      <td>2</td>\n",
              "      <td>north america</td>\n",
              "      <td>buyer_2</td>\n",
              "      <td>245542</td>\n",
              "      <td>6306</td>\n",
              "      <td>3401</td>\n",
              "      <td>2448</td>\n",
              "      <td>1569,519999</td>\n",
              "      <td>833,059639</td>\n",
              "      <td>37,25</td>\n",
              "      <td>17</td>\n",
              "      <td>1200,964697</td>\n",
              "      <td>69,340001</td>\n",
              "      <td>19</td>\n",
              "      <td>1449,001828</td>\n",
              "      <td>120,250001</td>\n",
              "      <td>22</td>\n",
              "    </tr>\n",
              "    <tr>\n",
              "      <th>2</th>\n",
              "      <td>3</td>\n",
              "      <td>north america</td>\n",
              "      <td>buyer_1</td>\n",
              "      <td>1281103</td>\n",
              "      <td>35724</td>\n",
              "      <td>13315</td>\n",
              "      <td>8101</td>\n",
              "      <td>1231,999998</td>\n",
              "      <td>459,6826</td>\n",
              "      <td>3,26</td>\n",
              "      <td>4</td>\n",
              "      <td>524,987826</td>\n",
              "      <td>24,7</td>\n",
              "      <td>6</td>\n",
              "      <td>572,633765</td>\n",
              "      <td>24,7</td>\n",
              "      <td>6</td>\n",
              "    </tr>\n",
              "    <tr>\n",
              "      <th>3</th>\n",
              "      <td>4</td>\n",
              "      <td>north america</td>\n",
              "      <td>buyer_1</td>\n",
              "      <td>215538</td>\n",
              "      <td>9987</td>\n",
              "      <td>3119</td>\n",
              "      <td>1857</td>\n",
              "      <td>1228,129999</td>\n",
              "      <td>602,77816</td>\n",
              "      <td>26,13</td>\n",
              "      <td>11</td>\n",
              "      <td>830,113889</td>\n",
              "      <td>33,439999</td>\n",
              "      <td>12</td>\n",
              "      <td>1042,831595</td>\n",
              "      <td>57,530002</td>\n",
              "      <td>12</td>\n",
              "    </tr>\n",
              "    <tr>\n",
              "      <th>4</th>\n",
              "      <td>5</td>\n",
              "      <td>western europe</td>\n",
              "      <td>buyer_2</td>\n",
              "      <td>335878</td>\n",
              "      <td>7343</td>\n",
              "      <td>3952</td>\n",
              "      <td>2955</td>\n",
              "      <td>872,570005</td>\n",
              "      <td>427,807238</td>\n",
              "      <td>19,030001</td>\n",
              "      <td>4</td>\n",
              "      <td>577,039081</td>\n",
              "      <td>20,640001</td>\n",
              "      <td>5</td>\n",
              "      <td>714,554179</td>\n",
              "      <td>32,150001</td>\n",
              "      <td>6</td>\n",
              "    </tr>\n",
              "  </tbody>\n",
              "</table>\n",
              "</div>\n",
              "    <div class=\"colab-df-buttons\">\n",
              "\n",
              "  <div class=\"colab-df-container\">\n",
              "    <button class=\"colab-df-convert\" onclick=\"convertToInteractive('df-ec14e444-d749-4eb6-916b-1221fd0a2beb')\"\n",
              "            title=\"Convert this dataframe to an interactive table.\"\n",
              "            style=\"display:none;\">\n",
              "\n",
              "  <svg xmlns=\"http://www.w3.org/2000/svg\" height=\"24px\" viewBox=\"0 -960 960 960\">\n",
              "    <path d=\"M120-120v-720h720v720H120Zm60-500h600v-160H180v160Zm220 220h160v-160H400v160Zm0 220h160v-160H400v160ZM180-400h160v-160H180v160Zm440 0h160v-160H620v160ZM180-180h160v-160H180v160Zm440 0h160v-160H620v160Z\"/>\n",
              "  </svg>\n",
              "    </button>\n",
              "\n",
              "  <style>\n",
              "    .colab-df-container {\n",
              "      display:flex;\n",
              "      gap: 12px;\n",
              "    }\n",
              "\n",
              "    .colab-df-convert {\n",
              "      background-color: #E8F0FE;\n",
              "      border: none;\n",
              "      border-radius: 50%;\n",
              "      cursor: pointer;\n",
              "      display: none;\n",
              "      fill: #1967D2;\n",
              "      height: 32px;\n",
              "      padding: 0 0 0 0;\n",
              "      width: 32px;\n",
              "    }\n",
              "\n",
              "    .colab-df-convert:hover {\n",
              "      background-color: #E2EBFA;\n",
              "      box-shadow: 0px 1px 2px rgba(60, 64, 67, 0.3), 0px 1px 3px 1px rgba(60, 64, 67, 0.15);\n",
              "      fill: #174EA6;\n",
              "    }\n",
              "\n",
              "    .colab-df-buttons div {\n",
              "      margin-bottom: 4px;\n",
              "    }\n",
              "\n",
              "    [theme=dark] .colab-df-convert {\n",
              "      background-color: #3B4455;\n",
              "      fill: #D2E3FC;\n",
              "    }\n",
              "\n",
              "    [theme=dark] .colab-df-convert:hover {\n",
              "      background-color: #434B5C;\n",
              "      box-shadow: 0px 1px 3px 1px rgba(0, 0, 0, 0.15);\n",
              "      filter: drop-shadow(0px 1px 2px rgba(0, 0, 0, 0.3));\n",
              "      fill: #FFFFFF;\n",
              "    }\n",
              "  </style>\n",
              "\n",
              "    <script>\n",
              "      const buttonEl =\n",
              "        document.querySelector('#df-ec14e444-d749-4eb6-916b-1221fd0a2beb button.colab-df-convert');\n",
              "      buttonEl.style.display =\n",
              "        google.colab.kernel.accessAllowed ? 'block' : 'none';\n",
              "\n",
              "      async function convertToInteractive(key) {\n",
              "        const element = document.querySelector('#df-ec14e444-d749-4eb6-916b-1221fd0a2beb');\n",
              "        const dataTable =\n",
              "          await google.colab.kernel.invokeFunction('convertToInteractive',\n",
              "                                                    [key], {});\n",
              "        if (!dataTable) return;\n",
              "\n",
              "        const docLinkHtml = 'Like what you see? Visit the ' +\n",
              "          '<a target=\"_blank\" href=https://colab.research.google.com/notebooks/data_table.ipynb>data table notebook</a>'\n",
              "          + ' to learn more about interactive tables.';\n",
              "        element.innerHTML = '';\n",
              "        dataTable['output_type'] = 'display_data';\n",
              "        await google.colab.output.renderOutput(dataTable, element);\n",
              "        const docLink = document.createElement('div');\n",
              "        docLink.innerHTML = docLinkHtml;\n",
              "        element.appendChild(docLink);\n",
              "      }\n",
              "    </script>\n",
              "  </div>\n",
              "\n",
              "\n",
              "<div id=\"df-db9e2ac1-5699-4b63-8567-f5476d0b2332\">\n",
              "  <button class=\"colab-df-quickchart\" onclick=\"quickchart('df-db9e2ac1-5699-4b63-8567-f5476d0b2332')\"\n",
              "            title=\"Suggest charts.\"\n",
              "            style=\"display:none;\">\n",
              "\n",
              "<svg xmlns=\"http://www.w3.org/2000/svg\" height=\"24px\"viewBox=\"0 0 24 24\"\n",
              "     width=\"24px\">\n",
              "    <g>\n",
              "        <path d=\"M19 3H5c-1.1 0-2 .9-2 2v14c0 1.1.9 2 2 2h14c1.1 0 2-.9 2-2V5c0-1.1-.9-2-2-2zM9 17H7v-7h2v7zm4 0h-2V7h2v10zm4 0h-2v-4h2v4z\"/>\n",
              "    </g>\n",
              "</svg>\n",
              "  </button>\n",
              "\n",
              "<style>\n",
              "  .colab-df-quickchart {\n",
              "      --bg-color: #E8F0FE;\n",
              "      --fill-color: #1967D2;\n",
              "      --hover-bg-color: #E2EBFA;\n",
              "      --hover-fill-color: #174EA6;\n",
              "      --disabled-fill-color: #AAA;\n",
              "      --disabled-bg-color: #DDD;\n",
              "  }\n",
              "\n",
              "  [theme=dark] .colab-df-quickchart {\n",
              "      --bg-color: #3B4455;\n",
              "      --fill-color: #D2E3FC;\n",
              "      --hover-bg-color: #434B5C;\n",
              "      --hover-fill-color: #FFFFFF;\n",
              "      --disabled-bg-color: #3B4455;\n",
              "      --disabled-fill-color: #666;\n",
              "  }\n",
              "\n",
              "  .colab-df-quickchart {\n",
              "    background-color: var(--bg-color);\n",
              "    border: none;\n",
              "    border-radius: 50%;\n",
              "    cursor: pointer;\n",
              "    display: none;\n",
              "    fill: var(--fill-color);\n",
              "    height: 32px;\n",
              "    padding: 0;\n",
              "    width: 32px;\n",
              "  }\n",
              "\n",
              "  .colab-df-quickchart:hover {\n",
              "    background-color: var(--hover-bg-color);\n",
              "    box-shadow: 0 1px 2px rgba(60, 64, 67, 0.3), 0 1px 3px 1px rgba(60, 64, 67, 0.15);\n",
              "    fill: var(--button-hover-fill-color);\n",
              "  }\n",
              "\n",
              "  .colab-df-quickchart-complete:disabled,\n",
              "  .colab-df-quickchart-complete:disabled:hover {\n",
              "    background-color: var(--disabled-bg-color);\n",
              "    fill: var(--disabled-fill-color);\n",
              "    box-shadow: none;\n",
              "  }\n",
              "\n",
              "  .colab-df-spinner {\n",
              "    border: 2px solid var(--fill-color);\n",
              "    border-color: transparent;\n",
              "    border-bottom-color: var(--fill-color);\n",
              "    animation:\n",
              "      spin 1s steps(1) infinite;\n",
              "  }\n",
              "\n",
              "  @keyframes spin {\n",
              "    0% {\n",
              "      border-color: transparent;\n",
              "      border-bottom-color: var(--fill-color);\n",
              "      border-left-color: var(--fill-color);\n",
              "    }\n",
              "    20% {\n",
              "      border-color: transparent;\n",
              "      border-left-color: var(--fill-color);\n",
              "      border-top-color: var(--fill-color);\n",
              "    }\n",
              "    30% {\n",
              "      border-color: transparent;\n",
              "      border-left-color: var(--fill-color);\n",
              "      border-top-color: var(--fill-color);\n",
              "      border-right-color: var(--fill-color);\n",
              "    }\n",
              "    40% {\n",
              "      border-color: transparent;\n",
              "      border-right-color: var(--fill-color);\n",
              "      border-top-color: var(--fill-color);\n",
              "    }\n",
              "    60% {\n",
              "      border-color: transparent;\n",
              "      border-right-color: var(--fill-color);\n",
              "    }\n",
              "    80% {\n",
              "      border-color: transparent;\n",
              "      border-right-color: var(--fill-color);\n",
              "      border-bottom-color: var(--fill-color);\n",
              "    }\n",
              "    90% {\n",
              "      border-color: transparent;\n",
              "      border-bottom-color: var(--fill-color);\n",
              "    }\n",
              "  }\n",
              "</style>\n",
              "\n",
              "  <script>\n",
              "    async function quickchart(key) {\n",
              "      const quickchartButtonEl =\n",
              "        document.querySelector('#' + key + ' button');\n",
              "      quickchartButtonEl.disabled = true;  // To prevent multiple clicks.\n",
              "      quickchartButtonEl.classList.add('colab-df-spinner');\n",
              "      try {\n",
              "        const charts = await google.colab.kernel.invokeFunction(\n",
              "            'suggestCharts', [key], {});\n",
              "      } catch (error) {\n",
              "        console.error('Error during call to suggestCharts:', error);\n",
              "      }\n",
              "      quickchartButtonEl.classList.remove('colab-df-spinner');\n",
              "      quickchartButtonEl.classList.add('colab-df-quickchart-complete');\n",
              "    }\n",
              "    (() => {\n",
              "      let quickchartButtonEl =\n",
              "        document.querySelector('#df-db9e2ac1-5699-4b63-8567-f5476d0b2332 button');\n",
              "      quickchartButtonEl.style.display =\n",
              "        google.colab.kernel.accessAllowed ? 'block' : 'none';\n",
              "    })();\n",
              "  </script>\n",
              "</div>\n",
              "    </div>\n",
              "  </div>\n"
            ]
          },
          "metadata": {}
        }
      ]
    },
    {
      "cell_type": "markdown",
      "source": [
        "### Сделаем название столбцов в нижнем регистре"
      ],
      "metadata": {
        "id": "u9hxfxTRmCse"
      }
    },
    {
      "cell_type": "code",
      "source": [
        "df.columns = df.columns.str.lower()"
      ],
      "metadata": {
        "id": "YwkAxUgvmBJZ"
      },
      "execution_count": 121,
      "outputs": []
    },
    {
      "cell_type": "code",
      "source": [
        "df.columns"
      ],
      "metadata": {
        "colab": {
          "base_uri": "https://localhost:8080/"
        },
        "id": "7ZEpFzsYmgyZ",
        "outputId": "d369d93e-73c3-4e9b-f601-80a1f0ad4172"
      },
      "execution_count": 122,
      "outputs": [
        {
          "output_type": "execute_result",
          "data": {
            "text/plain": [
              "Index(['campaign_id', 'geo', 'buyer', 'impressions', 'clicks', 'installs',\n",
              "       'registrations', 'spend', 'revenue_ad1d', 'revenue_in_app1d',\n",
              "       'payers1d', 'revenue_ad7d', 'revenue_in_app7d', 'payers7d',\n",
              "       'revenue_ad30d', 'revenue_in_app30d', 'payers30d'],\n",
              "      dtype='object')"
            ]
          },
          "metadata": {},
          "execution_count": 122
        }
      ]
    },
    {
      "cell_type": "markdown",
      "source": [
        "Приведём столбцы к нужному типу данных."
      ],
      "metadata": {
        "id": "2rr0-W2VnOo_"
      }
    },
    {
      "cell_type": "code",
      "source": [
        "df[['spend', 'revenue_ad1d', 'revenue_in_app1d', 'revenue_ad7d', 'revenue_in_app7d', 'revenue_ad30d', 'revenue_in_app30d']] = \\\n",
        "      df[['spend', 'revenue_ad1d', 'revenue_in_app1d', 'revenue_ad7d', 'revenue_in_app7d', 'revenue_ad30d', 'revenue_in_app30d']].replace(',', '.', regex=True)"
      ],
      "metadata": {
        "id": "nWJxNRwlomvQ"
      },
      "execution_count": 123,
      "outputs": []
    },
    {
      "cell_type": "code",
      "source": [
        "df[['spend', 'revenue_ad1d', 'revenue_in_app1d', 'revenue_ad7d', 'revenue_in_app7d', 'revenue_ad30d', 'revenue_in_app30d']] = \\\n",
        "          df[['spend', 'revenue_ad1d', 'revenue_in_app1d', 'revenue_ad7d', 'revenue_in_app7d', 'revenue_ad30d', 'revenue_in_app30d']].astype('float')"
      ],
      "metadata": {
        "id": "_viozdi2nNBS"
      },
      "execution_count": 124,
      "outputs": []
    },
    {
      "cell_type": "code",
      "source": [
        "df.info()"
      ],
      "metadata": {
        "colab": {
          "base_uri": "https://localhost:8080/"
        },
        "id": "vMwevWley17t",
        "outputId": "bcaf80cb-a1e9-4137-ed96-2ea93d998176"
      },
      "execution_count": 125,
      "outputs": [
        {
          "output_type": "stream",
          "name": "stdout",
          "text": [
            "<class 'pandas.core.frame.DataFrame'>\n",
            "RangeIndex: 87 entries, 0 to 86\n",
            "Data columns (total 17 columns):\n",
            " #   Column             Non-Null Count  Dtype  \n",
            "---  ------             --------------  -----  \n",
            " 0   campaign_id        87 non-null     int64  \n",
            " 1   geo                87 non-null     object \n",
            " 2   buyer              87 non-null     object \n",
            " 3   impressions        87 non-null     int64  \n",
            " 4   clicks             87 non-null     int64  \n",
            " 5   installs           87 non-null     int64  \n",
            " 6   registrations      87 non-null     int64  \n",
            " 7   spend              87 non-null     float64\n",
            " 8   revenue_ad1d       87 non-null     float64\n",
            " 9   revenue_in_app1d   87 non-null     float64\n",
            " 10  payers1d           87 non-null     int64  \n",
            " 11  revenue_ad7d       87 non-null     float64\n",
            " 12  revenue_in_app7d   87 non-null     float64\n",
            " 13  payers7d           87 non-null     int64  \n",
            " 14  revenue_ad30d      87 non-null     float64\n",
            " 15  revenue_in_app30d  87 non-null     float64\n",
            " 16  payers30d          87 non-null     int64  \n",
            "dtypes: float64(7), int64(8), object(2)\n",
            "memory usage: 11.7+ KB\n"
          ]
        }
      ]
    },
    {
      "cell_type": "markdown",
      "source": [
        "## Обработка пропусков"
      ],
      "metadata": {
        "id": "Ar44CQlJkHVK"
      }
    },
    {
      "cell_type": "code",
      "source": [
        "df.isna().sum()"
      ],
      "metadata": {
        "colab": {
          "base_uri": "https://localhost:8080/"
        },
        "id": "-BIfu3mpj_1a",
        "outputId": "021297a5-4618-4e84-f5ee-27447bd6932b"
      },
      "execution_count": 126,
      "outputs": [
        {
          "output_type": "execute_result",
          "data": {
            "text/plain": [
              "campaign_id          0\n",
              "geo                  0\n",
              "buyer                0\n",
              "impressions          0\n",
              "clicks               0\n",
              "installs             0\n",
              "registrations        0\n",
              "spend                0\n",
              "revenue_ad1d         0\n",
              "revenue_in_app1d     0\n",
              "payers1d             0\n",
              "revenue_ad7d         0\n",
              "revenue_in_app7d     0\n",
              "payers7d             0\n",
              "revenue_ad30d        0\n",
              "revenue_in_app30d    0\n",
              "payers30d            0\n",
              "dtype: int64"
            ]
          },
          "metadata": {},
          "execution_count": 126
        }
      ]
    },
    {
      "cell_type": "markdown",
      "source": [
        "Пропусков не обнаружено."
      ],
      "metadata": {
        "id": "1I96l-TUkPZb"
      }
    },
    {
      "cell_type": "markdown",
      "source": [
        "## Обработка дубликатов"
      ],
      "metadata": {
        "id": "qwtwNCj5kSCF"
      }
    },
    {
      "cell_type": "code",
      "source": [
        "df.duplicated().sum()"
      ],
      "metadata": {
        "colab": {
          "base_uri": "https://localhost:8080/"
        },
        "id": "efF33Nz2kNCy",
        "outputId": "d34c603a-6773-440f-b659-1be3450ad3b4"
      },
      "execution_count": 127,
      "outputs": [
        {
          "output_type": "execute_result",
          "data": {
            "text/plain": [
              "0"
            ]
          },
          "metadata": {},
          "execution_count": 127
        }
      ]
    },
    {
      "cell_type": "markdown",
      "source": [
        "Дубликатов не обнаружено."
      ],
      "metadata": {
        "id": "Nt-g_QqnkqjB"
      }
    },
    {
      "cell_type": "markdown",
      "source": [
        "# Анализ данных"
      ],
      "metadata": {
        "id": "jRPNVtRylhyt"
      }
    },
    {
      "cell_type": "markdown",
      "source": [
        "За целевое действие примем два параметра: количество установок и количество регистраций."
      ],
      "metadata": {
        "id": "q2aJ7AMez63J"
      }
    },
    {
      "cell_type": "markdown",
      "source": [
        "## Conversion Rate или Коэффициент Конверсии"
      ],
      "metadata": {
        "id": "eimJSZJQtYpJ"
      }
    },
    {
      "cell_type": "code",
      "source": [
        "#конверсия установок\n",
        "cr_installs = df.groupby('buyer')['installs'].sum() / df.groupby('buyer')['impressions'].sum() * 100\n",
        "print('Конверсия установок', cr_installs.sort_values(ascending=False))"
      ],
      "metadata": {
        "colab": {
          "base_uri": "https://localhost:8080/"
        },
        "id": "McaeJ7bXuit0",
        "outputId": "e3be96e6-4028-4d3a-f1b0-d6da0a04ede0"
      },
      "execution_count": 128,
      "outputs": [
        {
          "output_type": "stream",
          "name": "stdout",
          "text": [
            "Конверсия установок buyer\n",
            "buyer_2    1.277468\n",
            "buyer_3    1.129858\n",
            "buyer_1    1.013954\n",
            "buyer_5    0.999892\n",
            "buyer_4    0.852622\n",
            "dtype: float64\n"
          ]
        }
      ]
    },
    {
      "cell_type": "markdown",
      "source": [
        "Очень низкая конверсия для установок."
      ],
      "metadata": {
        "id": "ve3VZVPivbUG"
      }
    },
    {
      "cell_type": "code",
      "source": [
        "#конверсия регистраций\n",
        "cr_registrations = df.groupby('buyer')['registrations'].sum() / df.groupby('buyer')['impressions'].sum() * 100\n",
        "print('Конверсия регистраций', cr_registrations.sort_values(ascending=False))"
      ],
      "metadata": {
        "colab": {
          "base_uri": "https://localhost:8080/"
        },
        "id": "CQ8HhTAJvalz",
        "outputId": "4274226c-8edc-47c7-dab1-9eb0dcae7d8f"
      },
      "execution_count": 129,
      "outputs": [
        {
          "output_type": "stream",
          "name": "stdout",
          "text": [
            "Конверсия регистраций buyer\n",
            "buyer_2    0.771124\n",
            "buyer_3    0.763642\n",
            "buyer_5    0.686623\n",
            "buyer_1    0.643664\n",
            "buyer_4    0.547268\n",
            "dtype: float64\n"
          ]
        }
      ]
    },
    {
      "cell_type": "markdown",
      "source": [
        "Конверсия регистраций достаточно низкая."
      ],
      "metadata": {
        "id": "VVw3rVGUvw1k"
      }
    },
    {
      "cell_type": "markdown",
      "source": [
        "## Click-Through Rate или Кликабельность"
      ],
      "metadata": {
        "id": "o0GQDCNCv8zt"
      }
    },
    {
      "cell_type": "code",
      "source": [
        "#кликабельность\n",
        "ctr = df.groupby('buyer')['clicks'].sum() / df.groupby('buyer')['impressions'].sum() * 100\n",
        "print('Кликабельность', ctr.sort_values(ascending=False))"
      ],
      "metadata": {
        "colab": {
          "base_uri": "https://localhost:8080/"
        },
        "id": "wWpekvaTtg88",
        "outputId": "b7962ff6-4d5b-4504-e66a-5cdb28692239"
      },
      "execution_count": 130,
      "outputs": [
        {
          "output_type": "stream",
          "name": "stdout",
          "text": [
            "Кликабельность buyer\n",
            "buyer_1    3.633500\n",
            "buyer_3    3.348850\n",
            "buyer_5    3.228702\n",
            "buyer_2    2.601415\n",
            "buyer_4    2.284233\n",
            "dtype: float64\n"
          ]
        }
      ]
    },
    {
      "cell_type": "markdown",
      "source": [
        "Поскольку процент ниже 6, стоит отредактировать рекламную кампанию, чтобы было 7-9 процентов."
      ],
      "metadata": {
        "id": "qdxafQy9wV9e"
      }
    },
    {
      "cell_type": "markdown",
      "source": [
        "# Cost per Click или Цена за Один Клик по Рекламе"
      ],
      "metadata": {
        "id": "ND7wK4UjxvuV"
      }
    },
    {
      "cell_type": "code",
      "source": [
        "#цена за один клик по рекламе\n",
        "cpc = df.groupby('buyer')['spend'].sum() / df.groupby('buyer')['clicks'].sum()\n",
        "print('Цена за один клик по рекламе', cpc.sort_values())"
      ],
      "metadata": {
        "colab": {
          "base_uri": "https://localhost:8080/"
        },
        "id": "Fbvj3oxap_TN",
        "outputId": "d579d817-8bdb-4704-9b42-e6829cf0ab5d"
      },
      "execution_count": 131,
      "outputs": [
        {
          "output_type": "stream",
          "name": "stdout",
          "text": [
            "Цена за один клик по рекламе buyer\n",
            "buyer_5    0.017966\n",
            "buyer_1    0.031808\n",
            "buyer_2    0.143919\n",
            "buyer_4    0.160060\n",
            "buyer_3    0.173417\n",
            "dtype: float64\n"
          ]
        }
      ]
    },
    {
      "cell_type": "markdown",
      "source": [
        " Цена за один клик достаточно низкая, что несомненно является хорошим показателем."
      ],
      "metadata": {
        "id": "t28FVaORzOhJ"
      }
    },
    {
      "cell_type": "markdown",
      "source": [
        "## Cost per Action или  это Цена Одного Целевого Действия Пользователя"
      ],
      "metadata": {
        "id": "19iehlp8zgUS"
      }
    },
    {
      "cell_type": "markdown",
      "source": [
        "### Cost per Install"
      ],
      "metadata": {
        "id": "nOxhisVB1JAk"
      }
    },
    {
      "cell_type": "code",
      "source": [
        "#цена за один клик по рекламе для установки\n",
        "cpi = df.groupby('buyer')['spend'].sum() / df.groupby('buyer')['installs'].sum()\n",
        "print('Цена за одну установку', cpi.sort_values())"
      ],
      "metadata": {
        "colab": {
          "base_uri": "https://localhost:8080/"
        },
        "id": "B_y1y6hNyW47",
        "outputId": "40853094-228f-4c4b-83d7-abac79a4cf4a"
      },
      "execution_count": 132,
      "outputs": [
        {
          "output_type": "stream",
          "name": "stdout",
          "text": [
            "Цена за одну установку buyer\n",
            "buyer_5    0.058013\n",
            "buyer_1    0.113983\n",
            "buyer_2    0.293074\n",
            "buyer_4    0.428812\n",
            "buyer_3    0.514002\n",
            "dtype: float64\n"
          ]
        }
      ]
    },
    {
      "cell_type": "markdown",
      "source": [
        "Цена за одну установку низкая, что тоже хорошо."
      ],
      "metadata": {
        "id": "dBY8eFo93a6G"
      }
    },
    {
      "cell_type": "markdown",
      "source": [
        "### Cost per Registrations"
      ],
      "metadata": {
        "id": "h9rJFhIv1smI"
      }
    },
    {
      "cell_type": "code",
      "source": [
        "#цена за один клик по рекламе для регистраций\n",
        "cpr = df.groupby('buyer')['spend'].sum() / df.groupby('buyer')['registrations'].sum()\n",
        "print('Цена за одну регистрацию', cpr.sort_values())"
      ],
      "metadata": {
        "colab": {
          "base_uri": "https://localhost:8080/"
        },
        "id": "QlqZNv260Vq1",
        "outputId": "54333baf-684e-474c-fcc2-fbe0c4bea8e5"
      },
      "execution_count": 133,
      "outputs": [
        {
          "output_type": "stream",
          "name": "stdout",
          "text": [
            "Цена за одну регистрацию buyer\n",
            "buyer_5    0.084481\n",
            "buyer_1    0.179556\n",
            "buyer_2    0.485516\n",
            "buyer_4    0.668074\n",
            "buyer_3    0.760498\n",
            "dtype: float64\n"
          ]
        }
      ]
    },
    {
      "cell_type": "markdown",
      "source": [
        "Допустимое значение у всех байеров."
      ],
      "metadata": {
        "id": "G1TtO3OP3swH"
      }
    },
    {
      "cell_type": "markdown",
      "source": [
        "## Customer Acquisition Cost или Стоимость Привлечения Клиента"
      ],
      "metadata": {
        "id": "CRS2jK-q4eMM"
      }
    },
    {
      "cell_type": "code",
      "source": [
        "#стоимость привлечения одного пользователя на 1 жизни\n",
        "cac1d = df.groupby('buyer')['spend'].sum() / df.groupby('buyer')['payers1d'].sum()\n",
        "print('Цена за привлечения одного клиента на 1 день жизни', cac1d.sort_values())"
      ],
      "metadata": {
        "colab": {
          "base_uri": "https://localhost:8080/"
        },
        "id": "Z-liHoR60008",
        "outputId": "56d57f41-c62a-442a-a984-5b1a6d083721"
      },
      "execution_count": 134,
      "outputs": [
        {
          "output_type": "stream",
          "name": "stdout",
          "text": [
            "Цена за привлечения одного клиента на 1 день жизни buyer\n",
            "buyer_1     74.341753\n",
            "buyer_4     87.774616\n",
            "buyer_3    122.107501\n",
            "buyer_2    144.509000\n",
            "buyer_5    641.039996\n",
            "dtype: float64\n"
          ]
        }
      ]
    },
    {
      "cell_type": "code",
      "source": [
        "#стоимость удержания одного пользователя на 7 день жизки\n",
        "cac7d = df.groupby('buyer')['spend'].sum() / df.groupby('buyer')['payers7d'].sum()\n",
        "print('Цена за привлечения одного клиента на 7 день жизни', cac7d.sort_values())"
      ],
      "metadata": {
        "colab": {
          "base_uri": "https://localhost:8080/"
        },
        "id": "bIm8SL7p44Sw",
        "outputId": "ee3630c8-bffb-4103-ee32-c377b16cf0fd"
      },
      "execution_count": 135,
      "outputs": [
        {
          "output_type": "stream",
          "name": "stdout",
          "text": [
            "Цена за привлечения одного клиента на 7 день жизни buyer\n",
            "buyer_1     61.111441\n",
            "buyer_4     87.774616\n",
            "buyer_3     93.034286\n",
            "buyer_2    104.716667\n",
            "buyer_5    641.039996\n",
            "dtype: float64\n"
          ]
        }
      ]
    },
    {
      "cell_type": "code",
      "source": [
        "#стоимость удержания одного пользователя на 30 день жизни\n",
        "cac30d = df.groupby('buyer')['spend'].sum() / df.groupby('buyer')['payers30d'].sum()\n",
        "print('Цена за привлечения одного клиента на 30 день жизни', cac30d.sort_values())"
      ],
      "metadata": {
        "colab": {
          "base_uri": "https://localhost:8080/"
        },
        "id": "xS3wrEuF7TO2",
        "outputId": "edbd5e23-922d-4b47-fa63-8c504f318596"
      },
      "execution_count": 136,
      "outputs": [
        {
          "output_type": "stream",
          "name": "stdout",
          "text": [
            "Цена за привлечения одного клиента на 30 день жизни buyer\n",
            "buyer_1     58.154435\n",
            "buyer_3     75.143077\n",
            "buyer_4     81.505000\n",
            "buyer_2     91.461392\n",
            "buyer_5    320.519998\n",
            "dtype: float64\n"
          ]
        }
      ]
    },
    {
      "cell_type": "markdown",
      "source": [
        "Стоимость удержания пользователей ниже стоимости привлечения пользователей, что логично."
      ],
      "metadata": {
        "id": "VnX_6P8e7jtF"
      }
    },
    {
      "cell_type": "markdown",
      "source": [
        "## Average Revenue per User или Средний Доход от Каждого Активного Пользователя"
      ],
      "metadata": {
        "id": "cPIqZ6M17y9J"
      }
    },
    {
      "cell_type": "code",
      "source": [
        "#средний доход от каждого активного пользователя на 1 день жизни\n",
        "arpu1d = (df.groupby('buyer')['revenue_ad1d'].sum() + df.groupby('buyer')['revenue_in_app1d'].sum()) / df.groupby('buyer')['payers1d'].sum()\n",
        "print('Средний доход одного клиента на 1 день жизни', arpu1d.sort_values(ascending=False))"
      ],
      "metadata": {
        "colab": {
          "base_uri": "https://localhost:8080/"
        },
        "id": "nSa6RBQy8AMh",
        "outputId": "b721614e-2164-4ce9-e88c-1c515aa11363"
      },
      "execution_count": 137,
      "outputs": [
        {
          "output_type": "stream",
          "name": "stdout",
          "text": [
            "Средний доход одного клиента на 1 день жизни buyer\n",
            "buyer_5    131.563054\n",
            "buyer_2     68.272317\n",
            "buyer_3     68.159396\n",
            "buyer_4     40.909665\n",
            "buyer_1     30.063525\n",
            "dtype: float64\n"
          ]
        }
      ]
    },
    {
      "cell_type": "code",
      "source": [
        "#средний доход от каждого активного пользователя на 7 день жизни\n",
        "arpu7d = (df.groupby('buyer')['revenue_ad7d'].sum() + df.groupby('buyer')['revenue_in_app7d'].sum()) / df.groupby('buyer')['payers7d'].sum()\n",
        "print('Средний доход одного клиента на 1 день жизни', arpu7d.sort_values(ascending=False))"
      ],
      "metadata": {
        "colab": {
          "base_uri": "https://localhost:8080/"
        },
        "id": "2-KJfzfO8g_E",
        "outputId": "a7d59e88-3c18-4d28-8d3b-75833edb667b"
      },
      "execution_count": 138,
      "outputs": [
        {
          "output_type": "stream",
          "name": "stdout",
          "text": [
            "Средний доход одного клиента на 1 день жизни buyer\n",
            "buyer_5    193.016670\n",
            "buyer_3     75.129542\n",
            "buyer_2     69.759179\n",
            "buyer_4     55.669872\n",
            "buyer_1     30.839975\n",
            "dtype: float64\n"
          ]
        }
      ]
    },
    {
      "cell_type": "code",
      "source": [
        "#средний доход от каждого активного пользователя на 30 день жизни\n",
        "arpu30d = (df.groupby('buyer')['revenue_ad30d'].sum() + df.groupby('buyer')['revenue_in_app30d'].sum()) / df.groupby('buyer')['payers30d'].sum()\n",
        "print('Средний доход одного клиента на 1 день жизни', arpu30d.sort_values(ascending=False))"
      ],
      "metadata": {
        "colab": {
          "base_uri": "https://localhost:8080/"
        },
        "id": "sKJ5C7OR9Cwv",
        "outputId": "aebca596-0aa5-4862-c8de-24bc0169768c"
      },
      "execution_count": 139,
      "outputs": [
        {
          "output_type": "stream",
          "name": "stdout",
          "text": [
            "Средний доход одного клиента на 1 день жизни buyer\n",
            "buyer_5    107.472795\n",
            "buyer_3     83.018035\n",
            "buyer_2     75.751907\n",
            "buyer_4     68.753098\n",
            "buyer_1     34.586272\n",
            "dtype: float64\n"
          ]
        }
      ]
    },
    {
      "cell_type": "markdown",
      "source": [
        "Больше всего дохода приносит buyer_5, но нужно посмотреть, сколько прибыли исходит от всех байеров."
      ],
      "metadata": {
        "id": "I0v4q9i89dkE"
      }
    },
    {
      "cell_type": "markdown",
      "source": [
        "## Прибыль"
      ],
      "metadata": {
        "id": "d8YkSmHi9oNS"
      }
    },
    {
      "cell_type": "code",
      "source": [
        "profit1d = arpu1d - cac1d\n",
        "print('Прибыль байеров на 1 день жизни пользователей', profit1d.sort_values(ascending=False))"
      ],
      "metadata": {
        "colab": {
          "base_uri": "https://localhost:8080/"
        },
        "id": "y4X9XmuX9YXy",
        "outputId": "0a2025ce-658f-473f-d0bd-551ba545b0f3"
      },
      "execution_count": 140,
      "outputs": [
        {
          "output_type": "stream",
          "name": "stdout",
          "text": [
            "Прибыль байеров на 1 день жизни пользователей buyer\n",
            "buyer_1    -44.278228\n",
            "buyer_4    -46.864951\n",
            "buyer_3    -53.948104\n",
            "buyer_2    -76.236683\n",
            "buyer_5   -509.476942\n",
            "dtype: float64\n"
          ]
        }
      ]
    },
    {
      "cell_type": "code",
      "source": [
        "profit7d = arpu7d - cac7d\n",
        "print('Прибыль байеров на 7 день жизни пользователей', profit7d.sort_values(ascending=False))"
      ],
      "metadata": {
        "colab": {
          "base_uri": "https://localhost:8080/"
        },
        "id": "JwchUvPO-hQ8",
        "outputId": "49157a99-39ae-4155-aef6-0ea9238146f6"
      },
      "execution_count": 141,
      "outputs": [
        {
          "output_type": "stream",
          "name": "stdout",
          "text": [
            "Прибыль байеров на 7 день жизни пользователей buyer\n",
            "buyer_3    -17.904744\n",
            "buyer_1    -30.271465\n",
            "buyer_4    -32.104744\n",
            "buyer_2    -34.957488\n",
            "buyer_5   -448.023326\n",
            "dtype: float64\n"
          ]
        }
      ]
    },
    {
      "cell_type": "code",
      "source": [
        "profit30d = arpu30d - cac30d\n",
        "print('Прибыль байеров на 30 день жизни пользователей', profit30d.sort_values(ascending=False))"
      ],
      "metadata": {
        "colab": {
          "base_uri": "https://localhost:8080/"
        },
        "id": "r2kz3PM0_B34",
        "outputId": "3a28d456-d375-46f4-b517-8734c1614afa"
      },
      "execution_count": 142,
      "outputs": [
        {
          "output_type": "stream",
          "name": "stdout",
          "text": [
            "Прибыль байеров на 30 день жизни пользователей buyer\n",
            "buyer_3      7.874957\n",
            "buyer_4    -12.751902\n",
            "buyer_2    -15.709486\n",
            "buyer_1    -23.568163\n",
            "buyer_5   -213.047203\n",
            "dtype: float64\n"
          ]
        }
      ]
    },
    {
      "cell_type": "markdown",
      "source": [
        "## Вывод"
      ],
      "metadata": {
        "id": "B-lgAXZiAIdu"
      }
    },
    {
      "cell_type": "markdown",
      "source": [
        "Несмотря на то, что buyer_3 имеет самую высокую цену за установку (CPI) и за регистрацию (CRP), убыли он приносит меньше всех остальных, а на 30 день жизни пользователя начинает приносить прибыль."
      ],
      "metadata": {
        "id": "9NbLsfBqALDD"
      }
    },
    {
      "cell_type": "code",
      "source": [],
      "metadata": {
        "id": "Rpf9JQN-AsY_"
      },
      "execution_count": null,
      "outputs": []
    }
  ]
}